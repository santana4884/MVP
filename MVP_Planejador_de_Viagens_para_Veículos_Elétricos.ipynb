{
  "nbformat": 4,
  "nbformat_minor": 0,
  "metadata": {
    "colab": {
      "provenance": []
    },
    "kernelspec": {
      "name": "python3",
      "display_name": "Python 3"
    },
    "language_info": {
      "name": "python"
    }
  },
  "cells": [
    {
      "cell_type": "markdown",
      "source": [
        "# MVP: Planejador de Viagens para Veículos Elétricos\n",
        "\n",
        "**Nome:** Seu Nome Completo  \n",
        "**Matrícula:** Sua Matrícula\n",
        "\n",
        "---"
      ],
      "metadata": {
        "id": "3-mHceWLPECa"
      }
    },
    {
      "cell_type": "markdown",
      "source": [
        "## 1. Introdução e Definição do Problema\n",
        "\n",
        "Com o crescimento do mercado de veículos elétricos (VEs), uma das maiores preocupações dos consumidores é a \"ansiedade de autonomia\" (range anxiety), o medo de ficar sem bateria durante uma viagem. A viabilidade de viagens de longa distância no Brasil depende diretamente da existência e distribuição de uma infraestrutura de recarga robusta.\n",
        "\n",
        "O objetivo deste projeto é analisar a base de dados do Open Charge Map para entender a distribuição, densidade e características das estações de recarga no Brasil e, a partir dessa análise, desenvolver uma ferramenta interativa para simular a viabilidade de rotas.\n",
        "\n",
        "### 1.1. Hipóteses Iniciais\n",
        "* **H1:** A infraestrutura de recarga é massivamente concentrada nas regiões Sul e Sudeste do Brasil.\n",
        "* **H2:** A rede de carregadores rápidos (DC), essencial para viagens, é escassa ou de difícil acesso público.\n",
        "* **H3:** Rotas entre grandes capitais como São Paulo e Rio de Janeiro são viáveis, mesmo considerando apenas carregadores de recarga mais lenta (AC).\n",
        "\n",
        "### 1.2. Fonte e Descrição dos Dados\n",
        "Os dados foram coletados via API do **Open Charge Map (OCM)**, uma base de dados global e colaborativa de pontos de recarga. Foram extraídos todos os pontos localizados no Brasil na data de 01/07/2025, totalizando 514 registros iniciais. Os principais atributos analisados foram a localização (`AddressInfo`), o tipo de acesso (`UsageType`) e o status operacional (`StatusType`)."
      ],
      "metadata": {
        "id": "PhOlXllbPl7Z"
      }
    },
    {
      "cell_type": "markdown",
      "source": [
        "# 2. Importação das Bibliotecas Necessárias e Carga de Dados\n",
        "\n",
        "Esta seção consolida todas as importações de bibliotecas necessárias para a análise, visualização e pré-processamento dos dados, bem como o carregamento inicial dos dados da API do Open Charge Map (OCM)"
      ],
      "metadata": {
        "id": "aUDdUmclQmTD"
      }
    },
    {
      "cell_type": "markdown",
      "source": [
        "### 2.1. Instalação de Bibliotecas Adicionais"
      ],
      "metadata": {
        "id": "AfAfN93ySJwZ"
      }
    },
    {
      "cell_type": "code",
      "source": [
        "print(\"Instalando bibliotecas necessárias...\")\n",
        "!pip install openrouteservice -q\n",
        "!pip install shapely -q\n",
        "print(\"✅ Bibliotecas prontas.\")"
      ],
      "metadata": {
        "colab": {
          "base_uri": "https://localhost:8080/"
        },
        "id": "S9e-ssiJScU0",
        "outputId": "de0a4f6a-1b33-465f-e700-03b726b226fe"
      },
      "execution_count": null,
      "outputs": [
        {
          "output_type": "stream",
          "name": "stdout",
          "text": [
            "Instalando bibliotecas necessárias...\n",
            "^C\n"
          ]
        }
      ]
    },
    {
      "cell_type": "markdown",
      "source": [
        "### 2.2. Importação de Todas as Bibliotecas"
      ],
      "metadata": {
        "id": "HwuxpSoWSdmP"
      }
    },
    {
      "cell_type": "code",
      "source": [
        "print(\"Importando Bibliotecas necessárias...\")\n",
        "import pandas as pd\n",
        "import numpy as np\n",
        "import math\n",
        "import requests\n",
        "import folium\n",
        "import openrouteservice\n",
        "import ipywidgets as widgets\n",
        "from IPython.display import display\n",
        "from shapely.geometry import Point, LineString\n",
        "from geopy.distance import geodesic\n",
        "import matplotlib.pyplot as plt\n",
        "import seaborn as sns\n",
        "import ast\n",
        "import plotly.graph_objects as go\n",
        "import time\n",
        "\n",
        "# Habilita o gerenciador de widgets para o Google Colab\n",
        "from google.colab import output\n",
        "output.enable_custom_widget_manager()\n",
        "print(\"✅ Bibliotecas Importadas.\")"
      ],
      "metadata": {
        "id": "fF_YBiYzQoAO"
      },
      "execution_count": null,
      "outputs": []
    },
    {
      "cell_type": "markdown",
      "source": [
        "2.3. Carregamento dos Dados da API Open Charge Map"
      ],
      "metadata": {
        "id": "Qjl1CguXSqBO"
      }
    },
    {
      "cell_type": "code",
      "source": [
        "api_key = \"3911ea9f-e173-415f-995a-4b8b8140012c\"\n",
        "url = f'https://api.openchargemap.io/v3/poi/?output=json&countrycode=BR&maxresults=10000&key={api_key}'\n",
        "\n",
        "print(\"\\nBuscando dados da API do Open Charge Map para importar no gitHub...\")\n",
        "try:\n",
        "    response = requests.get(url)\n",
        "    response.raise_for_status()\n",
        "    data = response.json()\n",
        "    # Cria o DataFrame principal que será usado em todo o projeto\n",
        "    df = pd.json_normalize(data)\n",
        "    print(f\"✅ Sucesso! {len(df)} registros de pontos de recarga foram carregados para o Brasil.\")\n",
        "except Exception as e:\n",
        "    print(f\"❌ Erro ao buscar dados da API: {e}\")"
      ],
      "metadata": {
        "id": "UwyZIzxHSpNK"
      },
      "execution_count": null,
      "outputs": []
    },
    {
      "cell_type": "code",
      "source": [
        "df.to_csv('dataset_carregadores_brasil.csv', index=False)\n",
        "print(\"Arquivo 'dataset_carregadores_brasil.csv' criado com sucesso!\")"
      ],
      "metadata": {
        "id": "i1yYepH-sKRY"
      },
      "execution_count": null,
      "outputs": []
    },
    {
      "cell_type": "code",
      "source": [
        "\n",
        "url_dataset = 'https://raw.githubusercontent.com/santana4884/MVP-_Planejador_de_Viagens_para_Ve-culos_El-tricos/refs/heads/main/dataset_carregadores_brasil.csv'\n",
        "\n",
        "print(\"Carregando dataset a partir do repositório no GitHub...\")\n",
        "try:\n",
        "    # Cria o DataFrame principal a partir do arquivo CSV do seu repositório\n",
        "    df = pd.read_csv(url_dataset)\n",
        "    print(f\"✅ Sucesso! {len(df)} registros carregados do seu repositório.\")\n",
        "except Exception as e:\n",
        "    print(f\"❌ Erro ao carregar o dataset do GitHub: {e}\")\n",
        "    print(\"Verifique se a URL raw está correta e se o arquivo CSV está no seu repositório.\")"
      ],
      "metadata": {
        "id": "Hw1KYcrCri3b"
      },
      "execution_count": null,
      "outputs": []
    },
    {
      "cell_type": "markdown",
      "source": [
        "## 3. Análise Exploratória e Limpeza dos Dados\n",
        "Nesta seção, realizamos uma análise inicial para entender a estrutura dos dados e identificar inconsistências, aplicando as correções necessárias para garantir a qualidade das análises futuras."
      ],
      "metadata": {
        "id": "KYUqjSKuTUpH"
      }
    },
    {
      "cell_type": "markdown",
      "source": [
        "### 3.1. Distribuição Geográfica Geral dos Pontos de Recarga\n",
        "\n",
        "Após a carga inicial e a verificação da estrutura dos dados, o primeiro passo da nossa exploração é visualizar a distribuição geográfica de todos os pontos de recarga no Brasil. Um mapa interativo nos permite ter uma percepção imediata da densidade da infraestrutura e validar visualmente nossa primeira hipótese sobre a concentração regional."
      ],
      "metadata": {
        "id": "g37L1_n9W9SN"
      }
    },
    {
      "cell_type": "code",
      "source": [
        "import plotly.express as px\n",
        "\n",
        "print(\"Gerando mapa interativo de distribuição geográfica...\")\n",
        "\n",
        "# Usando o DataFrame 'df' inicial, antes de qualquer filtro\n",
        "fig = px.scatter_mapbox(df,\n",
        "                        lat=\"AddressInfo.Latitude\",\n",
        "                        lon=\"AddressInfo.Longitude\",\n",
        "                        hover_name=\"AddressInfo.Title\",\n",
        "                        hover_data={\"AddressInfo.Town\": True, \"OperatorInfo.Title\": True, \"AddressInfo.StateOrProvince\": True},\n",
        "                        color_discrete_sequence=[\"#0047AB\"],\n",
        "                        zoom=3,\n",
        "                        height=500,\n",
        "                        title=\"Distribuição de Carregadores de VE no Brasil\")\n",
        "\n",
        "fig.update_layout(mapbox_style=\"open-street-map\")\n",
        "fig.update_layout(margin={\"r\":0,\"t\":50,\"l\":0,\"b\":0}, title_font_size=20)\n",
        "fig.show()"
      ],
      "metadata": {
        "id": "QEfetezEXBxo"
      },
      "execution_count": null,
      "outputs": []
    },
    {
      "cell_type": "markdown",
      "source": [
        "### Análise do Mapa de Distribuição\n",
        "\n",
        "* **Confirmação da Hipótese 1:** O mapa confirma de forma contundente a hipótese de que a infraestrutura de recarga é massivamente concentrada nas regiões Sul e Sudeste, com um claro adensamento no eixo litorâneo e nas capitais.\n",
        "* **Identificação de \"Desertos de Recarga\":** É notável a escassez de pontos nas vastas áreas das regiões Norte, Nordeste e Centro-Oeste, o que indica um grande desafio para a viabilidade de viagens elétricas nessas localidades. Esta visualização inicial já direciona o foco da nossa análise para as disparidades regionais."
      ],
      "metadata": {
        "id": "vfK1Qy9DZlYY"
      }
    },
    {
      "cell_type": "markdown",
      "source": [
        "### 3.2. Padronização dos Nomes dos Estados"
      ],
      "metadata": {
        "id": "i2VjvwP0XNvS"
      }
    },
    {
      "cell_type": "code",
      "source": [
        "print(\"Verificando a consistência dos nomes dos estados...\")\n",
        "# Remove espaços em branco extras no início e no fim\n",
        "df['AddressInfo.StateOrProvince'] = df['AddressInfo.StateOrProvince'].str.strip()\n",
        "\n",
        "# Mapa de correção para padronizar os nomes e siglas\n",
        "mapa_de_correcao = {\n",
        "    # São Paulo\n",
        "    'SP': 'São Paulo', 'Sao Paulo': 'São Paulo', 'sao paulo': 'São Paulo', 'Sp': 'São Paulo',\n",
        "    'Região Metropolitana de São Paulo': 'São Paulo', 'Indaiatuba - SP': 'São Paulo', 'São paulo': 'São Paulo',\n",
        "\n",
        "    # Rio de Janeiro\n",
        "    'RJ': 'Rio de Janeiro', 'rio de janeiro': 'Rio de Janeiro', 'Too de Janeiro': 'Rio de Janeiro', # Corrigindo o erro de digitação\n",
        "\n",
        "    # Paraná\n",
        "    'Parana': 'Paraná', 'PR': 'Paraná', 'paraná': 'Paraná',\n",
        "\n",
        "    # Santa Catarina\n",
        "    'SC': 'Santa Catarina',\n",
        "\n",
        "    # Rio Grande do Sul\n",
        "    'rio grande do sul': 'Rio Grande do Sul', 'RS': 'Rio Grande do Sul', 'Río Grande do Sul': 'Rio Grande do Sul',\n",
        "    'Metropolitan Region of Porto Alegre': 'Rio Grande do Sul',\n",
        "\n",
        "    # Minas Gerais\n",
        "    'mg': 'Minas Gerais', 'MG': 'Minas Gerais', 'minas gerais': 'Minas Gerais',\n",
        "\n",
        "    # Bahia\n",
        "    'Barreiras - BA': 'Bahia', 'BA': 'Bahia',\n",
        "\n",
        "    # Piauí\n",
        "    'CORRENTE/PI': 'Piauí', 'Piaui': 'Piauí', 'PI': 'Piauí',\n",
        "\n",
        "    # Maranhão\n",
        "    'MA': 'Maranhão',\n",
        "\n",
        "    # Sergipe\n",
        "    'SE': 'Sergipe',\n",
        "\n",
        "    # Rio Grande do Norte\n",
        "    'RN': 'Rio Grande do Norte',\n",
        "\n",
        "    # Ceará\n",
        "    'Ceara': 'Ceará', 'CE': 'Ceará',\n",
        "\n",
        "    # Alagoas\n",
        "    'AL': 'Alagoas',\n",
        "\n",
        "    # Pernambuco\n",
        "    'PE': 'Pernambuco',\n",
        "\n",
        "    # Paraíba\n",
        "    'PB': 'Paraíba', 'Região Metropolitana de Campina Grande': 'Paraíba',\n",
        "    'Região Metropolitana de Guarabira': 'Paraíba',\n",
        "\n",
        "    # Goiás\n",
        "    'Goias': 'Goiás', 'GO': 'Goiás',\n",
        "\n",
        "    # Distrito Federal\n",
        "    'Federal District': 'Distrito Federal'\n",
        "}\n",
        "\n",
        "# Aplica as correções\n",
        "df['AddressInfo.StateOrProvince'] = df['AddressInfo.StateOrProvince'].replace(mapa_de_correcao)\n",
        "\n",
        "print(\"✅ Limpeza dos nomes dos estados concluída.\")"
      ],
      "metadata": {
        "id": "VG2Yp4zxTkXU"
      },
      "execution_count": null,
      "outputs": []
    },
    {
      "cell_type": "markdown",
      "source": [
        "### 3.3. Gráfico de Estações por Estado"
      ],
      "metadata": {
        "id": "abzqPLMbaPXB"
      }
    },
    {
      "cell_type": "code",
      "source": [
        "print(\"Gerando gráfico com dados padronizados...\")\n",
        "plt.figure(figsize=(18, 8))\n",
        "sns.countplot(y=df['AddressInfo.StateOrProvince'], order=df['AddressInfo.StateOrProvince'].value_counts().index, palette='viridis')\n",
        "plt.title('Número de Estações de Recarga por Estado', fontsize=16)\n",
        "plt.xlabel('Contagem de Estações', fontsize=12)\n",
        "plt.ylabel('Estado', fontsize=12)\n",
        "for index, value in enumerate(df['AddressInfo.StateOrProvince'].value_counts()):\n",
        "    plt.text(value, index, f' {value}', va='center', fontsize=10)\n",
        "plt.tight_layout()\n",
        "plt.show()"
      ],
      "metadata": {
        "id": "ekbs-uDmaQ94"
      },
      "execution_count": null,
      "outputs": []
    },
    {
      "cell_type": "markdown",
      "source": [
        "## 4. Pré-processamento para Simulação de Viagem\n",
        "Com os dados gerais analisados, agora vamos prepará-los para a nossa simulação, filtrando apenas os carregadores que seriam úteis para um viajante."
      ],
      "metadata": {
        "id": "kBDQNs3YU-b1"
      }
    },
    {
      "cell_type": "code",
      "source": [
        "print(\"Iniciando a filtragem de carregadores para um cenário de viagem...\")\n",
        "print(\"-\" * 50)\n",
        "total_carregadores = len(df)\n",
        "print(f\"Dataset original com {total_carregadores} carregadores.\")\n",
        "\n",
        "# Filtro 1: Manter apenas carregadores operacionais\n",
        "df_operacional = df[df['StatusType.IsOperational'] == True].copy()\n",
        "operacionais_count = len(df_operacional)\n",
        "print(f\"Após filtro de operacionais, restam {operacionais_count} carregadores.\")\n",
        "\n",
        "# Filtro 2: Manter apenas carregadores de acesso público\n",
        "df_publico = df_operacional[df_operacional['UsageType.Title'] == 'Public'].copy()\n",
        "publicos_count = len(df_publico)\n",
        "print(f\"Após filtro de acesso público, restam {publicos_count} carregadores.\")\n",
        "\n",
        "# Análise de Carregadores Rápidos (DC)\n",
        "# O código abaixo analisa a disponibilidade de carregadores DC\n",
        "def parse_connections(connections_str):\n",
        "    try: return ast.literal_eval(str(connections_str))\n",
        "    except: return []\n",
        "\n",
        "df_publico['Connections_list'] = df_publico['Connections'].apply(parse_connections)\n",
        "df_exploded = df_publico.explode('Connections_list').dropna(subset=['Connections_list'])\n",
        "df_normalized_connections = pd.json_normalize(df_exploded['Connections_list']).add_prefix('Conn.')\n",
        "df_full_connections = pd.concat([df_exploded.reset_index(drop=True), df_normalized_connections.reset_index(drop=True)], axis=1)\n",
        "df_dc_chargers = df_full_connections[df_full_connections['Conn.ConnectionType.Title'].str.contains('DC', na=False)]\n",
        "unique_dc_charger_ids = df_dc_chargers['ID'].unique()\n",
        "df_viagem_dc = df_publico[df_publico['ID'].isin(unique_dc_charger_ids)].copy()\n",
        "dc_count = len(df_viagem_dc)\n",
        "\n",
        "print(f\"\\nAnálise de Carregadores Rápidos (DC): Foram encontrados {dc_count} carregadores DC públicos e operacionais.\")\n",
        "print(\"Esta descoberta crítica (SINAL VERMELHO para viagens rápidas) guiará nossa simulação para o cenário de carregadores AC.\")\n",
        "print(\"-\" * 50)\n",
        "\n",
        "# Preparação dos dados para o gráfico de funil\n",
        "etapas = ['Total de Carregadores', 'Operacionais', 'Acesso Público', 'Carga Rápida (DC)']\n",
        "valores = [total_carregadores, operacionais_count, publicos_count, dc_count]\n",
        "\n",
        "# Cria a figura\n",
        "fig = go.Figure(go.Funnel(\n",
        "    y = etapas,\n",
        "    x = valores,\n",
        "    textposition = \"inside\",\n",
        "    textinfo = \"value+percent initial\",\n",
        "    opacity = 0.65,\n",
        "    marker = {\"color\": [\"#4A235A\", \"#6C3483\", \"#8E44AD\", \"#D2B4DE\"],\n",
        "              \"line\": {\"width\": [2, 2, 2, 2], \"color\": [\"#3B0B39\", \"#4A235A\", \"#6C3483\", \"#8E44AD\"]}},\n",
        "    connector = {\"line\": {\"color\": \"royalblue\", \"dash\": \"dot\", \"width\": 3}}\n",
        "))\n",
        "\n",
        "# Personalização do layout\n",
        "fig.update_layout(\n",
        "    title={\n",
        "        'text': \"Gráfico de Filtragem de Carregadores para Viagem\",\n",
        "        'y':0.9,\n",
        "        'x':0.5,\n",
        "        'xanchor': 'center',\n",
        "        'yanchor': 'top'\n",
        "    },\n",
        "    font=dict(\n",
        "        family=\"Arial, sans-serif\",\n",
        "        size=14,\n",
        "        color=\"RebeccaPurple\"\n",
        "    )\n",
        ")\n",
        "fig.show()"
      ],
      "metadata": {
        "id": "Pb4QgrIZU_uG"
      },
      "execution_count": null,
      "outputs": []
    },
    {
      "cell_type": "markdown",
      "source": [
        "## 5. Desenvolvimento do Planejador de Rotas Interativo\n",
        "\n",
        "Com os dados analisados e preparados, o passo final é consolidar nossa lógica em uma ferramenta interativa. Esta seção contém o protótipo funcional do planejador de rotas. A ferramenta permite que o usuário insira uma cidade de origem e destino, defina a autonomia de seu veículo e simule a viabilidade da viagem.\n",
        "\n",
        "O aplicativo utiliza a API do OpenRouteService para:\n",
        "1.  **Geocodificar:** Converter os nomes das cidades em coordenadas geográficas.\n",
        "2.  **Roteirizar:** Traçar a rota real ao longo das estradas existentes.\n",
        "\n",
        "A simulação então analisa a rota, identifica os carregadores disponíveis e fornece um relatório de viabilidade para cada segmento da viagem, culminando em um mapa interativo com o trajeto."
      ],
      "metadata": {
        "id": "azkvwNysgMp9"
      }
    },
    {
      "cell_type": "markdown",
      "source": [
        "### 5.1. Definição de Todas as Funções Auxiliares"
      ],
      "metadata": {
        "id": "89QxhJOsgiQj"
      }
    },
    {
      "cell_type": "code",
      "source": [
        "# Configuração do cliente da API do OpenRouteService\n",
        "ors_api_key = '5b3ce3597851110001cf624873fa4cab1c4946f9b5b642c29b34621c'\n",
        "ors_client = openrouteservice.Client(key=ors_api_key)\n",
        "\n",
        "def obter_coordenadas_por_endereco(client, endereco):\n",
        "    \"\"\"Converte um nome de cidade/endereço em coordenadas (lat, lon).\"\"\"\n",
        "    try:\n",
        "        geocode_result = client.pelias_search(text=endereco, size=1)\n",
        "        if not geocode_result['features']:\n",
        "            print(f\"🔴 Endereço não encontrado: {endereco}\")\n",
        "            return None\n",
        "        lon, lat = geocode_result['features'][0]['geometry']['coordinates']\n",
        "        return (lat, lon)\n",
        "    except Exception as e:\n",
        "        print(f\"Erro na geocodificação: {e}\")\n",
        "        return None\n",
        "\n",
        "def obter_rota_real(client, coord_origem, coord_destino):\n",
        "    \"\"\"Pede a rota real para a API do ORS.\"\"\"\n",
        "    coords = ((coord_origem[1], coord_origem[0]), (coord_destino[1], coord_destino[0]))\n",
        "    try:\n",
        "        route = client.directions(coordinates=coords, profile='driving-car', format='geojson')\n",
        "        route_line = LineString(route['features'][0]['geometry']['coordinates'])\n",
        "        distancia_total_km = route['features'][0]['properties']['summary']['distance'] / 1000\n",
        "        route_coords_latlon = [(p[1], p[0]) for p in route_line.coords]\n",
        "        return {\"line\": LineString(route_coords_latlon), \"distancia_km\": distancia_total_km, \"coords\": route_coords_latlon}\n",
        "    except Exception as e:\n",
        "        print(f\"Erro ao obter rota da API: {e}\")\n",
        "        return None\n",
        "\n",
        "def simular_viagem_na_rota(rota, autonomia_km, df_carregadores):\n",
        "    \"\"\"Simula a viagem e imprime o status de cada segmento.\"\"\"\n",
        "    carregadores_na_rota = []\n",
        "    for _, carregador in df_carregadores.iterrows():\n",
        "        ponto_carregador = Point(carregador['AddressInfo.Latitude'], carregador['AddressInfo.Longitude'])\n",
        "        if rota['line'].distance(ponto_carregador) * 111 <= 10: # Raio de 10km da rota\n",
        "            carregadores_na_rota.append(carregador)\n",
        "\n",
        "    df_carregadores_filtrados = pd.DataFrame(carregadores_na_rota)\n",
        "    if df_carregadores_filtrados.empty:\n",
        "        print(\"🔴 Nenhum carregador encontrado próximo à rota da estrada.\")\n",
        "        return {\"viagem_viavel\": False}\n",
        "\n",
        "    print(f\"Encontrados {len(df_carregadores_filtrados)} carregadores ao longo da estrada.\")\n",
        "    caminho_percorrido_coords = [rota['coords'][0]]\n",
        "    viagem_viavel = True\n",
        "    segmento_num = 1\n",
        "    while True:\n",
        "        localizacao_atual = caminho_percorrido_coords[-1]\n",
        "        distancia_restante_total = geodesic(localizacao_atual, rota['coords'][-1]).kilometers\n",
        "        print(f\"\\n--- Segmento {segmento_num} ---\")\n",
        "        print(f\"Partindo de: {np.round(localizacao_atual, 2)}. Faltam {int(distancia_restante_total)} km.\")\n",
        "        if distancia_restante_total <= autonomia_km:\n",
        "            print(\"Resultado: 🟢 VERDE - Destino final ao alcance da autonomia atual!\")\n",
        "            break\n",
        "        paradas_possiveis = []\n",
        "        for _, carregador in df_carregadores_filtrados.iterrows():\n",
        "            coord_carregador = (carregador['AddressInfo.Latitude'], carregador['AddressInfo.Longitude'])\n",
        "            dist_ate_carregador = geodesic(localizacao_atual, coord_carregador).kilometers\n",
        "            if dist_ate_carregador > 0 and dist_ate_carregador <= autonomia_km and geodesic(coord_carregador, rota['coords'][-1]).kilometers < distancia_restante_total:\n",
        "                paradas_possiveis.append(carregador)\n",
        "        num_paradas = len(paradas_possiveis)\n",
        "        if num_paradas == 0:\n",
        "            print(f\"Resultado: 🔴 VERMELHO - Falha! Não foi possível encontrar uma próxima parada ao alcance.\")\n",
        "            viagem_viavel = False\n",
        "            distancias_proximos_pontos = []\n",
        "            for _, carregador in df_carregadores_filtrados.iterrows():\n",
        "                if geodesic( (carregador['AddressInfo.Latitude'], carregador['AddressInfo.Longitude']), rota['coords'][-1]).kilometers < distancia_restante_total:\n",
        "                    distancias_proximos_pontos.append(geodesic(localizacao_atual, (carregador['AddressInfo.Latitude'], carregador['AddressInfo.Longitude'])).kilometers)\n",
        "            autonomia_minima = min(distancias_proximos_pontos) if distancias_proximos_pontos else distancia_restante_total\n",
        "            return {\"viagem_viavel\": False, \"autonomia_minima\": math.ceil(autonomia_minima)}\n",
        "        elif num_paradas <= 2:\n",
        "            print(f\"Resultado: 🟡 AMARELO - Apenas {num_paradas} opção(ões) de recarga. Planeje com cuidado.\")\n",
        "        else:\n",
        "            print(f\"Resultado: 🟢 VERDE - {num_paradas} opções de recarga. Boa cobertura.\")\n",
        "        paradas_possiveis_df = pd.DataFrame(paradas_possiveis)\n",
        "        paradas_possiveis_df['dist'] = paradas_possiveis_df.apply(lambda row: geodesic(localizacao_atual, (row['AddressInfo.Latitude'], row['AddressInfo.Longitude'])).kilometers, axis=1)\n",
        "        proxima_parada_info = paradas_possiveis_df.sort_values('dist').iloc[0]\n",
        "        caminho_percorrido_coords.append((proxima_parada_info['AddressInfo.Latitude'], proxima_parada_info['AddressInfo.Longitude']))\n",
        "        segmento_num += 1\n",
        "    caminho_percorrido_coords.append(rota['coords'][-1])\n",
        "    print(\"\\n--- Relatório Final da Viagem ---\")\n",
        "    if viagem_viavel: print(\"✅ Simulação concluída com sucesso!\")\n",
        "    return {\"viagem_viavel\": True, \"caminho_coords\": caminho_percorrido_coords, \"carregadores_encontrados_df\": df_carregadores_filtrados, \"rota_completa_coords\": rota['coords']}\n",
        "\n",
        "def desenhar_mapa_folium_real(resultado_simulacao):\n",
        "    \"\"\"Recebe o resultado da simulação e desenha um mapa limpo.\"\"\"\n",
        "    rota_completa = resultado_simulacao[\"rota_completa_coords\"]\n",
        "    df_carregadores_na_rota = resultado_simulacao[\"carregadores_encontrados_df\"]\n",
        "    avg_lat = np.mean([p[0] for p in rota_completa]); avg_lon = np.mean([p[1] for p in rota_completa])\n",
        "    mapa = folium.Map(location=[avg_lat, avg_lon], zoom_start=8, height=600)\n",
        "    folium.PolyLine(rota_completa, color=\"#007BFF\", weight=5, opacity=0.8, popup=\"Rota da Estrada\").add_to(mapa)\n",
        "    folium.Marker(rota_completa[0], popup=\"Origem\", icon=folium.Icon(color='green', icon='play')).add_to(mapa)\n",
        "    folium.Marker(rota_completa[-1], popup=\"Destino\", icon=folium.Icon(color='red', icon='stop')).add_to(mapa)\n",
        "    if not df_carregadores_na_rota.empty:\n",
        "        for _, carregador in df_carregadores_na_rota.iterrows():\n",
        "            folium.CircleMarker(location=[carregador['AddressInfo.Latitude'], carregador['AddressInfo.Longitude']], radius=5, color='#003366', fill=True, fill_color='#003366', popup=carregador['AddressInfo.Title']).add_to(mapa)\n",
        "    return mapa"
      ],
      "metadata": {
        "id": "OojSbevggWsW"
      },
      "execution_count": null,
      "outputs": []
    },
    {
      "cell_type": "markdown",
      "source": [
        "### 5.2. Interface Interativa do Planejador"
      ],
      "metadata": {
        "id": "z-tdZ_5mhy7p"
      }
    },
    {
      "cell_type": "code",
      "source": [
        "df_para_simulacao = df_publico.copy()\n",
        "\n",
        "# Sua chave da API do OpenRouteService.\n",
        "ors_api_key = '5b3ce3597851110001cf624873fa4cab1c4946f9b5b642c29b34621c'\n",
        "\n",
        "# Cria o cliente da API\n",
        "ors_client = openrouteservice.Client(key=ors_api_key)\n",
        "\n",
        "\n",
        "# FUNÇÕES DE API (Geocodificação e Rota)\n",
        "def obter_coordenadas_por_endereco(client, endereco):\n",
        "    \"\"\"Converte um nome de cidade/endereço em coordenadas (lat, lon).\"\"\"\n",
        "    try:\n",
        "        geocode_result = client.pelias_search(text=endereco, size=1)\n",
        "        if not geocode_result['features']:\n",
        "            print(f\"🔴 Endereço não encontrado: {endereco}\")\n",
        "            return None\n",
        "        lon, lat = geocode_result['features'][0]['geometry']['coordinates']\n",
        "        return (lat, lon)\n",
        "    except Exception as e:\n",
        "        print(f\"Erro na geocodificação: {e}\")\n",
        "        return None\n",
        "\n",
        "def obter_nome_local_por_coord(client, coord):\n",
        "    \"\"\"Converte coordenadas (lat, lon) em um nome de local.\"\"\"\n",
        "    try:\n",
        "        # Formato para a API é (longitude, latitude)\n",
        "        reverse_result = client.pelias_reverse(point=(coord[1], coord[0]), size=1)\n",
        "        if not reverse_result['features']:\n",
        "            return f\"Coordenadas {np.round(coord, 2)}\" # Fallback\n",
        "        return reverse_result['features'][0]['properties'].get('label', f\"Coordenadas {np.round(coord, 2)}\")\n",
        "    except Exception:\n",
        "        return f\"Coordenadas {np.round(coord, 2)}\"\n",
        "\n",
        "def obter_rota_real(client, coord_origem, coord_destino):\n",
        "    \"\"\"Pede a rota real para a API do ORS.\"\"\"\n",
        "    coords = ((coord_origem[1], coord_origem[0]), (coord_destino[1], coord_destino[0]))\n",
        "    try:\n",
        "        route = client.directions(coordinates=coords, profile='driving-car', format='geojson')\n",
        "        route_line = LineString(route['features'][0]['geometry']['coordinates'])\n",
        "        distancia_total_km = route['features'][0]['properties']['summary']['distance'] / 1000\n",
        "        route_coords_latlon = [(p[1], p[0]) for p in route_line.coords]\n",
        "        return {\"line\": LineString(route_coords_latlon), \"distancia_km\": distancia_total_km, \"coords\": route_coords_latlon}\n",
        "    except Exception as e:\n",
        "        print(f\"Erro ao obter rota da API: {e}\")\n",
        "        return None\n",
        "\n",
        "def simular_viagem_na_rota(rota, autonomia_km, df_carregadores):\n",
        "    carregadores_na_rota = []\n",
        "    for _, carregador in df_carregadores.iterrows():\n",
        "        ponto_carregador = Point(carregador['AddressInfo.Latitude'], carregador['AddressInfo.Longitude'])\n",
        "        if rota['line'].distance(ponto_carregador) * 111 <= 10:\n",
        "            carregadores_na_rota.append(carregador)\n",
        "\n",
        "    df_carregadores_filtrados = pd.DataFrame(carregadores_na_rota)\n",
        "    if df_carregadores_filtrados.empty:\n",
        "        print(\"🔴 Nenhum carregador encontrado próximo à rota da estrada.\")\n",
        "        return {\"viagem_viavel\": False}\n",
        "\n",
        "    print(f\"Encontrados {len(df_carregadores_filtrados)} carregadores ao longo da estrada.\")\n",
        "    caminho_percorrido_coords = [rota['coords'][0]]\n",
        "    viagem_viavel = True\n",
        "    segmento_num = 1\n",
        "\n",
        "    while True:\n",
        "        localizacao_atual = caminho_percorrido_coords[-1]\n",
        "        distancia_restante_total = geodesic(localizacao_atual, rota['coords'][-1]).kilometers\n",
        "\n",
        "        # OBTÉM O NOME DO LOCAL ATUAL ANTES DE IMPRIMIR\n",
        "        nome_local_atual = obter_nome_local_por_coord(ors_client, localizacao_atual)\n",
        "\n",
        "        print(f\"\\n--- Segmento {segmento_num} ---\")\n",
        "        # USA O NOME DO LOCAL NA MENSAGEM\n",
        "        print(f\"Partindo de: {nome_local_atual}. Faltam {int(distancia_restante_total)} km.\")\n",
        "\n",
        "        if distancia_restante_total <= autonomia_km:\n",
        "            print(\"Resultado: 🟢 VERDE - Destino final ao alcance da autonomia atual!\")\n",
        "            break\n",
        "\n",
        "        paradas_possiveis = []\n",
        "        for _, carregador in df_carregadores_filtrados.iterrows():\n",
        "            coord_carregador = (carregador['AddressInfo.Latitude'], carregador['AddressInfo.Longitude'])\n",
        "            dist_ate_carregador = geodesic(localizacao_atual, coord_carregador).kilometers\n",
        "            if dist_ate_carregador > 0 and dist_ate_carregador <= autonomia_km and geodesic(coord_carregador, rota['coords'][-1]).kilometers < distancia_restante_total:\n",
        "                paradas_possiveis.append(carregador)\n",
        "\n",
        "        num_paradas = len(paradas_possiveis)\n",
        "        if num_paradas == 0:\n",
        "            print(f\"Resultado: 🔴 VERMELHO - Falha! Não foi possível encontrar uma próxima parada ao alcance.\")\n",
        "            viagem_viavel = False\n",
        "            distancias_proximos_pontos = []\n",
        "            for _, carregador in df_carregadores_filtrados.iterrows():\n",
        "                if geodesic((carregador['AddressInfo.Latitude'], carregador['AddressInfo.Longitude']), rota['coords'][-1]).kilometers < distancia_restante_total:\n",
        "                    distancias_proximos_pontos.append(geodesic(localizacao_atual, (carregador['AddressInfo.Latitude'], carregador['AddressInfo.Longitude'])).kilometers)\n",
        "            autonomia_minima = min(distancias_proximos_pontos) if distancias_proximos_pontos else distancia_restante_total\n",
        "            return {\"viagem_viavel\": False, \"autonomia_minima\": math.ceil(autonomia_minima)}\n",
        "        elif num_paradas <= 2:\n",
        "            print(f\"Resultado: 🟡 AMARELO - Apenas {num_paradas} opção(ões) de recarga.\")\n",
        "        else:\n",
        "            print(f\"Resultado: 🟢 VERDE - {num_paradas} opções de recarga.\")\n",
        "\n",
        "        paradas_possiveis_df = pd.DataFrame(paradas_possiveis)\n",
        "        paradas_possiveis_df['dist'] = paradas_possiveis_df.apply(lambda row: geodesic(localizacao_atual, (row['AddressInfo.Latitude'], row['AddressInfo.Longitude'])).kilometers, axis=1)\n",
        "        proxima_parada_info = paradas_possiveis_df.sort_values('dist').iloc[0]\n",
        "        caminho_percorrido_coords.append((proxima_parada_info['AddressInfo.Latitude'], proxima_parada_info['AddressInfo.Longitude']))\n",
        "        segmento_num += 1\n",
        "\n",
        "    caminho_percorrido_coords.append(rota['coords'][-1])\n",
        "    print(\"\\n--- Relatório Final da Viagem ---\")\n",
        "    if viagem_viavel: print(\"✅ Simulação concluída com sucesso!\")\n",
        "\n",
        "    return {\"viagem_viavel\": True, \"caminho_coords\": caminho_percorrido_coords, \"carregadores_encontrados_df\": df_carregadores_filtrados, \"rota_completa_coords\": rota['coords']}\n",
        "\n",
        "def desenhar_mapa_folium_real(resultado_simulacao):\n",
        "    caminho_paradas = resultado_simulacao[\"caminho_coords\"]\n",
        "    rota_completa = resultado_simulacao[\"rota_completa_coords\"]\n",
        "    df_carregadores_na_rota = resultado_simulacao[\"carregadores_encontrados_df\"]\n",
        "    avg_lat = np.mean([p[0] for p in rota_completa])\n",
        "    avg_lon = np.mean([p[1] for p in rota_completa])\n",
        "    mapa = folium.Map(location=[avg_lat, avg_lon], zoom_start=8, height=600)\n",
        "    folium.PolyLine(rota_completa, color=\"#007BFF\", weight=5, opacity=0.8, popup=\"Rota da Estrada\").add_to(mapa)\n",
        "    folium.Marker(rota_completa[0], popup=\"Origem\", icon=folium.Icon(color='green', icon='play')).add_to(mapa)\n",
        "    folium.Marker(rota_completa[-1], popup=\"Destino\", icon=folium.Icon(color='red', icon='stop')).add_to(mapa)\n",
        "    if not df_carregadores_na_rota.empty:\n",
        "        for _, carregador in df_carregadores_na_rota.iterrows():\n",
        "            folium.CircleMarker(location=[carregador['AddressInfo.Latitude'], carregador['AddressInfo.Longitude']], radius=5, color='#003366', fill=True, fill_color='#003366', popup=carregador['AddressInfo.Title']).add_to(mapa)\n",
        "    return mapa\n",
        "\n",
        "style = {'description_width': 'initial'}\n",
        "origem_cidade = widgets.Text(value='São Paulo, SP', description='Cidade de Origem:', style=style)\n",
        "destino_cidade = widgets.Text(value='Rio de Janeiro, RJ', description='Cidade de Destino:', style=style)\n",
        "autonomia_slider = widgets.IntSlider(value=300, min=50, max=600, step=10, description='Autonomia (km):', style=style, continuous_update=False)\n",
        "botao_simular = widgets.Button(description=\"Simular Rota e Gerar Mapa\", button_style='success')\n",
        "out_texto = widgets.Output()\n",
        "out_mapa = widgets.Output()\n",
        "\n",
        "def on_button_clicked_final(b):\n",
        "    out_texto.clear_output()\n",
        "    out_mapa.clear_output(wait=True)\n",
        "    with out_texto:\n",
        "\n",
        "        orig_coord = obter_coordenadas_por_endereco(ors_client, origem_cidade.value)\n",
        "        dest_coord = obter_coordenadas_por_endereco(ors_client, destino_cidade.value)\n",
        "        if not orig_coord or not dest_coord: return\n",
        "        autonomia = autonomia_slider.value\n",
        "        rota = obter_rota_real(ors_client, orig_coord, dest_coord)\n",
        "\n",
        "        if rota:\n",
        "            print(\"Rota obtida com sucesso! \\nSimulando viagem...\")\n",
        "            resultado = simular_viagem_na_rota(rota, autonomia, df_publico)\n",
        "\n",
        "            if resultado[\"viagem_viavel\"]:\n",
        "                print(\"\\n Gerando mapa da rota...\")\n",
        "                with out_mapa:\n",
        "                    mapa_resultado = desenhar_mapa_folium_real(resultado)\n",
        "                    display(mapa_resultado)\n",
        "            else:\n",
        "                print(\"\\n❌ Simulação falhou.\")\n",
        "                if \"autonomia_minima\" in resultado:\n",
        "                    print(f\"Para completar o próximo trecho, seu veículo precisaria de uma autonomia de pelo menos {resultado['autonomia_minima']} km.\")\n",
        "                print(\"Não foi possível gerar um mapa para uma rota inviável.\")\n",
        "\n",
        "botao_simular.on_click(on_button_clicked_final)\n",
        "\n",
        "app_layout = widgets.VBox([\n",
        "    widgets.Label('Insira a origem, destino e autonomia do veículo:'),\n",
        "    origem_cidade,\n",
        "    destino_cidade,\n",
        "    autonomia_slider,\n",
        "    botao_simular,\n",
        "    out_texto, # Área para o texto\n",
        "    out_mapa   # Área para o mapa\n",
        "])\n",
        "\n",
        "display(app_layout)"
      ],
      "metadata": {
        "id": "jAaeDdsZhAPl"
      },
      "execution_count": null,
      "outputs": []
    },
    {
      "cell_type": "markdown",
      "source": [
        "## 6. Conclusão\n",
        "\n",
        "Este projeto demonstrou um fluxo completo de análise de dados, desde a coleta e limpeza até o desenvolvimento de um protótipo interativo. As principais conclusões validaram nossas hipóteses iniciais:\n",
        "\n",
        "1.  **Concentração Geográfica (Hipótese 1 Validada):** A análise confirmou uma forte concentração de postos de recarga nas regiões Sul e Sudeste do Brasil, com São Paulo liderando de forma proeminente. Regiões como Norte e Centro-Oeste apresentam \"desertos de recarga\", tornando viagens elétricas um grande desafio.\n",
        "\n",
        "2.  **Escassez de Carregadores Rápidos (Hipótese 2 Validada):** A descoberta mais crítica foi a ausência de uma rede confiável de carregadores rápidos (DC) de acesso público nos dados. Isso representa o maior obstáculo para a adoção em massa de VEs para viagens de longa distância e foi classificado como um \"Sinal Vermelho\" para o viajante com pressa.\n",
        "\n",
        "3.  **Viabilidade de Rotas Principais (Hipótese 3 Validada):** Utilizando a rede de carregadores mais lenta (AC), a simulação interativa provou que rotas principais, como São Paulo-Rio de Janeiro, são viáveis para veículos com autonomia de 300km. A ferramenta demonstrou, segmento a segmento, que existem opções de recarga, embora exijam planejamento e paradas mais longas.\n",
        "\n",
        "A ferramenta desenvolvida serve como um protótipo robusto que, com a integração de mais dados (como tempo de recarga e status em tempo real), poderia se tornar um produto de grande valor para motoristas de veículos elétricos no Brasil."
      ],
      "metadata": {
        "id": "pjtca40gmS-f"
      }
    }
  ]
}