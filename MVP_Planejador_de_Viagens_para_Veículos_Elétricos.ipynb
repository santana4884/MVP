{
  "nbformat": 4,
  "nbformat_minor": 0,
  "metadata": {
    "colab": {
      "provenance": []
    },
    "kernelspec": {
      "name": "python3",
      "display_name": "Python 3"
    },
    "language_info": {
      "name": "python"
    },
    "widgets": {
      "application/vnd.jupyter.widget-state+json": {
        "0f7e5f0b037a406dae4d41c624f6d7ad": {
          "model_module": "@jupyter-widgets/controls",
          "model_name": "VBoxModel",
          "model_module_version": "1.5.0",
          "state": {
            "_dom_classes": [],
            "_model_module": "@jupyter-widgets/controls",
            "_model_module_version": "1.5.0",
            "_model_name": "VBoxModel",
            "_view_count": null,
            "_view_module": "@jupyter-widgets/controls",
            "_view_module_version": "1.5.0",
            "_view_name": "VBoxView",
            "box_style": "",
            "children": [
              "IPY_MODEL_9647fa88b4be4203b226c9c238868ee4",
              "IPY_MODEL_31957e3fa9fb43fb910a0e67060b8e52",
              "IPY_MODEL_6a7cd304c6694d33b56bf6f48714c2f3",
              "IPY_MODEL_c77bb7f248124e779424ba27b313e6da",
              "IPY_MODEL_1746ee3f9b134f9f9f1d0964b29466b6",
              "IPY_MODEL_3e382d2090004979b97ce024c6c9b412",
              "IPY_MODEL_8ba1e99ad5d148f0a1816fc996297b21"
            ],
            "layout": "IPY_MODEL_4038b417b3974cc19dd74a9d55a8a805"
          }
        },
        "9647fa88b4be4203b226c9c238868ee4": {
          "model_module": "@jupyter-widgets/controls",
          "model_name": "LabelModel",
          "model_module_version": "1.5.0",
          "state": {
            "_dom_classes": [],
            "_model_module": "@jupyter-widgets/controls",
            "_model_module_version": "1.5.0",
            "_model_name": "LabelModel",
            "_view_count": null,
            "_view_module": "@jupyter-widgets/controls",
            "_view_module_version": "1.5.0",
            "_view_name": "LabelView",
            "description": "",
            "description_tooltip": null,
            "layout": "IPY_MODEL_124faf68cbb34f69a957387ed9041880",
            "placeholder": "​",
            "style": "IPY_MODEL_dd11a1c6601f487187f9e6ba3d1b2016",
            "value": "Insira a origem, destino e autonomia do veículo:"
          }
        },
        "31957e3fa9fb43fb910a0e67060b8e52": {
          "model_module": "@jupyter-widgets/controls",
          "model_name": "TextModel",
          "model_module_version": "1.5.0",
          "state": {
            "_dom_classes": [],
            "_model_module": "@jupyter-widgets/controls",
            "_model_module_version": "1.5.0",
            "_model_name": "TextModel",
            "_view_count": null,
            "_view_module": "@jupyter-widgets/controls",
            "_view_module_version": "1.5.0",
            "_view_name": "TextView",
            "continuous_update": true,
            "description": "Cidade de Origem:",
            "description_tooltip": null,
            "disabled": false,
            "layout": "IPY_MODEL_6963c11997634e61bbb6e476120f46a8",
            "placeholder": "​",
            "style": "IPY_MODEL_d3983d83692b4e05863803fdfeaf1381",
            "value": "São Paulo, SP"
          }
        },
        "6a7cd304c6694d33b56bf6f48714c2f3": {
          "model_module": "@jupyter-widgets/controls",
          "model_name": "TextModel",
          "model_module_version": "1.5.0",
          "state": {
            "_dom_classes": [],
            "_model_module": "@jupyter-widgets/controls",
            "_model_module_version": "1.5.0",
            "_model_name": "TextModel",
            "_view_count": null,
            "_view_module": "@jupyter-widgets/controls",
            "_view_module_version": "1.5.0",
            "_view_name": "TextView",
            "continuous_update": true,
            "description": "Cidade de Destino:",
            "description_tooltip": null,
            "disabled": false,
            "layout": "IPY_MODEL_cd9518126f1f406dafcc7c067de4572d",
            "placeholder": "​",
            "style": "IPY_MODEL_76cbcf4a4f184a1ab2a7aed5008f9486",
            "value": "Rio de Janeiro, RJ"
          }
        },
        "c77bb7f248124e779424ba27b313e6da": {
          "model_module": "@jupyter-widgets/controls",
          "model_name": "IntSliderModel",
          "model_module_version": "1.5.0",
          "state": {
            "_dom_classes": [],
            "_model_module": "@jupyter-widgets/controls",
            "_model_module_version": "1.5.0",
            "_model_name": "IntSliderModel",
            "_view_count": null,
            "_view_module": "@jupyter-widgets/controls",
            "_view_module_version": "1.5.0",
            "_view_name": "IntSliderView",
            "continuous_update": false,
            "description": "Autonomia (km):",
            "description_tooltip": null,
            "disabled": false,
            "layout": "IPY_MODEL_4e795448c9bf4941903cbf7a3e369a8b",
            "max": 600,
            "min": 50,
            "orientation": "horizontal",
            "readout": true,
            "readout_format": "d",
            "step": 10,
            "style": "IPY_MODEL_a03a3b181baf49159af0df44d95910fb",
            "value": 300
          }
        },
        "1746ee3f9b134f9f9f1d0964b29466b6": {
          "model_module": "@jupyter-widgets/controls",
          "model_name": "ButtonModel",
          "model_module_version": "1.5.0",
          "state": {
            "_dom_classes": [],
            "_model_module": "@jupyter-widgets/controls",
            "_model_module_version": "1.5.0",
            "_model_name": "ButtonModel",
            "_view_count": null,
            "_view_module": "@jupyter-widgets/controls",
            "_view_module_version": "1.5.0",
            "_view_name": "ButtonView",
            "button_style": "success",
            "description": "Simular Rota e Gerar Mapa",
            "disabled": false,
            "icon": "",
            "layout": "IPY_MODEL_3368e6b2641e4f3ebfe00c032a84ecc4",
            "style": "IPY_MODEL_48f944ba7b424ccfb018cff9397eb437",
            "tooltip": ""
          }
        },
        "3e382d2090004979b97ce024c6c9b412": {
          "model_module": "@jupyter-widgets/output",
          "model_name": "OutputModel",
          "model_module_version": "1.0.0",
          "state": {
            "_dom_classes": [],
            "_model_module": "@jupyter-widgets/output",
            "_model_module_version": "1.0.0",
            "_model_name": "OutputModel",
            "_view_count": null,
            "_view_module": "@jupyter-widgets/output",
            "_view_module_version": "1.0.0",
            "_view_name": "OutputView",
            "layout": "IPY_MODEL_fe7f646356d541b5bb3209cbaf5e0321",
            "msg_id": "",
            "outputs": []
          }
        },
        "8ba1e99ad5d148f0a1816fc996297b21": {
          "model_module": "@jupyter-widgets/output",
          "model_name": "OutputModel",
          "model_module_version": "1.0.0",
          "state": {
            "_dom_classes": [],
            "_model_module": "@jupyter-widgets/output",
            "_model_module_version": "1.0.0",
            "_model_name": "OutputModel",
            "_view_count": null,
            "_view_module": "@jupyter-widgets/output",
            "_view_module_version": "1.0.0",
            "_view_name": "OutputView",
            "layout": "IPY_MODEL_37a143054a6b448caf3d4e58f52eff70",
            "msg_id": "",
            "outputs": []
          }
        },
        "4038b417b3974cc19dd74a9d55a8a805": {
          "model_module": "@jupyter-widgets/base",
          "model_name": "LayoutModel",
          "model_module_version": "1.2.0",
          "state": {
            "_model_module": "@jupyter-widgets/base",
            "_model_module_version": "1.2.0",
            "_model_name": "LayoutModel",
            "_view_count": null,
            "_view_module": "@jupyter-widgets/base",
            "_view_module_version": "1.2.0",
            "_view_name": "LayoutView",
            "align_content": null,
            "align_items": null,
            "align_self": null,
            "border": null,
            "bottom": null,
            "display": null,
            "flex": null,
            "flex_flow": null,
            "grid_area": null,
            "grid_auto_columns": null,
            "grid_auto_flow": null,
            "grid_auto_rows": null,
            "grid_column": null,
            "grid_gap": null,
            "grid_row": null,
            "grid_template_areas": null,
            "grid_template_columns": null,
            "grid_template_rows": null,
            "height": null,
            "justify_content": null,
            "justify_items": null,
            "left": null,
            "margin": null,
            "max_height": null,
            "max_width": null,
            "min_height": null,
            "min_width": null,
            "object_fit": null,
            "object_position": null,
            "order": null,
            "overflow": null,
            "overflow_x": null,
            "overflow_y": null,
            "padding": null,
            "right": null,
            "top": null,
            "visibility": null,
            "width": null
          }
        },
        "124faf68cbb34f69a957387ed9041880": {
          "model_module": "@jupyter-widgets/base",
          "model_name": "LayoutModel",
          "model_module_version": "1.2.0",
          "state": {
            "_model_module": "@jupyter-widgets/base",
            "_model_module_version": "1.2.0",
            "_model_name": "LayoutModel",
            "_view_count": null,
            "_view_module": "@jupyter-widgets/base",
            "_view_module_version": "1.2.0",
            "_view_name": "LayoutView",
            "align_content": null,
            "align_items": null,
            "align_self": null,
            "border": null,
            "bottom": null,
            "display": null,
            "flex": null,
            "flex_flow": null,
            "grid_area": null,
            "grid_auto_columns": null,
            "grid_auto_flow": null,
            "grid_auto_rows": null,
            "grid_column": null,
            "grid_gap": null,
            "grid_row": null,
            "grid_template_areas": null,
            "grid_template_columns": null,
            "grid_template_rows": null,
            "height": null,
            "justify_content": null,
            "justify_items": null,
            "left": null,
            "margin": null,
            "max_height": null,
            "max_width": null,
            "min_height": null,
            "min_width": null,
            "object_fit": null,
            "object_position": null,
            "order": null,
            "overflow": null,
            "overflow_x": null,
            "overflow_y": null,
            "padding": null,
            "right": null,
            "top": null,
            "visibility": null,
            "width": null
          }
        },
        "dd11a1c6601f487187f9e6ba3d1b2016": {
          "model_module": "@jupyter-widgets/controls",
          "model_name": "DescriptionStyleModel",
          "model_module_version": "1.5.0",
          "state": {
            "_model_module": "@jupyter-widgets/controls",
            "_model_module_version": "1.5.0",
            "_model_name": "DescriptionStyleModel",
            "_view_count": null,
            "_view_module": "@jupyter-widgets/base",
            "_view_module_version": "1.2.0",
            "_view_name": "StyleView",
            "description_width": ""
          }
        },
        "6963c11997634e61bbb6e476120f46a8": {
          "model_module": "@jupyter-widgets/base",
          "model_name": "LayoutModel",
          "model_module_version": "1.2.0",
          "state": {
            "_model_module": "@jupyter-widgets/base",
            "_model_module_version": "1.2.0",
            "_model_name": "LayoutModel",
            "_view_count": null,
            "_view_module": "@jupyter-widgets/base",
            "_view_module_version": "1.2.0",
            "_view_name": "LayoutView",
            "align_content": null,
            "align_items": null,
            "align_self": null,
            "border": null,
            "bottom": null,
            "display": null,
            "flex": null,
            "flex_flow": null,
            "grid_area": null,
            "grid_auto_columns": null,
            "grid_auto_flow": null,
            "grid_auto_rows": null,
            "grid_column": null,
            "grid_gap": null,
            "grid_row": null,
            "grid_template_areas": null,
            "grid_template_columns": null,
            "grid_template_rows": null,
            "height": null,
            "justify_content": null,
            "justify_items": null,
            "left": null,
            "margin": null,
            "max_height": null,
            "max_width": null,
            "min_height": null,
            "min_width": null,
            "object_fit": null,
            "object_position": null,
            "order": null,
            "overflow": null,
            "overflow_x": null,
            "overflow_y": null,
            "padding": null,
            "right": null,
            "top": null,
            "visibility": null,
            "width": null
          }
        },
        "d3983d83692b4e05863803fdfeaf1381": {
          "model_module": "@jupyter-widgets/controls",
          "model_name": "DescriptionStyleModel",
          "model_module_version": "1.5.0",
          "state": {
            "_model_module": "@jupyter-widgets/controls",
            "_model_module_version": "1.5.0",
            "_model_name": "DescriptionStyleModel",
            "_view_count": null,
            "_view_module": "@jupyter-widgets/base",
            "_view_module_version": "1.2.0",
            "_view_name": "StyleView",
            "description_width": "initial"
          }
        },
        "cd9518126f1f406dafcc7c067de4572d": {
          "model_module": "@jupyter-widgets/base",
          "model_name": "LayoutModel",
          "model_module_version": "1.2.0",
          "state": {
            "_model_module": "@jupyter-widgets/base",
            "_model_module_version": "1.2.0",
            "_model_name": "LayoutModel",
            "_view_count": null,
            "_view_module": "@jupyter-widgets/base",
            "_view_module_version": "1.2.0",
            "_view_name": "LayoutView",
            "align_content": null,
            "align_items": null,
            "align_self": null,
            "border": null,
            "bottom": null,
            "display": null,
            "flex": null,
            "flex_flow": null,
            "grid_area": null,
            "grid_auto_columns": null,
            "grid_auto_flow": null,
            "grid_auto_rows": null,
            "grid_column": null,
            "grid_gap": null,
            "grid_row": null,
            "grid_template_areas": null,
            "grid_template_columns": null,
            "grid_template_rows": null,
            "height": null,
            "justify_content": null,
            "justify_items": null,
            "left": null,
            "margin": null,
            "max_height": null,
            "max_width": null,
            "min_height": null,
            "min_width": null,
            "object_fit": null,
            "object_position": null,
            "order": null,
            "overflow": null,
            "overflow_x": null,
            "overflow_y": null,
            "padding": null,
            "right": null,
            "top": null,
            "visibility": null,
            "width": null
          }
        },
        "76cbcf4a4f184a1ab2a7aed5008f9486": {
          "model_module": "@jupyter-widgets/controls",
          "model_name": "DescriptionStyleModel",
          "model_module_version": "1.5.0",
          "state": {
            "_model_module": "@jupyter-widgets/controls",
            "_model_module_version": "1.5.0",
            "_model_name": "DescriptionStyleModel",
            "_view_count": null,
            "_view_module": "@jupyter-widgets/base",
            "_view_module_version": "1.2.0",
            "_view_name": "StyleView",
            "description_width": "initial"
          }
        },
        "4e795448c9bf4941903cbf7a3e369a8b": {
          "model_module": "@jupyter-widgets/base",
          "model_name": "LayoutModel",
          "model_module_version": "1.2.0",
          "state": {
            "_model_module": "@jupyter-widgets/base",
            "_model_module_version": "1.2.0",
            "_model_name": "LayoutModel",
            "_view_count": null,
            "_view_module": "@jupyter-widgets/base",
            "_view_module_version": "1.2.0",
            "_view_name": "LayoutView",
            "align_content": null,
            "align_items": null,
            "align_self": null,
            "border": null,
            "bottom": null,
            "display": null,
            "flex": null,
            "flex_flow": null,
            "grid_area": null,
            "grid_auto_columns": null,
            "grid_auto_flow": null,
            "grid_auto_rows": null,
            "grid_column": null,
            "grid_gap": null,
            "grid_row": null,
            "grid_template_areas": null,
            "grid_template_columns": null,
            "grid_template_rows": null,
            "height": null,
            "justify_content": null,
            "justify_items": null,
            "left": null,
            "margin": null,
            "max_height": null,
            "max_width": null,
            "min_height": null,
            "min_width": null,
            "object_fit": null,
            "object_position": null,
            "order": null,
            "overflow": null,
            "overflow_x": null,
            "overflow_y": null,
            "padding": null,
            "right": null,
            "top": null,
            "visibility": null,
            "width": null
          }
        },
        "a03a3b181baf49159af0df44d95910fb": {
          "model_module": "@jupyter-widgets/controls",
          "model_name": "SliderStyleModel",
          "model_module_version": "1.5.0",
          "state": {
            "_model_module": "@jupyter-widgets/controls",
            "_model_module_version": "1.5.0",
            "_model_name": "SliderStyleModel",
            "_view_count": null,
            "_view_module": "@jupyter-widgets/base",
            "_view_module_version": "1.2.0",
            "_view_name": "StyleView",
            "description_width": "initial",
            "handle_color": null
          }
        },
        "3368e6b2641e4f3ebfe00c032a84ecc4": {
          "model_module": "@jupyter-widgets/base",
          "model_name": "LayoutModel",
          "model_module_version": "1.2.0",
          "state": {
            "_model_module": "@jupyter-widgets/base",
            "_model_module_version": "1.2.0",
            "_model_name": "LayoutModel",
            "_view_count": null,
            "_view_module": "@jupyter-widgets/base",
            "_view_module_version": "1.2.0",
            "_view_name": "LayoutView",
            "align_content": null,
            "align_items": null,
            "align_self": null,
            "border": null,
            "bottom": null,
            "display": null,
            "flex": null,
            "flex_flow": null,
            "grid_area": null,
            "grid_auto_columns": null,
            "grid_auto_flow": null,
            "grid_auto_rows": null,
            "grid_column": null,
            "grid_gap": null,
            "grid_row": null,
            "grid_template_areas": null,
            "grid_template_columns": null,
            "grid_template_rows": null,
            "height": null,
            "justify_content": null,
            "justify_items": null,
            "left": null,
            "margin": null,
            "max_height": null,
            "max_width": null,
            "min_height": null,
            "min_width": null,
            "object_fit": null,
            "object_position": null,
            "order": null,
            "overflow": null,
            "overflow_x": null,
            "overflow_y": null,
            "padding": null,
            "right": null,
            "top": null,
            "visibility": null,
            "width": null
          }
        },
        "48f944ba7b424ccfb018cff9397eb437": {
          "model_module": "@jupyter-widgets/controls",
          "model_name": "ButtonStyleModel",
          "model_module_version": "1.5.0",
          "state": {
            "_model_module": "@jupyter-widgets/controls",
            "_model_module_version": "1.5.0",
            "_model_name": "ButtonStyleModel",
            "_view_count": null,
            "_view_module": "@jupyter-widgets/base",
            "_view_module_version": "1.2.0",
            "_view_name": "StyleView",
            "button_color": null,
            "font_weight": ""
          }
        },
        "fe7f646356d541b5bb3209cbaf5e0321": {
          "model_module": "@jupyter-widgets/base",
          "model_name": "LayoutModel",
          "model_module_version": "1.2.0",
          "state": {
            "_model_module": "@jupyter-widgets/base",
            "_model_module_version": "1.2.0",
            "_model_name": "LayoutModel",
            "_view_count": null,
            "_view_module": "@jupyter-widgets/base",
            "_view_module_version": "1.2.0",
            "_view_name": "LayoutView",
            "align_content": null,
            "align_items": null,
            "align_self": null,
            "border": null,
            "bottom": null,
            "display": null,
            "flex": null,
            "flex_flow": null,
            "grid_area": null,
            "grid_auto_columns": null,
            "grid_auto_flow": null,
            "grid_auto_rows": null,
            "grid_column": null,
            "grid_gap": null,
            "grid_row": null,
            "grid_template_areas": null,
            "grid_template_columns": null,
            "grid_template_rows": null,
            "height": null,
            "justify_content": null,
            "justify_items": null,
            "left": null,
            "margin": null,
            "max_height": null,
            "max_width": null,
            "min_height": null,
            "min_width": null,
            "object_fit": null,
            "object_position": null,
            "order": null,
            "overflow": null,
            "overflow_x": null,
            "overflow_y": null,
            "padding": null,
            "right": null,
            "top": null,
            "visibility": null,
            "width": null
          }
        },
        "37a143054a6b448caf3d4e58f52eff70": {
          "model_module": "@jupyter-widgets/base",
          "model_name": "LayoutModel",
          "model_module_version": "1.2.0",
          "state": {
            "_model_module": "@jupyter-widgets/base",
            "_model_module_version": "1.2.0",
            "_model_name": "LayoutModel",
            "_view_count": null,
            "_view_module": "@jupyter-widgets/base",
            "_view_module_version": "1.2.0",
            "_view_name": "LayoutView",
            "align_content": null,
            "align_items": null,
            "align_self": null,
            "border": null,
            "bottom": null,
            "display": null,
            "flex": null,
            "flex_flow": null,
            "grid_area": null,
            "grid_auto_columns": null,
            "grid_auto_flow": null,
            "grid_auto_rows": null,
            "grid_column": null,
            "grid_gap": null,
            "grid_row": null,
            "grid_template_areas": null,
            "grid_template_columns": null,
            "grid_template_rows": null,
            "height": null,
            "justify_content": null,
            "justify_items": null,
            "left": null,
            "margin": null,
            "max_height": null,
            "max_width": null,
            "min_height": null,
            "min_width": null,
            "object_fit": null,
            "object_position": null,
            "order": null,
            "overflow": null,
            "overflow_x": null,
            "overflow_y": null,
            "padding": null,
            "right": null,
            "top": null,
            "visibility": null,
            "width": null
          }
        }
      }
    }
  },
  "cells": [
    {
      "cell_type": "markdown",
      "source": [
        "# MVP: Planejador de Viagens para Veículos Elétricos\n",
        "\n",
        "**Nome:** Seu Nome Completo  \n",
        "**Matrícula:** Sua Matrícula\n",
        "\n",
        "---"
      ],
      "metadata": {
        "id": "3-mHceWLPECa"
      }
    },
    {
      "cell_type": "markdown",
      "source": [
        "## 1. Introdução e Definição do Problema\n",
        "\n",
        "Com o crescimento do mercado de veículos elétricos (VEs), uma das maiores preocupações dos consumidores é a \"ansiedade de autonomia\" (range anxiety), o medo de ficar sem bateria durante uma viagem. A viabilidade de viagens de longa distância no Brasil depende diretamente da existência e distribuição de uma infraestrutura de recarga robusta.\n",
        "\n",
        "O objetivo deste projeto é analisar a base de dados do Open Charge Map para entender a distribuição, densidade e características das estações de recarga no Brasil e, a partir dessa análise, desenvolver uma ferramenta interativa para simular a viabilidade de rotas.\n",
        "\n",
        "### 1.1. Hipóteses Iniciais\n",
        "* **H1:** A infraestrutura de recarga é massivamente concentrada nas regiões Sul e Sudeste do Brasil.\n",
        "* **H2:** A rede de carregadores rápidos (DC), essencial para viagens, é escassa ou de difícil acesso público.\n",
        "* **H3:** Rotas entre grandes capitais como São Paulo e Rio de Janeiro são viáveis, mesmo considerando apenas carregadores de recarga mais lenta (AC).\n",
        "\n",
        "### 1.2. Fonte e Descrição dos Dados\n",
        "Os dados foram coletados via API do **Open Charge Map (OCM)**, uma base de dados global e colaborativa de pontos de recarga. Foram extraídos todos os pontos localizados no Brasil na data de 01/07/2025, totalizando 514 registros iniciais. Os principais atributos analisados foram a localização (`AddressInfo`), o tipo de acesso (`UsageType`) e o status operacional (`StatusType`)."
      ],
      "metadata": {
        "id": "PhOlXllbPl7Z"
      }
    },
    {
      "cell_type": "markdown",
      "source": [
        "# 2. Importação das Bibliotecas Necessárias e Carga de Dados\n",
        "\n",
        "Esta seção consolida todas as importações de bibliotecas necessárias para a análise, visualização e pré-processamento dos dados, bem como o carregamento inicial dos dados da API do Open Charge Map (OCM)"
      ],
      "metadata": {
        "id": "aUDdUmclQmTD"
      }
    },
    {
      "cell_type": "markdown",
      "source": [
        "### 2.1. Instalação de Bibliotecas Adicionais"
      ],
      "metadata": {
        "id": "AfAfN93ySJwZ"
      }
    },
    {
      "cell_type": "code",
      "source": [
        "print(\"Instalando bibliotecas necessárias...\")\n",
        "!pip install openrouteservice -q\n",
        "!pip install shapely -q\n",
        "print(\"✅ Bibliotecas prontas.\")"
      ],
      "metadata": {
        "colab": {
          "base_uri": "https://localhost:8080/"
        },
        "id": "S9e-ssiJScU0",
        "outputId": "e4bf1921-ed2a-45f1-860b-6192c3566d4f"
      },
      "execution_count": 1,
      "outputs": [
        {
          "output_type": "stream",
          "name": "stdout",
          "text": [
            "Instalando bibliotecas necessárias...\n",
            "✅ Bibliotecas prontas.\n"
          ]
        }
      ]
    },
    {
      "cell_type": "markdown",
      "source": [
        "### 2.2. Importação de Todas as Bibliotecas"
      ],
      "metadata": {
        "id": "HwuxpSoWSdmP"
      }
    },
    {
      "cell_type": "code",
      "source": [
        "print(\"Importando Bibliotecas necessárias...\")\n",
        "import pandas as pd\n",
        "import numpy as np\n",
        "import math\n",
        "import requests\n",
        "import folium\n",
        "import openrouteservice\n",
        "import ipywidgets as widgets\n",
        "from IPython.display import display\n",
        "from shapely.geometry import Point, LineString\n",
        "from geopy.distance import geodesic\n",
        "import matplotlib.pyplot as plt\n",
        "import seaborn as sns\n",
        "import ast\n",
        "import plotly.graph_objects as go\n",
        "import time\n",
        "\n",
        "# Habilita o gerenciador de widgets para o Google Colab\n",
        "from google.colab import output\n",
        "output.enable_custom_widget_manager()\n",
        "print(\"✅ Bibliotecas Importadas.\")"
      ],
      "metadata": {
        "colab": {
          "base_uri": "https://localhost:8080/"
        },
        "id": "fF_YBiYzQoAO",
        "outputId": "23b7616a-83c6-4dca-c56b-805e54f75a9e"
      },
      "execution_count": 2,
      "outputs": [
        {
          "output_type": "stream",
          "name": "stdout",
          "text": [
            "Importando Bibliotecas necessárias...\n",
            "✅ Bibliotecas Importadas.\n"
          ]
        }
      ]
    },
    {
      "cell_type": "markdown",
      "source": [
        "2.3. Carregamento dos Dados da API Open Charge Map"
      ],
      "metadata": {
        "id": "Qjl1CguXSqBO"
      }
    },
    {
      "cell_type": "code",
      "source": [
        "api_key = \"3911ea9f-e173-415f-995a-4b8b8140012c\"\n",
        "url = f'https://api.openchargemap.io/v3/poi/?output=json&countrycode=BR&maxresults=10000&key={api_key}'\n",
        "\n",
        "print(\"\\nBuscando dados da API do Open Charge Map para importar no gitHub...\")\n",
        "try:\n",
        "    response = requests.get(url)\n",
        "    response.raise_for_status()\n",
        "    data = response.json()\n",
        "    # Cria o DataFrame principal que será usado em todo o projeto\n",
        "    df = pd.json_normalize(data)\n",
        "    print(f\"✅ Sucesso! {len(df)} registros de pontos de recarga foram carregados para o Brasil.\")\n",
        "except Exception as e:\n",
        "    print(f\"❌ Erro ao buscar dados da API: {e}\")"
      ],
      "metadata": {
        "colab": {
          "base_uri": "https://localhost:8080/"
        },
        "id": "UwyZIzxHSpNK",
        "outputId": "17ea6cfa-ec04-4ee2-d72c-0c905dc84a76"
      },
      "execution_count": 3,
      "outputs": [
        {
          "output_type": "stream",
          "name": "stdout",
          "text": [
            "\n",
            "Buscando dados da API do Open Charge Map para importar no gitHub...\n",
            "✅ Sucesso! 514 registros de pontos de recarga foram carregados para o Brasil.\n"
          ]
        }
      ]
    },
    {
      "cell_type": "code",
      "source": [
        "df.to_csv('dataset_carregadores_brasil.csv', index=False)\n",
        "print(\"Arquivo 'dataset_carregadores_brasil.csv' criado com sucesso!\")"
      ],
      "metadata": {
        "colab": {
          "base_uri": "https://localhost:8080/"
        },
        "id": "i1yYepH-sKRY",
        "outputId": "187c18b0-5362-4940-ea0a-c67bc58601bf"
      },
      "execution_count": 4,
      "outputs": [
        {
          "output_type": "stream",
          "name": "stdout",
          "text": [
            "Arquivo 'dataset_carregadores_brasil.csv' criado com sucesso!\n"
          ]
        }
      ]
    },
    {
      "cell_type": "code",
      "source": [
        "\n",
        "url_dataset = 'https://raw.githubusercontent.com/santana4884/MVP-_Planejador_de_Viagens_para_Ve-culos_El-tricos/refs/heads/main/dataset_carregadores_brasil.csv'\n",
        "\n",
        "print(\"Carregando dataset a partir do repositório no GitHub...\")\n",
        "try:\n",
        "    # Cria o DataFrame principal a partir do arquivo CSV do seu repositório\n",
        "    df = pd.read_csv(url_dataset)\n",
        "    print(f\"✅ Sucesso! {len(df)} registros carregados do seu repositório.\")\n",
        "except Exception as e:\n",
        "    print(f\"❌ Erro ao carregar o dataset do GitHub: {e}\")\n",
        "    print(\"Verifique se a URL raw está correta e se o arquivo CSV está no seu repositório.\")"
      ],
      "metadata": {
        "colab": {
          "base_uri": "https://localhost:8080/"
        },
        "id": "Hw1KYcrCri3b",
        "outputId": "920c9b49-a072-4f79-a8fa-6ddb0813a3fc"
      },
      "execution_count": 5,
      "outputs": [
        {
          "output_type": "stream",
          "name": "stdout",
          "text": [
            "Carregando dataset a partir do repositório no GitHub...\n",
            "✅ Sucesso! 514 registros carregados do seu repositório.\n"
          ]
        }
      ]
    },
    {
      "cell_type": "markdown",
      "source": [
        "## 3. Análise Exploratória e Limpeza dos Dados\n",
        "Nesta seção, realizamos uma análise inicial para entender a estrutura dos dados e identificar inconsistências, aplicando as correções necessárias para garantir a qualidade das análises futuras."
      ],
      "metadata": {
        "id": "KYUqjSKuTUpH"
      }
    },
    {
      "cell_type": "markdown",
      "source": [
        "### 3.1. Distribuição Geográfica Geral dos Pontos de Recarga\n",
        "\n",
        "Após a carga inicial e a verificação da estrutura dos dados, o primeiro passo da nossa exploração é visualizar a distribuição geográfica de todos os pontos de recarga no Brasil. Um mapa interativo nos permite ter uma percepção imediata da densidade da infraestrutura e validar visualmente nossa primeira hipótese sobre a concentração regional."
      ],
      "metadata": {
        "id": "g37L1_n9W9SN"
      }
    },
    {
      "cell_type": "code",
      "source": [
        "import plotly.express as px\n",
        "\n",
        "print(\"Gerando mapa interativo de distribuição geográfica...\")\n",
        "\n",
        "# Usando o DataFrame 'df' inicial, antes de qualquer filtro\n",
        "fig = px.scatter_mapbox(df,\n",
        "                        lat=\"AddressInfo.Latitude\",\n",
        "                        lon=\"AddressInfo.Longitude\",\n",
        "                        hover_name=\"AddressInfo.Title\",\n",
        "                        hover_data={\"AddressInfo.Town\": True, \"OperatorInfo.Title\": True, \"AddressInfo.StateOrProvince\": True},\n",
        "                        color_discrete_sequence=[\"#0047AB\"],\n",
        "                        zoom=3,\n",
        "                        height=500,\n",
        "                        title=\"Distribuição de Carregadores de VE no Brasil\")\n",
        "\n",
        "fig.update_layout(mapbox_style=\"open-street-map\")\n",
        "fig.update_layout(margin={\"r\":0,\"t\":50,\"l\":0,\"b\":0}, title_font_size=20)\n",
        "fig.show()"
      ],
      "metadata": {
        "colab": {
          "base_uri": "https://localhost:8080/",
          "height": 534
        },
        "id": "QEfetezEXBxo",
        "outputId": "00541b4b-1350-4f3f-eeeb-d0941d08b251"
      },
      "execution_count": 6,
      "outputs": [
        {
          "output_type": "stream",
          "name": "stdout",
          "text": [
            "Gerando mapa interativo de distribuição geográfica...\n"
          ]
        },
        {
          "output_type": "display_data",
          "data": {
            "text/html": [
              "<html>\n",
              "<head><meta charset=\"utf-8\" /></head>\n",
              "<body>\n",
              "    <div>            <script src=\"https://cdnjs.cloudflare.com/ajax/libs/mathjax/2.7.5/MathJax.js?config=TeX-AMS-MML_SVG\"></script><script type=\"text/javascript\">if (window.MathJax && window.MathJax.Hub && window.MathJax.Hub.Config) {window.MathJax.Hub.Config({SVG: {font: \"STIX-Web\"}});}</script>                <script type=\"text/javascript\">window.PlotlyConfig = {MathJaxConfig: 'local'};</script>\n",
              "        <script charset=\"utf-8\" src=\"https://cdn.plot.ly/plotly-2.35.2.min.js\"></script>                <div id=\"d232cada-9bb8-4b87-bfbe-ea45f8e3c027\" class=\"plotly-graph-div\" style=\"height:500px; width:100%;\"></div>            <script type=\"text/javascript\">                                    window.PLOTLYENV=window.PLOTLYENV || {};                                    if (document.getElementById(\"d232cada-9bb8-4b87-bfbe-ea45f8e3c027\")) {                    Plotly.newPlot(                        \"d232cada-9bb8-4b87-bfbe-ea45f8e3c027\",                        [{\"customdata\":[[\"Sorocaba\",\"Go Electric E-Mobility (BR)\",\"São Paulo\"],[\" Rio de Janeiro\",\"EZVolt\",\"Rio de Janeiro\"],[\"São José dos Pinhais\",\"Shell Recharge Solutions (US)\",null],[\"São José dos Pinhais\",\"OnCharge (TR)\",\"Paraná\"],[\"Joinville \",\"Celesc\",\"Santa Catarina\"],[\"Joinville \",\"Zletric\",\"Santa Catarina\"],[\"Araquari \",\"Zletric\",\"Santa Catarina\"],[\"Barra Velha\",\"OnCharge (TR)\",\"Santa Catarina\"],[\"Balneário Camboriú\",\"Enel X\",\"Santa Catarina\"],[\"Itapema \",\"Enel X\",\"Santa Catarina\"],[\"Itapema \",\"Enel X\",\"Santa Catarina\"],[\"Porto Belo\",\"WeCharge (BR)\",\"Santa Catarina\"],[\"São José\",\"WeCharge (BR)\",\"Santa Catarina\"],[\"Kobrasol\",\"WeCharge (BR)\",\"Santa Catarina\"],[\"São José\",\"Tupinambá\",\"Santa Catarina\"],[\"SAO JOSE\",\"(Unknown Operator)\",\"Santa Catarina\"],[null,\"(Unknown Operator)\",null],[\"Porto Alegre\",\"(Unknown Operator)\",\"Rio Grande do Sul\"],[\"Barreirinhas\",\"(Unknown Operator)\",\"Bahia\"],[null,\"(Unknown Operator)\",\"Piauí\"],[\"Santa Bárbara d'Oeste\",\"(Unknown Operator)\",\"São Paulo\"],[\"São José do Rio Preto\",\"Zeta Uno (BR)\",\"São Paulo\"],[\"Guarulhos\",\"Zeta Uno (BR)\",\"São Paulo\"],[\"São Paulo\",\"Zeta Uno (BR)\",\"São Paulo\"],[\"Cambará Do Sul\",\"Volta Charging\",\"Rio Grande do Sul\"],[\"Palmeira\",\"(Unknown Operator)\",\"Paraná\"],[\"Palmeira\",\"(Unknown Operator)\",\"Paraná\"],[\"Cascavel\",\"(Unknown Operator)\",\"Paraná\"],[\"Campo Largo\",\"(Unknown Operator)\",\"Paraná\"],[\"Capao Alto\",\"(Unknown Operator)\",\"Santa Catarina\"],[\"Ituiutaba \",\"(Unknown Operator)\",\"Minas Gerais\"],[\"São Luís\",\"Amazônia Eletrovias\",\"Maranhão\"],[\"Aracaju\",\"BR Super Carga\",\"Sergipe\"],[\"Parnaíba\",\"BR Super Carga\",\"Piauí\"],[\"Mossoró\",\"BR Super Carga\",\"Rio Grande do Norte\"],[\"Fortaleza\",\"BR Super Carga\",\"Ceará\"],[\"Aquiraz\",\"BR Super Carga\",\"Ceará\"],[\"Eusébio\",\"BR Super Carga\",\"Ceará\"],[\"Mossoró\",\"BR Super Carga\",\"Rio Grande do Norte\"],[\"Arapiraca\",\"BR Super Carga\",\"Alagoas\"],[\"Maceió\",\"BR Super Carga\",\"Alagoas\"],[\"Tucano\",\"BR Super Carga\",\"Bahia\"],[\"Piripiri\",\"BR Super Carga\",\"Piauí\"],[\"Araripina\",\"BR Super Carga\",\"Pernambuco\"],[\"Fortaleza\",\"BR Super Carga\",\"Ceará\"],[\"Caxias\",\"BR Super Carga\",\"Maranhão\"],[\"Campina Grande\",\"BR Super Carga\",\"Paraíba\"],[\"Meruoca\",\"BR Super Carga\",\"Ceará\"],[\"Caucaia\",\"BR Super Carga\",\"Ceará\"],[\"Araripina\",\"BR Super Carga\",\"Pernambuco\"],[\"Bom Jesus\",\"(Unknown Operator)\",\"Piauí\"],[\"Col. do Gurguéia\",\"(Unknown Operator)\",\"Piauí\"],[\"Aquiraz\",\"BR Super Carga\",\"Ceará\"],[null,\"(Unknown Operator)\",null],[\"Aracaju\",\"BR Super Carga\",\"Sergipe\"],[\"Anápolis\",\"Amazônia Eletrovias\",\"Goiás\"],[\"Porto Alegre \",\"(Unknown Operator)\",\"Rio Grande do Sul\"],[\"Porto Alegre \",\"(Unknown Operator)\",\"Rio Grande do Sul\"],[\"Col. do Gurguéia\",\"(Business Owner at Location)\",\"Piauí\"],[\"Pirassununga \",\"EZVolt\",\"São Paulo\"],[\"Presidente Dutra\",\"Amazônia Eletrovias\",\"Maranhão\"],[\"São Lourenço \",\"(Unknown Operator)\",\"Minas Gerais\"],[\"Butia\",\"(Unknown Operator)\",\"Rio Grande do Sul\"],[\"Aguas De Lindoia\",\"Tupinambá\",\"São Paulo\"],[\"Arapiraca\",\"BR Super Carga\",\"Alagoas\"],[\"Natal\",\"BR Super Carga\",\"Rio Grande do Norte\"],[\"Fortaleza\",\"VAPT (BR)\",\"Ceará\"],[\"Grajaú\",\"Amazônia Eletrovias\",\"Maranhão\"],[\"Tibau do Sul\\t\",\"BR Super Carga\",\"Rio Grande do Norte\"],[\"Campina Grande\",\"BR Super Carga\",\"Paraíba\"],[\"Caruaru\",\"BR Super Carga\",\"Pernambuco\"],[\"Balsas\",\"Amazônia Eletrovias\",\"Maranhão\"],[\"Marituba\",\"Amazônia Eletrovias\",\"Pará\"],[\"Goiânia\",\"(Unknown Operator)\",\"Goiás\"],[\"Fortaleza\",\"DCC Energy\",\"Ceará\"],[\"Fortaleza \",\"DCC Energy\",\"Ceará\"],[\"Fortaleza\",\"DCC Energy\",\"Ceará\"],[\"Barro Alto\",\"Amazônia Eletrovias\",\"Goiás\"],[\"Parnamirim\",\"BR Super Carga\",\"Rio Grande do Norte\"],[\"Maceió\",\"BR Super Carga\",\"Alagoas\"],[\"Porto Alegre\",\"Zeta Uno (BR)\",\"Rio Grande do Sul\"],[\"Gurupi\",\"Amazônia Eletrovias\",\"Tocantins\"],[\"Paraíso do Tocantins\",\"Amazônia Eletrovias\",\"Tocantins\"],[\"Camocim\",\"Amazônia Eletrovias\",\"Ceará\"],[\"Barreirinhas\",\"Amazônia Eletrovias\",\"Maranhão\"],[\"Chapadinha\",\"Amazônia Eletrovias\",\"Maranhão\"],[\"Tutóia\",\"Amazônia Eletrovias\",\"Maranhão\"],[\"Capanema\",\"Amazônia Eletrovias\",\"Pará\"],[\"Belém\",\"Amazônia Eletrovias\",\"Pará\"],[\"Mãe do Rio\",\"Amazônia Eletrovias\",\"Pará\"],[\"Ulianópolis\",\"Amazônia Eletrovias\",\"Pará\"],[\"Paraíso do Tocantins\",\"Amazônia Eletrovias\",\"Tocantins\"],[\"Guaraí\",\"Amazônia Eletrovias\",\"Tocantins\"],[\"Araguaína\",\"Amazônia Eletrovias\",\"Tocantins\"],[\"Carolina\",\"Amazônia Eletrovias\",\"Maranhão\"],[\"Imperatriz\",\"Amazônia Eletrovias\",\"Maranhão\"],[\"Imperatriz\",\"Amazônia Eletrovias\",\"Maranhão\"],[\"Buriticupu\",\"Amazônia Eletrovias\",\"Maranhão\"],[\"São Luís \",\"Amazônia Eletrovias\",\"Maranhão\"],[\"Porangatu\",\"Amazônia Eletrovias\",\"Goiás\"],[\"Teresina\",\"(Unknown Operator)\",\"Piauí\"],[\"Boa Vista das Missões\",\"Creluz (BR)\",\"Rio Grande do Sul\"],[\"Palmeira das Missões\",\"Creluz (BR)\",\"Rio Grande do Sul\"],[\"Rosário do Sul\",\"(Unknown Operator)\",\"Rio Grande do Sul\"],[\"Ijui\",\"(Unknown Operator)\",\"Rio Grande do Sul\"],[\"Teresina\",\"(Unknown Operator)\",\"Piauí\"],[\"Água Branca\",\"(Unknown Operator)\",\"Piauí\"],[\"Alfenas\",\"(Unknown Operator)\",\"Minas Gerais\"],[\"Quixadá\",\"BR Super Carga\",\"Ceará\"],[\"Santa Rita Do Sapucaí \",\"Incharge (SE)\",\"Minas Gerais\"],[\"Tangará\",\"VAPT (BR)\",\"Rio Grande do Norte\"],[\"Ourinhos \",\"Tupinambá\",\"São Paulo\"],[null,\"EZVolt\",\"São Paulo\"],[\"Aracaju\",\"BR Super Carga\",\"Sergipe\"],[\"Alto Alegre do Maranhão\",\"BR Super Carga\",\"Maranhão\"],[\"Teresina\",\"BR Super Carga\",\"Piauí\"],[\"Caicó\",\"BR Super Carga\",\"Rio Grande do Norte\"],[\"Eusébio\",\"BR Super Carga\",\"Ceará\"],[\"Campina Grande\",\"BR Super Carga\",\"Paraíba\"],[\"Cajazeiras\",\"(Unknown Operator)\",\"Paraíba\"],[\"Campina Grande\",\"(Unknown Operator)\",\"Paraíba\"],[\"Natal\",\"(Unknown Operator)\",\"Rio Grande do Norte\"],[\"João Pessoa\",null,\"Paraíba\"],[\"Parnamirim\",\"VAPT (BR)\",\"Rio Grande do Norte\"],[\"Natal\",\"(Unknown Operator)\",\"Rio Grande do Norte\"],[\"Toritama\",\"VAPT (BR)\",\"Pernambuco\"],[\"Cabedelo\",\"BR Super Carga\",\"Paraíba\"],[\"Itatiaia\",\"Rede Graal (BR)\",\"Rio de Janeiro\"],[null,\"Tupinambá\",\"Paraná\"],[null,\"Tupinambá\",\"Paraná\"],[null,\"EV Eletroposto (Brasil)\",\"Paraná\"],[\"Região Metropolitana de Guarabira\",\"VAPT (BR)\",\"Paraíba\"],[\"João Pessoa\",null,\"Paraíba\"],[\"Maceió\",\"BR Super Carga\",\"Alagoas\"],[\"João Pessoa\",\"BR Super Carga\",\"Paraíba\"],[null,\"(Unknown Operator)\",\"Minas Gerais\"],[\"São Paulo\",\"Zeta Uno (BR)\",\"São Paulo\"],[\"Acaraú\",\"DCC Energy\",\"Ceará\"],[\"Fortaleza \",\"DCC Energy\",\"Ceará\"],[null,\"Tupinambá\",\"São Paulo\"],[\"Arapiraca\",\"BR Super Carga\",\"Alagoas\"],[\"Maceió\",\"BR Super Carga\",\"Alagoas\"],[\"Fortaleza\",\"DCC Energy\",\"Ceará\"],[\"Fortaleza\",\"DCC Energy\",\"Ceará\"],[\"Luis Correia\",\"Amazônia Eletrovias\",\"Piauí\"],[\"Caetité\",\"(Unknown Operator)\",\"Bahia\"],[\"Vitória Da Conquista \",\"(Unknown Operator)\",\"Bahia\"],[\"Vitória da Conquista\",\"(Unknown Operator)\",\"Bahia\"],[null,\"(Unknown Operator)\",\"Bahia\"],[\"Governador Nunes Freire\",\"Amazônia Eletrovias\",\"Maranhão\"],[\"Santa Inês\",\"Amazônia Eletrovias\",\"Maranhão\"],[\"Maceio\",\"BR Super Carga\",\"Alagoas\"],[\"Sobral\",\"(Unknown Operator)\",\"Ceará\"],[\"Barbacena\",\"(Unknown Operator)\",\"Minas Gerais\"],[\"Pindamonhangaba\",\"EDP Smart\",\"São Paulo\"],[\"Barbacena\",\"(Unknown Operator)\",\"Minas Gerais\"],[\"São Luis\",\"BR Super Carga\",\"Maranhão\"],[\"Pau dos Ferros\",\"BR Super Carga\",\"Rio Grande do Norte\"],[\"Tibau\",\"BR Super Carga\",\"Rio Grande do Norte\"],[\"Jundiaí\",\"Rede Graal (BR)\",\"São Paulo\"],[null,\"Rede Graal (BR)\",\"São Paulo\"],[null,\"(Unknown Operator)\",\"Paraná\"],[\"Balneário Camboriú\",\"(Unknown Operator)\",\"Santa Catarina\"],[null,\"(Unknown Operator)\",\"Paraná\"],[null,\"EZVolt\",\"São Paulo\"],[null,\"EZVolt\",\"São Paulo\"],[\"Bacabal\",\"BR Super Carga\",\"Maranhão\"],[\"São José Dos Pinhais\",\"(Unknown Operator)\",\"Paraná\"],[\"Garuva\",\"(Unknown Operator)\",\"Santa Catarina\"],[\"Joinville\",\"(Unknown Operator)\",\"Santa Catarina\"],[\"Balneario Piçarras\",\"(Unknown Operator)\",\"Santa Catarina\"],[\"Balneario Piçarras\",\"(Unknown Operator)\",\"Santa Catarina\"],[\"Itatiba\",\"(Unknown Operator)\",\"São Paulo\"],[\"Além Paraíba\",\"(Unknown Operator)\",\"Minas Gerais\"],[\"Sapucaia\",\"(Unknown Operator)\",\"Rio de Janeiro\"],[\"Porto Alegre\",\"(Unknown Operator)\",\"Rio Grande do Sul\"],[\"Quatro Barras\",\"EV Eletroposto (Brasil)\",\"Paraná\"],[\"Campina Grande\",\"(Unknown Operator)\",\"Paraíba\"],[\"Campina Grande\",\"(Unknown Operator)\",\"Paraíba\"],[\"Campina Grande\",\"(Unknown Operator)\",\"Paraíba\"],[\"Canudos\",\"EZVolt\",\"Bahia\"],[\"Afrânio\",\"Plug N Go Ltd\",\"Pernambuco\"],[\"Juazeiro\",\"Plug N Go Ltd\",\"Bahia\"],[\"Capim Grosso\",\"Plug N Go Ltd\",\"Bahia\"],[null,\"Plug N Go Ltd\",\"Bahia\"],[\"Simolandia\",\"EZVolt\",\"Goiás\"],[\"Nova Viçosa\",\"(Unknown Operator)\",\"Bahia\"],[\"Dionisio Cequeira\",\"(Unknown Operator)\",\"Santa Catarina\"],[null,\"(Unknown Operator)\",\"Paraná\"],[null,\"(Unknown Operator)\",\"Paraná\"],[null,\"(Unknown Operator)\",\"Paraná\"],[\"Beberibe\",\"BR Super Carga\",\"Ceará\"],[null,\"Tupinambá\",\"Rio de Janeiro\"],[\"Americana\",\"Tupinambá\",\"São Paulo\"],[\"Americana\",\"(Unknown Operator)\",\"São Paulo\"],[\"Garanhuns\",\"BR Super Carga\",\"Pernambuco\"],[\"Marechal Deodoro\",\"BR Super Carga\",\"Alagoas\"],[null,\"BR Super Carga\",\"Rio Grande do Norte\"],[\"Piracuruca\",\"BR Super Carga\",\"Piauí\"],[\"Natal\",\"BR Super Carga\",\"Rio Grande do Norte\"],[\"São Bernardo do Campo\",\"Go Electric E-Mobility (BR)\",\"São Paulo\"],[\"Juazeiro do Norte\",\"ChargeMod (IN)\",\"Ceará\"],[\"Fortaleza\",\"DCC Energy\",\"Ceará\"],[\"Capitão de Campos\",\"E-Mobi\",\"Piauí\"],[\"Campo Maior\",\"BR Super Carga\",\"Piauí\"],[null,\"Zletric\",\"Piauí\"],[\"Teresina\",\"BR Super Carga\",\"Piauí\"],[\"Miranda do Norte\",\"BR Super Carga\",\"Maranhão\"],[\"Guararema\",\"(Unknown Operator)\",\"São Paulo\"],[\"Tanguá\",\"EZVolt\",\"Rio de Janeiro\"],[\"Itaboraí\",\"(Unknown Operator)\",\"Rio de Janeiro\"],[\"Louveira \",\"(Unknown Operator)\",\"São Paulo\"],[\"Juazeiro do Norte\",\"BR Super Carga\",\"Ceará\"],[\"Jundiai\",\"(Unknown Operator)\",\"São Paulo\"],[null,\"(Unknown Operator)\",\"São Paulo\"],[\"Euclides da Cunha\",\"EZVolt\",\"Bahia\"],[null,\"EZVolt\",\"Bahia\"],[null,\"EZVolt\",\"Pernambuco\"],[\"Seabra\",\"EZVolt\",\"Bahia\"],[\"Ibotirama\",\"EZVolt\",\"Bahia\"],[null,\"EZVolt\",\"Bahia\"],[\"Canindé de São Francisco\",\"EZVolt\",\"Sergipe\"],[null,\"EZVolt\",\"Bahia\"],[\"Junqueiro\",\"BR Super Carga\",\"Alagoas\"],[null,\"BR Super Carga\",\"Alagoas\"],[null,\"Zletric\",\"Pernambuco\"],[null,\"Tupinambá\",\"Pernambuco\"],[\"Campina Grande\",\"BR Super Carga\",\"Paraíba\"],[null,\"BR Super Carga\",\"Paraíba\"],[\"Sousa\",\"EZVolt\",\"Paraíba\"],[\"Salgueiro\",\"EZVolt\",\"Pernambuco\"],[\"Santo Amaro do Maranhão\",\"Volta Charging\",\"Maranhão\"],[null,\"BR Super Carga\",\"Piauí\"],[null,\"BR Super Carga\",\"Piauí\"],[null,\"BR Super Carga\",\"Piauí\"],[\"Crateús\",\"Char.gy\",\"Ceará\"],[\"Santa Quitéria\",\"BR Super Carga\",\"Ceará\"],[null,\"DCC Energy\",\"Ceará\"],[\"Canindé\",\"Char.gy\",\"Ceará\"],[\"Fortim\",\"DCC Energy\",\"Ceará\"],[\"Limoeiro do Norte\",\"BR Super Carga\",\"Ceará\"],[\"Mossoro\",\"BR Super Carga\",\"Rio Grande do Norte\"],[null,\"BR Super Carga\",\"Rio Grande do Norte\"],[\"Guaíra\",\"Copel\",\"Paraná\"],[\"Itaipava\",\"Shell Recharge Solutions (US)\",\"Rio de Janeiro\"],[\"Petrópolis\",\"EZVolt\",\"Rio de Janeiro\"],[\"Cajamar\",\"Go Electric E-Mobility (BR)\",\"São Paulo\"],[\"Iguatu\",\"BR Super Carga\",\"Ceará\"],[\"São Luís do Curu\",\"DCC Energy\",\"Ceará\"],[null,\"(Unknown Operator)\",\"Pernambuco\"],[\"Brasília\",\"Yellotmob (Brasil)\",\"Distrito Federal\"],[\"Natal\",\"Enel X\",\"Rio Grande do Norte\"],[\"Tianguá\",\"DCC Energy\",\"Ceará\"],[\"Lagoinha do Piaui\",\"(Unknown Operator)\",\"Piauí\"],[\"Tauá\",\"(Unknown Operator)\",\"Ceará\"],[null,\"WeCharge (BR)\",\"Rio Grande do Sul\"],[\"Caucaia\",\"DCC Energy\",\"Ceará\"],[\"Itapajé\",\"(Unknown Operator)\",\"Ceará\"],[\"Sobral\",\"BR Super Carga\",\"Ceará\"],[\"Santiago\",\"(Unknown Operator)\",\"Rio Grande do Sul\"],[\"Xangri-la\",\"(Unknown Operator)\",null],[\"Paraipaba\",\"BR Super Carga\",\"Ceará\"],[\"Ametista Do Sul\",\"(Unknown Operator)\",\"Rio Grande do Sul\"],[\"Araxá\",\"Tupinambá\",\"Minas Gerais\"],[\"São Paulo\",\"Tupinambá\",\"São Paulo\"],[\"São Paulo\",\"Tupinambá\",\"São Paulo\"],[\"São Paulo\",\"Tupinambá\",\"São Paulo\"],[\"Torres\",\"(Unknown Operator)\",\"Rio Grande do Sul\"],[\"Santa Maria\",\"(Unknown Operator)\",\"Rio Grande do Sul\"],[\"Joinville \",\"(Unknown Operator)\",\"Santa Catarina\"],[\"Fortaleza\",\"BR Super Carga\",\"Ceará\"],[\"Teresina\",\"(Unknown Operator)\",\"Piauí\"],[\"Mossoró\",\"(Unknown Operator)\",\"Rio Grande do Norte\"],[\"Trairi\",\"(Unknown Operator)\",\"Ceará\"],[\"Fortaleza\",\"(Unknown Operator)\",\"Ceará\"],[\"Fortaleza\",\"Enel X\",\"Ceará\"],[\"Sobral\",\"(Unknown Operator)\",\"Ceará\"],[null,\"(Unknown Operator)\",\"Rio Grande do Sul\"],[\"Mossoró\",\"BR Super Carga\",\"Rio Grande do Norte\"],[\"Jundiaí \",\"(Unknown Operator)\",\"São Paulo\"],[\"Santa Maria\",\"(Unknown Operator)\",\"Rio Grande do Sul\"],[\"Santa Cruz do Sul\",\"(Unknown Operator)\",\"Rio Grande do Sul\"],[\"Sombrio\",\"(Unknown Operator)\",\"Santa Catarina\"],[\"Santa Vitória do Palmar\",\"(Unknown Operator)\",\"Rio Grande do Sul\"],[\"Quixeramobim\",\"BR Super Carga\",\"Ceará\"],[\"Osório\",\"(Unknown Operator)\",\"Rio Grande do Sul\"],[\"Jaguarão\",\"(Unknown Operator)\",\"Rio Grande do Sul\"],[\"Santa Vitória do Palmar\",\"(Unknown Operator)\",\"Rio Grande do Sul\"],[null,\"(Unknown Operator)\",\"Rio Grande do Sul\"],[null,\"(Unknown Operator)\",\"Rio Grande do Sul\"],[null,\"(Unknown Operator)\",\"Rio Grande do Sul\"],[\"Barra do Ribeiro\",\"(Unknown Operator)\",\"Rio Grande do Sul\"],[\"Eldorado do Sul\",\"(Unknown Operator)\",\"Rio Grande do Sul\"],[\"Divinópolis\",\"(Unknown Operator)\",\"Minas Gerais\"],[\"Araxá\",\"(Unknown Operator)\",\"Minas Gerais\"],[\"Santa Rita do Passa Quatro\",\"Go Electric E-Mobility (BR)\",\"São Paulo\"],[null,\"EZVolt\",\"Rio de Janeiro\"],[\"Seropédica\",\"EZVolt\",\"Rio de Janeiro\"],[\"Juiz de Fora\",\"Enel X\",\"Minas Gerais\"],[\"Caldas Novas\",\"(Unknown Operator)\",\"Goiás\"],[\"Fortaleza\",\"(Unknown Operator)\",\"Ceará\"],[\"Canela\",\"(Unknown Operator)\",\"Rio Grande do Sul\"],[null,\"(Unknown Operator)\",\"Rio de Janeiro\"],[\"Jaguaribara\",\"(Unknown Operator)\",\"Ceará\"],[\"Icó\",\"(Unknown Operator)\",\"Ceará\"],[\"Salgueiro\",\"(Unknown Operator)\",\"Pernambuco\"],[\"Petrolina\",\"(Unknown Operator)\",\"Pernambuco\"],[\"Tucano\",\"(Unknown Operator)\",\"Bahia\"],[\"Tucano\",\"(Unknown Operator)\",\"Bahia\"],[\"Jundiaí\",\"(Unknown Operator)\",\"São Paulo\"],[\"São José do Rio Preto\",\"ATM.EV\",\"São Paulo\"],[\"Milagres\",\"BR Super Carga\",\"Bahia\"],[\"Bom Jesus da Lapa\",\"(Unknown Operator)\",\"Bahia\"],[\"Brumado\",\"(Unknown Operator)\",\"Bahia\"],[\"Correntina\",\"(Unknown Operator)\",\"Bahia\"],[\"Correntina\",\"(Unknown Operator)\",\"Bahia\"],[\"São Gonçalo do Sapucaí\",\"(Unknown Operator)\",\"Minas Gerais\"],[\"Ipameri\",\"(Unknown Operator)\",\"Goiás\"],[\"Ipameri\",\"(Unknown Operator)\",\"Goiás\"],[null,\"(Unknown Operator)\",\"Goiás\"],[null,\"(Unknown Operator)\",\"Goiás\"],[null,\"(Unknown Operator)\",\"Goiás\"],[null,\"(Unknown Operator)\",\"Goiás\"],[\"Paranaíba\",\"(Unknown Operator)\",\"Mato Grosso do Sul\"],[null,\"(Unknown Operator)\",\"Goiás\"],[\"Araguari\",\"(Unknown Operator)\",\"Goiás\"],[\"Ico\",\"(Unknown Operator)\",\"Ceará\"],[\"Eunapolis\",\"(Unknown Operator)\",\"Bahia\"],[\"Vitoria da Conquista\",\"EV Loader\",\"Bahia\"],[\"Lençois\",\"EV Loader\",\"Bahia\"],[\"Barreiras\",\"EV Loader\",\"Bahia\"],[\"Luis Eduardo Magalhaes\",\"EV Loader\",\"Bahia\"],[\"Luis Eduardo Magalhaes\",\"EV Loader\",\"Bahia\"],[\"Franca\",\"Tupinambá\",\"São Paulo\"],[\"Ibate\",\"Enel X\",\"São Paulo\"],[\"Araraquara\",\"Enel X\",\"São Paulo\"],[\"Avaré\",\"Enel X\",\"São Paulo\"],[\"Botucatu\",\"Enel X\",\"São Paulo\"],[\"Alfredo Wagner\",\"Celesc\",\"Santa Catarina\"],[\"Vacaria\",\"(Unknown Operator)\",\"Rio Grande do Sul\"],[\"Caxias do Sul\",\"(Unknown Operator)\",\"Rio Grande do Sul\"],[\"Perdões\",\"(Unknown Operator)\",\"Minas Gerais\"],[\"Itu\",\"Tupinambá\",\"São Paulo\"],[\"Campos Novos\",\"(Unknown Operator)\",\"Santa Catarina\"],[\"Lages\",\"(Unknown Operator)\",\"Santa Catarina\"],[\"São Paulo\",\"Porsche Smart Mobility GmbH\",\"São Paulo\"],[\"São Paulo\",\"Porsche Smart Mobility GmbH\",\"São Paulo\"],[\"Belo Horizonte\",\"Enel X\",\"Minas Gerais\"],[\"Belo Horizonte\",\"Enel X\",\"Minas Gerais\"],[\"Curvelo\",\"Incharge (SE)\",\"Minas Gerais\"],[\"Manaus\",\"Enel X\",\"Amazonas\"],[\"Cuiabá\",\"Enel X\",\"Mato Grosso\"],[\"Cuiabá\",\"Enel X\",\"Mato Grosso\"],[\"Uberlândia\",\"Enel X\",\"Minas Gerais\"],[\"Ribeirão Preto\",\"Enel X\",\"São Paulo\"],[\"Ribeirão Preto\",\"Enel X\",\"São Paulo\"],[\"Ribeirão Preto\",\"EDP Smart\",\"São Paulo\"],[\"Ribeirão Preto\",\"EDP Smart\",\"São Paulo\"],[\"Cravinhos\",\"Tupinambá\",\"São Paulo\"],[\"Campinas\",\"Tupinambá\",\"São Paulo\"],[\"Curitiba\",\"Enel X\",\"Paraná\"],[\"Itajaí\",\"Zletric\",\"Santa Catarina\"],[\"Laguna\",\"Zletric\",\"Santa Catarina\"],[\"Campina Grande do Sul\",\"(Unknown Operator)\",\"Paraná\"],[\"Brazlândia\",\"(Unknown Operator)\",\"Distrito Federal\"],[\"Juquiá\",\"(Unknown Operator)\",\"São Paulo\"],[null,\"(Unknown Operator)\",\"Ceará\"],[\"Santa Vitória do Palmar\",\"(Unknown Operator)\",\"Rio Grande do Sul\"],[\"Pelotas\",\"(Unknown Operator)\",\"Rio Grande do Sul\"],[\"Pelotas\",\"(Unknown Operator)\",\"Rio Grande do Sul\"],[\"Pelotas\",\"(Unknown Operator)\",\"Rio Grande do Sul\"],[\"Camaquã\",\"(Unknown Operator)\",\"Rio Grande do Sul\"],[\"Camaquã\",\"(Unknown Operator)\",\"Rio Grande do Sul\"],[\"Camaquã\",\"(Unknown Operator)\",\"Rio Grande do Sul\"],[\"Barra do Ribeiro\",\"(Unknown Operator)\",\"Rio Grande do Sul\"],[\"Fortaleza\",\"Enel X\",\"Ceará\"],[\"Fortaleza\",\"Enel X\",\"Ceará\"],[\"Teixeira de Freitas\",\"(Unknown Operator)\",\"Bahia\"],[\"Horizonte\",\"BR Super Carga\",\"Ceará\"],[\"Fortaleza\",\"Enel X\",\"Ceará\"],[\"Fortaleza\",\"Enel X\",\"Ceará\"],[\"Fortaleza\",\"Enel X\",\"Ceará\"],[\"Eunápolis\",\"(Unknown Operator)\",\"Bahia\"],[\"Itabuna\",\"(Unknown Operator)\",\"Bahia\"],[\"Santo Antonio de Jesus\",\"(Unknown Operator)\",\"Bahia\"],[\"Caxias do Sul\",\"Zletric\",\"Rio Grande do Sul\"],[\"Torres\",\"Tupinambá\",\"Rio Grande do Sul\"],[\"São Vicente\",\"Tupinambá\",\"Santa Catarina\"],[\"Curitiba\",\"Copel\",\"Paraná\"],[\"Curitiba\",\"(Unknown Operator)\",\"Paraná\"],[\"São Paulo\",\"EZVolt\",\"São Paulo\"],[\"São Paulo\",\"EZVolt\",\"São Paulo\"],[\"Tatuapé\",\"Zletric\",\"São Paulo\"],[\"Jacareí\",\"Tupinambá\",\"São Paulo\"],[\"Rio de Janeiro\",\"ATM.EV\",\"Rio de Janeiro\"],[\"Silva Jardim\",\"ATM.EV\",\"Rio de Janeiro\"],[\"Rio das Ostras\",\"ATM.EV\",\"Rio de Janeiro\"],[\"Cachoeiro de Itapemirim\",\"EDP Smart\",\"Espírito Santo\"],[\"Cachoeiro de Itapemirim\",\"EDP Smart\",\"Espírito Santo\"],[\"Guarapari\",\"EDP Smart\",\"Espírito Santo\"],[\"João Neiva\",\"EDP Smart\",\"Espírito Santo\"],[\"Linhares\",\"EDP Smart\",\"Espírito Santo\"],[\"Linhares\",\"EDP Smart\",\"Espírito Santo\"],[\"Linhares\",\"EDP Smart\",\"Espírito Santo\"],[\"São Mateus\",\"EDP Smart\",\"Espírito Santo\"],[\"São Mateus\",\"EDP Smart\",\"Espírito Santo\"],[\"Itamaraju\",\"(Unknown Operator)\",\"Bahia\"],[\"Mossoró\",\"(Unknown Operator)\",\"Rio Grande do Norte\"],[\"Fortim\",\"(Unknown Operator)\",\"Ceará\"],[\"Sobral\",\"Enel X\",\"Ceará\"],[\"Piripiri\",\"BR Super Carga\",\"Piauí\"],[\"Castanhal\",\"(Unknown Operator)\",\"Pará\"],[\"Belem\",\"(Unknown Operator)\",\"Pará\"],[\"Belém\",\"(Unknown Operator)\",\"Pará\"],[\"Natal\",\"(Unknown Operator)\",\"Rio Grande do Norte\"],[\"Gramado\",\"Zletric\",\"Rio Grande do Sul\"],[\"Porto Alegre\",\"Zletric\",\"Rio Grande do Sul\"],[\"Três Cachoeiras\",\"Zletric\",\"Rio Grande do Sul\"],[\"Rio de Janeiro\",\"Tupinambá\",\"Rio de Janeiro\"],[\"Vitória\",\"EDP Smart\",\"Espírito Santo\"],[\"Vitória\",\"EDP Smart\",\"Espírito Santo\"],[\"Salvador\",\"NeoEnergia\",\"Bahia\"],[\"Mata de São João\",\"NeoEnergia\",\"Bahia\"],[\"Entre Rios\",\"NeoEnergia\",\"Bahia\"],[\"Estância\",\"NeoEnergia\",\"Sergipe\"],[\"Aracaju\",\"Enel X\",\"Sergipe\"],[\"Rio Largo\",\"NeoEnergia\",\"Alagoas\"],[\"Escada\",\"NeoEnergia\",\"Pernambuco\"],[\"Jaboatao dos Guararapes\",\"NeoEnergia\",\"Pernambuco\"],[\"Joao Pessoa\",\"NeoEnergia\",\"Paraíba\"],[\"Fortaleza\",\"DCC Energy\",\"Ceará\"],[\"Teresina\",\"Enel X\",\"Piauí\"],[\"Caxias\",\"(Unknown Operator)\",\"Maranhão\"],[\"Alto Alegre do Maranhão\",\"(Unknown Operator)\",\"Maranhão\"],[\"Itapecuru-Mirim\",\"(Unknown Operator)\",\"Maranhão\"],[\"São Luis\",\"(Unknown Operator)\",\"Maranhão\"],[\"Coruripe\",\"(Unknown Operator)\",\"Alagoas\"],[null,\"NeoEnergia\",\"Rio Grande do Norte\"],[null,\"(Unknown Operator)\",\"Rio Grande do Norte\"],[null,\"EZVolt\",\"São Paulo\"],[null,\"EZVolt\",\"São Paulo\"],[\"Paranguá\",\"Copel\",\"Paraná\"],[\"Campinas\",\"(Unknown Operator)\",\"São Paulo\"],[\"São Paulo\",\"EZVolt\",\"São Paulo\"],[\"São Sebastião do Caí\",\"Zletric\",\"Rio Grande do Sul\"],[\"Novo Hamburgo\",\"(Unknown Operator)\",\"Rio Grande do Sul\"],[\"Gravataí\",\"Zletric\",\"Rio Grande do Sul\"],[\"Jundiaí\",\"(Unknown Operator)\",\"São Paulo\"],[\"Jundiaí\",\"(Unknown Operator)\",\"São Paulo\"],[\"Jundiaí\",\"(Unknown Operator)\",\"São Paulo\"],[\"Osório\",\"(Unknown Operator)\",\"Rio Grande do Sul\"],[\"Porto Alegre\",\"(Business Owner at Location)\",\"Rio Grande do Sul\"],[\"Bertioga\",\"EDP Smart\",\"São Paulo\"],[\"Porto Ferreira\",\"(Unknown Operator)\",\"São Paulo\"],[\"Leme\",\"Zletric\",\"São Paulo\"],[\"Fernandes Pinheiro\",\"(Unknown Operator)\",\"Paraná\"],[\"Palmeira\",\"Copel\",\"Paraná\"],[\"Cajati\",\"Enel X\",\"São Paulo\"],[\"São Paulo\",\"Tupinambá\",\"São Paulo\"],[\"São Sebastião\",\"Enel X\",\"São Paulo\"],[\"Roseira\",\"EZVolt\",\"São Paulo\"],[\"Teresópolis\",\"(Unknown Operator)\",\"Rio de Janeiro\"],[\"Barueri\",\"(Unknown Operator)\",\"São Paulo\"],[\"Barueri\",null,\"São Paulo\"],[\"Foz do Iguaçu\",\"Copel\",\"Paraná\"],[\"Matelândia\",\"Copel\",\"Paraná\"],[\"Cascavel\",\"Copel\",\"Paraná\"],[\"Ibema\",\"Copel\",\"Paraná\"],[\"Laranjeiras do Sul\",\"Copel\",\"Paraná\"],[\"Candói\",\"Copel\",\"Paraná\"],[\"Maracajá\",\"(Unknown Operator)\",\"Santa Catarina\"],[\"Laguna\",\"(Unknown Operator)\",\"Santa Catarina\"],[\"Porto Belo\",\"(Unknown Operator)\",\"Santa Catarina\"],[\"Curitiba\",\"Copel\",\"Paraná\"],[\"São José dos Pinhais\",\"(Unknown Operator)\",\"Paraná\"],[\"Araquari\",\"(Unknown Operator)\",\"Santa Catarina\"],[\"Uberlandia\",\"Tupinambá\",\"Minas Gerais\"],[\"Santa Bárbara d'Oeste\",\"EDP Smart\",\"São Paulo\"],[\"Ribeirão Preto\",\"EDP Smart\",\"São Paulo\"],[\"Abadiânia\",\"(Unknown Operator)\",\"Goiás\"],[\"Samambaia\",\"(Unknown Operator)\",\"Distrito Federal\"],[\"Brasília\",\"(Unknown Operator)\",\"Distrito Federal\"],[\"São Lourenço\",\"(Unknown Operator)\",\"Minas Gerais\"],[\"Tiradentes\",\"(Unknown Operator)\",\"Minas Gerais\"],[\"São Paulo\",\"(Unknown Operator)\",\"São Paulo\"],[\"São Paulo\",\"(Unknown Operator)\",\"São Paulo\"],[\"Niterói\",\"(Unknown Operator)\",\"Rio de Janeiro\"],[\"Guararema\",\"EDP Smart\",\"São Paulo\"],[\"São José dos Campos\",\"EDP Smart\",\"São Paulo\"],[\"Guaratingueta\",\"EDP Smart\",\"São Paulo\"],[\"Queluz\",\"EDP Smart\",\"São Paulo\"],[\"Piraí\",\"EDP Smart\",\"Rio de Janeiro\"],[\"Piraí\",\"EDP Smart\",\"Rio de Janeiro\"],[\"Rio de Janeiro\",\"(Unknown Operator)\",\"Rio de Janeiro\"],[\"Rio de Janeiro\",\"(Unknown Operator)\",\"Rio de Janeiro\"],[\"Rio de Janeiro\",\"(Unknown Operator)\",\"Rio de Janeiro\"],[\"Rio de Janeiro\",\"(Unknown Operator)\",\"Rio de Janeiro\"],[\"Rio de Janeiro\",\"(Unknown Operator)\",\"Rio de Janeiro\"],[\"Rio de Janeiro\",\"(Unknown Operator)\",\"Rio de Janeiro\"],[\"Juiz de Fora\",\"(Unknown Operator)\",\"Minas Gerais\"],[\"Petrópolis\",\"(Unknown Operator)\",\"Rio de Janeiro\"],[\"Rio de Janeiro\",\"(Unknown Operator)\",\"Rio de Janeiro\"],[\"Pirassununga\",\"EDP Smart\",\"São Paulo\"],[\"Pariquera-Açu\",\"EDP Smart\",\"São Paulo\"],[\"Registro\",\"EDP Smart\",\"São Paulo\"],[null,\"EDP Smart\",\"São Paulo\"],[\"Florianópolis\",\"(Unknown Operator)\",\"Santa Catarina\"],[\"Florianópolis\",\"(Unknown Operator)\",\"Santa Catarina\"],[\"Rio de Janeiro\",\"(Business Owner at Location)\",\"Rio de Janeiro\"],[\"Rio de Janeiro\",\"(Unknown Operator)\",\"Rio de Janeiro\"],[\"Rio de Janeiro\",\"(Unknown Operator)\",\"Rio de Janeiro\"],[\"Rio de Janeiro\",\"(Business Owner at Location)\",\"Rio de Janeiro\"],[\"Recife\",\"(Unknown Operator)\",\"Pernambuco\"],[\"Rio de Janeiro\",\"(Unknown Operator)\",\"Rio de Janeiro\"]],\"hovertemplate\":\"\\u003cb\\u003e%{hovertext}\\u003c\\u002fb\\u003e\\u003cbr\\u003e\\u003cbr\\u003eAddressInfo.Latitude=%{lat}\\u003cbr\\u003eAddressInfo.Longitude=%{lon}\\u003cbr\\u003eAddressInfo.Town=%{customdata[0]}\\u003cbr\\u003eOperatorInfo.Title=%{customdata[1]}\\u003cbr\\u003eAddressInfo.StateOrProvince=%{customdata[2]}\\u003cextra\\u003e\\u003c\\u002fextra\\u003e\",\"hovertext\":[\"Go Electric - Sorocaba\",\"Eletroposto Carioca - Easy Volt\",\"Posto Pelanda 27\",\"Eletroposto CNF - Nogueira\",\"Eletroposto Celesc GutBrau\",\"Centro Turístico e Comercial da Expoville\",\"Posto SIM Sinuelo Norte\",\"Parada Ferretti\",\"Posto Américan Oil\",\"Blue Sea Hotel\",\"Di Paolo\",\"Porto Belo Outlet Premium\",\"Posto Galo Shopping Itaguaçu\",\"Zurich - Meu Cantinho\",\"Shell Recharge | Angeloni Kobrasol\",\"Posto BR Nienkotter\",\"Nordeste Eletropostos \",\"Castelo Charge\",\"TEM CARREGADOR DC 30 KW - BARREIRINHAS, BARREIRAS\\u002fBA - HOTEL DAS PALMEIRAS \",\"TEM CARREGADOR DC 30 KW - CORRENTE\\u002fPI - POSTO PRIMAVERA\",\"Graal 125 Norte\",\"Eletroposto Kinsol - Rio Preto 2S\",\"Eletroposto Kinsol - Puglia\",\"Eletroposto Kinsol - Mourisco\",\"Café Pasqualotto\",\"Estação Guapo | APP On Charge (CCS2 - 80kW)\",\"Letts Road - 9GCHARGE\",\"Shopping Catuai - Cia Charge\",\"City Center Outlet - Weg\",\"Queijo & Cia\",\"CDI\",\"Amazônia Eletrovias - São Luís Posto Confiança\",\"Br Super Carga - RioMar\",\"Br Super Carga - V Machado Praiano Nossa Sª da Conceição\",\"Br Super Carga - Posto City\",\"Br Super Carga - Posto Nobre\",\"Br Super Carga - Posto Primeira Capital\",\"Br Super Carga - Pátio Ideal Cidade Alpha\",\"Br Super Carga - Partage Shopping\",\"Br Super Carga - Partage Shopping\",\"BR Super Carga - Maceió Shopping\",\"Br Super Carga\",\"Br Super Carga - Conveniência GutGut\",\"Br Super Carga - Coxinha Gaúcha \",\"Br Super Carga - Centro Fashion\",\"Br Super Carga - Caxias Shopping center\",\"Br Super Carga - Carajás Campina Grande\",\"Br Super Carga - Auto Posto Barrigudas\",\"BR Super Carga - Maori Beach \",\"BR Super Carga - Coxinha Gaúcha - 40kW - Araripina\",\"TEM CARREGADOR DC 30 KW - BOM JESUS PI - POSTO CAFÉ\",\"TEM CARREGADOR DC 30 KW - COLONIA DO GURGUEIA PI - POSTO PORTAL DO CERRADO\",\"BR Super Carga - Posto Primeira Capital - 40kW - Aquiraz\",\"Carregador\",\"BR Super Carga - RioMar Shopping - 60Kw - Aracaju\",\"Amazônia Eletrovias - Anápolis Posto São João\",\"Centro Sul\",\"Centro Sul Distribuidora De Pneus\",\"TEM CARREGADOR DC 30 KW - COLONIA DO GURGUEIA PI - POSTO PORTAL DO CERRADO\",\"Volvo - Hotel Habitat - Pirassununga, SP\",\"Amazônia Eletrovias - Presidente Dutra Hotel Brasil\",\"EcoCharge - Posto San Remo\",\"Posto Charrua\",\"Energygardi\",\"BR Super Carga - Partage Shopping - 120kW - Arapiraca\",\"BR Super Carga - Midway Mall (G6) - 160kW - Natal\",\"VAPT Fortaleza | Edmilson Pneus :: Recarga Rápida\",\"Amazônia Eletrovias - Grajaú Posto Canoeiro\",\"BR Super Carga - Xamã Senses Hotel - 30kW - Pipa\",\"Partage Shopping - Piso E2\",\"BR Super Carga - Shopping Difusora - 4º Piso - 90kW - Caruaru\",\"Amazônia Eletrovias - Balsas Posto Buriti\",\"Amazônia Eletrovias - Marituba Posto Menino de Deus II\",\"Atacadão Dia a Dia - Aparecida de Goiânia\",\"DCC - UNO | Medical & Office\",\"DCC Energy - Blanc Mall\",\"DCC Energy - BS Design\",\"Amazônia Eletrovias - Barro Alto Posto Brascom\",\"BR Super Carga - Subway BR101\",\"BR Super Carga - Posto Comendador Praia - 40kW - Maceió\",\"Casco Motors - Eletroposto Zeta Uno\",\"Amazônia Eletrovias - Gurupi Hotel Mutucão\",\"Amazônia Eletrovias - Posto Serra Dourada\",\"Amazônia Plug - Bistrô Kite Beach\",\"Amazônia Plug - Vale Gastronomia\",\"Amazônia Eletrovias - Chapadinha Posto Grande\",\"Amazônia Plug - Restaurante O Capote\",\"Amazônia Eletrovias - Capanema Posto Garoupa\",\"Amazônia Eletrovias - Belém Posto Amazônia Nossa\",\"Amazônia Eletrovias - Mãe do Rio Rancho Prime\",\"Amazônia Eletrovias - Ulianópolis Posto Madeireiro\",\"Amazônia Eletrovias - Paraíso do Tocantins Posto Serra Dourada\",\"Amazônia Eletrovias - Guaraí Hotel Soledade\",\"Amazônia Eletrovias - Araguaína Brii Hotel\",\"Amazônia Eletrovias - Carolina Posto Moreira\",\"Amazônia Eletrovias - Imperatriz Posto Ecodrive\",\"Amazônia Eletrovias - Imperatriz Posto Santa Tereza\",\"Amazônia Eletrovias - Buriticupu\",\"Amazônia Eletrovias - São Luís Posto HD 35\",\"Amazônia Eletrovias - Porangatu Posto Eldorado\",\"TEM CARREGADOR - EUROBUSINESS RAUL LOPES TERESINA\",\"Creluz Eletroposto Boa Vista das Missões\",\"Creluz Charging Station\",\"On-Charge Charging Station\",\"Unijui\",\"TEM CARREGADORES - LANCHONETE O SALES\",\"TEM CARREGADOR - Lanchonete O Sales\",\"EcoCharge - Posto Tamandaré\",\"Restaurante Pé de Serra\",\"Incharge\",\"VAPT Tangará | Alvorada Veiculos :: Recarga Rápida\",\"Rua Cambara\",\"Pruden Shopping\",\"BR Super Carga - Pisolar Tancredo Neves - 60kW - Aracaju\",\"Posto Maracanã\",\"Hotel Arrey Express\",\"BR Super Carga - Sol Energy - 30kW - Caicó\",\"BR Super Carga - Pátio Ideal - Cidade Alpha - 60kW - Eusébio\",\"Carajás - Campina Grande\",\"VAPT Cajazeiras | Grupo Barbosa Home Center \",\"VAPT Campina Grande | Club do Trato\",\"VAPT Natal | Grupo Centry\",\"VAPT João Pessoa | Grupo Centry\",\"VAPT Parnamirim | Sacolão Maria Lacerda\",\"VAPT Natal | Sacolão Maranguape\",\"VAPT Toritama | Arena 104 | DELUNE\",\"BR Super Carga - Carajás - 60kW - Cabedelo\",\"Graal Itatiaia\",\"Posto Luz da Lua - InWatts\",\"BYD Cascavel\",\"Parada do Mano Restaurante\",\"VAPT Guarabira | LM Telecom\",\"VAPT João Pessoa | Intense Body Center\",\"BR Super Carga - Carajás Tabuleiro do Martins - 90kW - Maceió\",\"BR Super Carga - Carajás - 90kW - João Pessoa\",\"BR-153\",\"Eletroposto Kinsol - Alicante\",\"DCC Energy - Posto Freitas\",\"DCC Energy - Bezerra Open Mall\",\"Eletroposto Shell - GTMaxEnergy\",\"BR Super Carga - Carajás - 60kW - Arapiraca\",\"BR Super Carga - Volvo Gama - 40kW - Maceió\",\"DCC Energy - Dragon Force\",\"Eletroposto - DCC Energy\",\"Amazônia Plug - Barraca do Gabriel\",\"Elesol Energia - Solar Livre \",\"Elesol Energia e Tecnologia \",\"Elesol\",\"BYD Conquista\",\"Amazônia Eletrovias - Governador Nunes Freire Posto Santa Maria\",\"Amazônia Eletrovias - Santa Inês Posto São Lázaro\",\"BR Super Carga - Panaderia Ponta Verde - 60kW - Maceió\",\"Planeta Charge - Jean da Picanha\",\"Cabana da Mantiqueira\",\"Eletrograal - Graal Pinda\",\"Nosso Pão de Queijo 60 KW\",\"BR Super Carga - Galeria A\",\"BR Super Carga - Auto Posto 405\",\"BR Super Carga - Estação Tibau - Tibau\",\"Graal 56\",\"Eletrograal Alemão\",\"Estação Maru\",\"Posto SONHO MEU Brava\",\"Plasticos Paraná\",\"Rodovia Washington Luís\",\"Rodovia Anhanguera\",\"BR Super Carga - Braseiro do Rancho\",\"Vale Sul\",\"Reataurante Merlo\",\"Metronorte\",\"Posto Graal Parada Sul\",\"Posto Graal Parada Norte\",\"Posto Calopysita\",\"SAU EcoRioMinas Além Paraíba\",\"Hotel Evidence\",\"BarraShoppingSul\",\"Ev Eletroposto Restaurante Serra Da Graciosa\",\"SUPER SHOCK'S- NÓS VAMOS ATÉ VOCÊ, MÓVEL \",\"SUPER SHOCK'S- NÓS VAMOS ATÉ VOCÊ, MÓVEL \",\"SUPER SHOCK'S- NÓS VAMOS ATÉ VOCÊ, MÓVEL, ZAP:83981922032 \",\"Volvo - Posto Real Canudos\",\"Planeta Charge - Topazio Park Hotel\",\"Planeta Charge - Rapport Hotel\",\"Planeta Charger - LC Palace Hotel\",\"PluGreen Ponto de Apoio 2 Irmaos\",\"Auto Posto DDD\",\"Trevo Posto da Mata\",\"EV ELETROPOSTO - Hotel Franco\",\"Posto Copa & Restaurante Panorâmico (APP On Charge)\",\"Shopping Cidade Dos Lagos\",\"Bionova - Carregadores e Mobilidade Elétrica\",\"BR Super Carga - Grid One Beberibe - 60kW - Beberibe\",\"Posto Galapagos - RJ\",\"GTMaxEnergy - Margutti Multimarcas\",\"GTMaxEnergy - Margutti Multimarcas\",\"BR Super Carga - Blends Conveniencia - 40kW - Garanhuns\",\"BR Super Carga - Carajas Marechal Deodoro - 60kW - Marechal Deodoro\",\"BR Super Carga - Neto Jr Equipadora - 40kW - Natal\",\"BR Super Carga - Cafe do Rancho\",\"BR Super Carga - STA Mercedes - 60kW - Natal\",\"Hub de Recarga Go Electric - Riacho Grande\",\"Cariri Solar Energia Solar\",\"DCC Energy - Reserva Open Mall\",\"Pousada La Muralha - Planeta Charge\",\"BR Super Carga - Restaurante Carnauba\",\"Lagom Volvo\",\"BR Super Carga - VMachado Zona Leste\",\"BR Super Carga - Lanchonete 3B\",\"Paradouro Batistella \",\"Petrobras - Posto Pesque e Pague\",\"Posto Amigão - Itaboraí (Casa do Alemão)\",\"Eletroposto Solar Louveira - Usina Solar Fotovoltaica\",\"BR Super Carga - Auto Posto Kariri\",\"Eletrograal 67\",\"Avenida Interlagos\",\"Volvo - Posto Ralene\",\"Volvo - Novo Posto Verao\",\"Volvo - Posto Ceaka\",\"Volvo - AutoPosto DDD 242\",\"Volvo - Hotel Serra do Rio\",\"Posto Escola Petrobras\",\"Volvo - Posto Caninde\",\"Volvo - Posto Petrobahia\",\"BR Super Carga - Café Engenho do Queijo - 60kW - Junqueiro\",\"BR Super Carga - Carajas Maceio Mangabeiras - 180kW - Maceió\",\"Audi Center\",\"Shell Recharge - Posto Costa Dourada\",\"BR Super Carga - Pagelar\",\"BR Super Carga - Restaurante Carreteiro\",\"Volvo - Posto Chabocão\",\"Volvo - Salgueiro Plaza Hotel\",\"Amazonia Plug - Posto Rota das Dunas\",\"BR Super Carga - VM Marina Clube \\u002f Faustino Restaurante\",\"BR Super Carga - Hotel Rio Parnaiba\",\"BR Super Carga - Entre Rios Hotel\",\"Planeta Net Telecom - Estacionamento\",\"BR Super Carga - AutoPosto Uniao\",\"DCC Energy - Guaramiranga Parque\",\"Planeta Charger - Super Feirao do Lar\",\"DCC Energy - Posto Fortim BR\",\"BR Super Carga - Murano Center Hotel\",\"BR Super Carga - Bela Vista Empresarial\",\"BR Super Carga - Churrascaria Guaiba - 60kW - Lajes\",\"Posto GMAXX - Cia Charge \",\"Posto Amigão de Itaipava\",\"Kiosque do Alemão\",\"Cluster Go Electric - Cajamar\",\"BR Super Carga - Ello Hotel\",\"DCC Energy - Posto BR\",\"Avenida Barão de Bonito\",\"SGCV Quadra 1 Conjunto A\",\"Audi Center Natal\",\"DCC Energy - Posto Catatau\",\"Lili Doces - Estaca Zero\",\"Planeta Charge\",\"Rodovia Governador Leonel de Moura Brizola\",\"DCC Energy - Íbis Hotel\",\"Restaurante Braseiro\",\"Estação Posto Sinhá Sabóia\",\"Bedinoto Tecnologia Energia Solar\",\"Parador Grupo Iesa Xangri-la\",\"Investy Energy - Estação Restaurante Raízes do Litoral\",\"Creluz - Usina Solar Amerista do Sul\",\"Posto Petrobull\",\"Shell Recharge - Zarp Limão (Carrefour)\",\"Shell Recharge - Posto Arinella Bandeirantes\",\"Shell Recharge - Posto Shell São Gualter\",\"Posto BR - TERRA NOVA  -  Torres - RS\",\"Praça Dr. Astrogildo  de Azevedo- Projeto P&D Aneel-Copel\",\"Posto Rudnick\",\"BR Super Carga - Centro Comercial Flávio Carneiro - 120 kW - Fortaleza\",\"Eletroposto Parque da Cidadania\",\"Renault Gamboa\",\"Vila Vagalume\",\"GWM Newhouse\",\"Audi Center Fortaleza\",\"Nord Renault\",\"Viva Open Mall\",\"BR Super Carga - Estação Mossoró - Transfusão\",\"Avenida da Liberdade\",\"UFSM P&D ANEEL\",\"Lisaruth\",\"Shell Recharge \\u002f Posto Japones\",\"Rota Mercosul 10 - Ufsm \\u002f Equatorial\",\"Restaurante Divino 88 - Br Super Carga\",\"Rota Mercosul 02 - Ufsm \\u002f Equatorial\",\"Rota Mercosul 07 - Ufsm \\u002f Equatorial\",\"Rota Mercosul 09 - Ufsm \\u002f Equatorial\",\"Rota Mercosul 08 - Ifsm \\u002f Equatorial\",\"Rota Mercosul 06 - Ufsm \\u002f Equatorial - Paradouro Barragem\",\"Rota Mercosul 05 - Ufsm \\u002f Equatorial\",\"Rota Mercosul 04 - Ufsm \\u002f Equatorial\",\"Rota Mercosul 03 Ufsm \\u002f Equatorial\",\"AGL Eletrônicos do Brasil\",\"Posto Branquinho\",\"Eletroposto GoElectric\",\"Rodovia Presidente Dutra - Pista Lateral\",\"Eletroposto Novo Pedágio\",\"Audi Center Juiz de Fora\",\"Lagoa Eco Towers Resort\",\"55 Energy Eletropostos\",\"Kempinski Laje de Pedra\",\"Shooping Nova America\",\"Auto Posto e Churrascaria Mateus\",\"Auto Posto e Pousada O Barateiro\",\"Hotel Imperador\",\"Novo Centro Hotel\",\"Magma Hotel\",\"Hotel Paraiso das Aguas\",\"Maxi Shopping Jundiai\",\"ATM EVs\",\"BR Super Carga - Pousada e Restaurante Moderno - 60kW - Milagres\\u002fBA\",\"Hotel Conceito\",\"Hotel Portal Premium\",\"Hotel J&M\",\"Hotel Schiavini\",\"Posto Moinho I\",\"Hotel e Restaurante Sonho Verde\",\"SAU 1 - Eco050 - Servico Atendimento Usuario\",\"SAU 2 - Eco050 - Servico Atendimento Usuario\",\"SAU 3 - Eco050 - Servico Atendimento Usuario\",\"SAU 4 - Eco050 - Servico Apoio Usuario\",\"SAU 5 - Eco050 - Servico Atendimento Usuario\",\"Hotel Sul\",\"Casarão Goiano\",\"SAU 6 - Eco 050 - Servico Apoio Usuario\",\"Hotel Ribeira dos Icos\",\"Plaza Hotel\",\"Solarchio Energia Solar\",\"Hotel Canto das Aguas - Estacoes Porsche\",\"Hotel Solar das Mangueiras\",\"Office 661\",\"Icon Business Mall\",\"Posto Galo Branco Franca - Shell Recharge\",\"Posto Rabi Ibate\",\"Posto BR - Pau Seco\",\"Posto Bizungao III\",\"Auto Posto Orbi\",\"Paradouro Battistella\",\"Posto Gloria\",\"Audi Caxias do Sul\",\"Volvo Posto Crossville\",\"Frango Assado Itu - Tupinambá\",\"Coopercampos\",\"Posto Ipiranga Peruzzo\",\"Porsche Service | Body & Paint Stuttgart\",\"Porsche Center São Paulo - Stuttgart\",\"Volvo EuroVille\",\"Audi Center BH\",\"JBA Energia Solar e Carros Eletricos\",\"Pátio Gourmet\",\"Estocolmo Volvo Cars\",\"Audi Center Cuiabá\",\"Audi Center Uberlândia\",\"Thor Volvo - RP\",\"Audi Center Ribeirão Preto\",\"Eurobike Special BYD\",\"Graal Topazio\",\"Frango Assado\",\"Posto Jardim do Trevo\",\"Audi Center Alto da XV\",\"Posto Ipiranga Galo (antigo posto universitário )\",\"Posto SIM Paradouro Camarão\",\"Posto Tulio Caraguatá\",\"Setor Tradicional Q16\",\"Posto Fase Quattro\",\"Estação Urbeletric - Villa Beach Tenis\",\"Paradouro Costa Doce\",\"Hotel Jacques George Tower\",\"Shopping Pelotas\",\"DLinea Villato Moveis Pelotas\",\"Agro Comercial Afubra Ltda\",\"Agro Comercial Afubra Ltda\",\"Zletric - Posto SIM Camaquã\",\"Restaurante das Cucas\",\"HAUS Motors\",\"GNC Suécia - Volvo\",\"Hotel Pioneiro\",\"BR Super Carga - Invest Energia Solar\",\"Porsche Riomar Fortaleza\",\"Pão De Açúcar\",\"Byd Carmais\",\"Hotel Oceania\",\"Hotel Pousada Itajuipe\",\"Pena Branca Hotel e Eventos\",\"Posto SIM Caxias do Sul - Zletric\",\"Rota Mercosul 01 - Ufsm \\u002f Equatorial\",\"Shell Recharge | Posto Agricopel 12 - Itajaí SC\",\"Alumifix Solar\",\"Open Point Volvo Cars - Grupo Servopa\",\"EZVolt Canindé\",\"Eletroposto EZVolt \\u002f 99 - 100% elétrico\",\"Movida Tatuapé\",\"Shell Recharge - Frango Assado Jacareí\",\"BYD Itavema\",\"Posto Kid Dollar\",\"Restaurante Armazém Rota 106\",\"EDP Cachoeiro de Itapemirim\",\"Posto Senna\",\"EDP Nova Orla de Guarapari\",\"Rodoviária de João Neiva\",\"Supermercado Sempre Tem\",\"Sorveteria 40 Sabores Linhares\",\"EDP - Linhares (#003)\",\"ibis Styles São Mateus\",\"EDP São Mateus\",\"Posto Flecha\",\"Alpha Garage Full Service and Performance\",\"Hotel Jaguarindia - Estação Urbeletric\",\"BR-222;BR-403\",\"BR Super Carga - GutGut Conveniência - 60kW - Piripiri\\u002fPI\",\"UFPA - Castanhal\",\"UFPA - CEAMAZON - PCT\\u002fGuamás\",\"UFPA - Cidade Universitária Prof. José Silveira Netto\",\"PG Prime Jaguar Land Rover\",\"Zletric - Posto SIM Gramado Centro\",\"Audi Center Porto Alegre\",\"Zletric - Posto SIM Paradouro Litoral\",\"Shell Recharge - Posto Iate Botafogo\",\"Audi Center Vitoria\",\"Eletroposto EDP - Praia de Camburi\",\"Senai Cimatec - Corredor Verde Neoenergia\",\"Atacadão Hiperideal - Corredor Verde Neoenergia\",\"Posto Linha Verde Petrobras - Corredor Verde Neoenergia\",\"Posto Petrobras Estancia - Corredor Verde Neoenergia\",\"Audi Center Aracaju\",\"Posto Pichilau Pioneiro - Corredor Verde Neoenergia\",\"Posto Pichilau Escada - Corredor Verde Neoenergia\",\"Posto Pichilau Jaboatão - Corredor Verde Neoenergia\",\"Posto Pichilau João Pessoa - Corredor Verde Neoenergia\",\"Porsche Center Fortaleza\",\"Audi Center Teresina\",\"Posto Mais Riachao\",\"Posto Recreio\",\"Posto Magnolia 04\",\"Parque do Rangedor\",\"Casa do Flávio da Galinha\",\"Eletroposto Posto Pichilau Parnamirim - Corredor Verde Neoenergia\",\"Vitoria Palace Hotel\",\"Posto Campeão 28\",\"Frango Assado Carvalho Pinto\",\"Eletroposto Copel Paranaguá\",\"CPFL\",\"Hub EZVolt\",\"Zletric - Posto SIM Retro\",\"Fashion Outlet Novo Hamburgo\",\"Posto SIM Freeway - Zletric - BR-290\",\"Ibis Jundiaí Shopping \",\"3333 Avenida Nove de Julho\",\"Avenida Nove de Julho\",\"IESA RENAULT\",\"Garagem Gigante\",\"Riviera Shopping Estacionamento \",\"Volvo - Posto 6\",\"Zletric - Rancho Empyero\",\"Copel - Anila Hotel e Restaurante\",\"Copel - Maranello Palmeira\",\"Volvo Charger - Posto Ongaratto 500\",\"Shell Recharge - Posto Papa\",\"Eletroposto Eletroposto Volvo Carga Rápida\",\"Posto Arco Íris Roseira\",\"Teresópolis Shopping\",\"Eletroposto Tupinambá - Shopping Tamboré\",\"Eletropostos Volvo - Shopping Tamboré\",\"Centro de Recepção de Visitantes Itaipu\",\"Auto Posto Matelandia Ipiranga\",\"Posto Pra Frente Brasil\",\"Restaurante Choupana\",\"Posto Palmeiras\",\"Restaurante Três Pinheiros\",\"Eletroposto Celesc - Posto Petrosimon\",\"Eletroposto Celesc - Posto Cabeçudas\",\"Posto Angeloni Porto Belo\",\"Copel Telecomunicações\",\"Hotel Slaviero Essential - Zletric\",\"Posto Sinuelo Sentido Sul\",\"(re)energisa - Alsol Energias Renováveis\",\"EDP | Graal 125 Sul (Plug&GO)\",\"EDP | Graal Trevo (Plug&GO)\",\"Jerivá\",\"Administração Regional de Samambaia\",\"Câmara dos Deputados\",\"Posto San Remo\",\"Rua Maria de Freitas 639\",\"Pão de Açúcar Jardim Paulista\",\"Shopping Cidade São Paulo\",\"Plaza Shopping Niterói\",\"Posto Guararema\",\"Posto GAP São José dos Campos\",\"Graal dos 500\",\"Eletroposto Graal Estrela\",\"Posto Mamão\",\"Posto Nacional\",\"Dimension Office\",\"Supermercado Zona Sul\",\"Shopping Village Mall Barra\",\"Posto Ipiranga Freeway Barra\",\"Bossa Nova Mall\",\"Barra Shopping\",\"BMW Euroville\",\"Empório Maria Maria\",\"Shopping Metropolitano Barra\",\"EDP | Graal Coral (Plug&GO)\",\"EDP | Graal Petropen (Plug&GO)\",\"EDP | Graal Buenos Aires (Plug&GO)\",\"EDP | Graal Topázio (Plug&GO)\",\"Estação Posto Ilhabela\",\"Floripa Shopping\",\"Posto BR Mania\",\"BR Mania\",\"BR Mania\",\"BR Mania\",\"Recife, Pernambuco\",\"Petrobras Future Station Service\"],\"lat\":[-23.48246300000021,-23.00053037,-25.67559900594678,-25.73061710889489,-26.296883307693665,-26.29874096973661,-26.51612664395369,-26.68780804925208,-27.027322029350955,-27.066575627053624,-27.06624196398885,-27.20231096708377,-27.58360672746277,-27.59305215650359,-27.59402171722969,-27.6186329081173,-9.018363572776636,-29.97193835063935,-12.138098710068192,-10.44055009806074,-22.820229323033573,-20.820475672408467,-23.4851750654032,-23.55864688748788,-29.268593104967685,-25.431391340138774,-25.41508801836068,-24.948020793977875,-25.444668373654796,-28.00688554975389,-18.988844445304963,-2.560302467828606,-3.734478,-3.734478,-3.734478,-3.734478,-3.734478,-3.734478,-3.734478,-3.734478,-3.734478,-3.734478,-3.734478,-3.734478,-3.734478,-3.734478,-3.734478,-3.7342521529178754,-3.720693916112012,-7.580887891444973,-9.0719662,-8.19603088191164,-3.7712018602422006,-28.249724545808284,-10.945947930511863,-16.27454467842493,-30.025945191579336,37.415328,-8.195898066485924,-22.013799721202474,-5.299420497884782,-22.1161029182654,-30.131128967912552,-22.48453073250846,-9.73524408406935,-5.811311016002136,-3.84216036,-5.825507067191936,-6.233286290956457,-7.234945842109994,-8.278099985053117,-7.512288053025017,-1.3641176504857668,-16.8259557,-3.751620423922106,-3.739640045159902,-3.736792274385678,-14.978156343042713,-5.912714750310855,-9.672378740154628,-30.0279441789025,-11.754271358014208,-10.1777744,-2.8784904481629354,-2.781194278548241,-3.7445889545223703,-2.7723571129879474,-1.2131362918443784,-1.4427764149993152,-2.042897990309996,-3.73856147009316,-10.17784541544114,-8.847257630353965,-7.202350103393755,-7.326532941632536,-5.542314711357619,-5.482171307076371,-4.331723813989967,-2.6890976125267656,-13.44172123794037,-5.077145,-27.687790618985048,-27.92234923835155,-30.24020826927805,-28.38835640682798,-5.892237723663399,-5.8919242,-21.44441278722253,-5.045644128440188,-22.257665,-6.1737574,-22.986309374606847,-22.11590960034621,-10.95308145226079,-4.254038831471576,-5.081587131707479,-6.469961,-3.881932127530419,-7.24003627677186,-6.90123354,-7.2213914,-5.81160289,-7.1244542,-5.88960119,-5.76261175,-8.0055024,-7.039607047609621,-22.48447430718564,-25.46926759912884,-24.954332420032745,-24.97875923409137,-6.8648503999113615,-7.11418477,-9.590148174881335,-7.171412933325499,-18.42158021233624,-23.61894885913506,-2.907810074504795,-3.735709660039703,-23.076712617129918,-9.75900590841836,-9.617361740728214,-3.758037756547836,-3.736286282035991,-2.9023627940058105,-14.05965065533914,-14.869371942571334,-14.869585642257292,-14.858631979441654,-2.134730799244764,-3.674996389870756,-9.656556731909674,-3.689117600703227,-21.21950982688064,-22.96418,-21.21093745815452,-2.491635972918999,-6.151940300986098,-4.842669781293623,-23.204803825697013,-22.547581814219285,-25.531005806543615,-26.95721065348221,-25.432298783975696,-22.0932011481149,-22.62912131814457,-4.226737256297426,-25.51911340490797,-26.052004085249827,-26.294601266589737,-26.780493627574984,-26.77939474459577,-23.02277896344208,-21.74890189754976,-21.88120118944778,-30.08350509834642,-25.318308965398444,-7.2483993,-7.2483993,-7.24307270876011,-9.970159374459868,-8.514987152564672,-9.423961893095225,-11.38141875016818,-13.8605976715358,-14.474228221594828,-17.891735249368807,-26.25533521248223,-25.34402781334224,-25.34876803855046,-24.95080460430907,-4.1927223,-22.80217098087253,-22.751751201127377,-22.75129428253902,-8.863296087059084,-9.7277412813811,-5.833962343906393,-3.903054823558677,-5.859266384660387,-23.777805738791685,-7.2163520142044035,-3.784083183096613,-4.465344837455632,-4.842615263231565,-5.080606241618796,-5.062881432754494,-3.563778254510481,-23.3237703,-22.740718627547736,-22.747185867323797,-23.09091028847153,-7.181971294398849,-23.135770967341102,-23.676008,-10.4963678240333,-16.372521640393686,-8.310033133696862,-12.419914881971906,-12.17586239811881,-12.98184740487254,-9.6660135085056,-12.166733057883206,-9.897658046899792,-9.64496215704365,-8.113457666186221,-8.298729934860035,-7.246365145839832,-6.937208335651704,-6.778683676082736,-8.065653541387832,-2.524070194710489,-2.9091295519228453,-6.774338899801734,-7.079931816230044,-5.192727089178163,-4.32361543991702,-4.261679551542727,-4.354778610880743,-4.452258656111681,-5.152898794163292,-5.181140330072438,-5.704601242649915,-24.08415334464796,-22.40566275532309,-22.43757108121584,-23.343242183188508,-6.384189690217653,-3.671735696014196,-8.036723084015819,-15.823557344489911,-5.851855889570999,-3.7446754429366393,-5.7635721069712105,-5.992899183476339,-29.692107611323813,-3.657602597940354,-3.696204356434052,-3.706219647435248,-29.21449203528322,-29.779824025856637,-3.4657319983311368,-27.35837071920436,-19.60153817715808,-23.512731845813946,-23.602552949226933,-23.54340530469868,-29.33136820744874,-29.691468172298144,-26.184866151320456,-3.736001674325678,-5.080838557450534,-5.18624898684277,-3.237351688077567,-3.7601688411515255,-3.747744624079076,-3.7015443131116257,-30.028753035785638,-5.192814170670644,-23.17111085171034,-29.71453,-29.68423600376802,-29.102898423345486,-33.46020252181587,-5.1926120157410764,-29.85201952230647,-32.53089898115187,-32.852725536459644,-31.94203352342416,-31.72043835781156,-31.016458873755617,-30.407321417735155,-30.012474150246824,-20.16959165239392,-19.6013817515624,-21.780051,-22.56123529414204,-22.719701,-21.816686009794765,-17.694871297406465,-3.7248314554918096,-29.38048902230781,-22.8783375,-5.734406699353485,-6.403549007584716,-8.07220266242608,-9.39701420558599,-11.032000187164044,-11.037085782607154,-23.170261323533296,-20.850775099708382,-12.873784406117991,-13.255199498075,-14.21626936046188,-13.954607049635484,-13.95166814705081,-21.945385422291466,-16.994855261117905,-16.91983622156762,-17.28504093939128,-17.608798041593403,-18.084394780603844,-18.41615946160681,-19.66976430954212,-17.075799377875228,-18.70494023099667,-6.401033038486688,-16.375192479332114,-14.865480391234996,-12.561341757019065,-12.132049724317357,-12.091424105403618,-12.090826880343798,-20.5521031874238,-21.907429542432,-21.78315293862836,-22.957545008594167,-22.900472197697127,-27.69220249791833,-28.50000316116656,-29.171835482404997,-21.10831798561261,-23.408866653174428,-27.388979114537293,-27.79408326076136,-23.635482262990976,-23.597102776156603,-19.95884183540582,-19.96710339458308,-18.78876095211956,-3.091842659700518,-15.60651969608152,-15.611660714374665,-18.902171252952527,-21.197744604512664,-21.21027364613667,-21.217504918490302,-21.197819248752,-21.38265729549201,-22.93011102684582,-25.42092894575275,-26.91893099322583,-28.42311689851337,-25.329076754299123,-15.681943807031786,-24.33100568490397,-3.7650804474208144,-32.85311370466637,-31.76915978366109,-31.76081859960269,-31.737285407734085,-30.84994827829657,-30.84994827829657,-30.857474235184817,-30.431145237587373,-3.766979560601129,-3.770771805246284,-17.53426599999736,-4.1097924352889805,-3.741178356643133,-3.7273848394303,-3.738428409647497,-16.373960631538907,-14.819402362816817,-12.975356,-29.174835231435416,-29.344258722302705,-26.921904672441613,-25.49194425292336,-25.43937689773472,-23.525331839031068,-23.559970126858676,-23.528501624957784,-23.300970694039563,-23.006053601412404,-22.61330532739018,-22.43107418128588,-20.848715682581044,-20.857012,-20.669583818357083,-19.75593340072916,-19.394432064646796,-19.39457931463501,-19.398606173588675,-18.725342757874955,-18.715444813205963,-17.017222540079032,-5.215160999992094,-4.4180727386169,-3.706501304054029,-4.317456425677436,-1.299530777512686,-1.467030778334589,-1.473626071684052,-5.852803073269257,-29.37969995771963,-30.002196993962777,-29.44371877433944,-22.94949222661533,-20.297153716359773,-20.28055629353534,-12.938945021076693,-12.564564237397336,-12.3022273331363,-11.269030733548831,-10.950696322202532,-9.408963578859002,-8.392643093138048,-8.177431411374073,-7.17373954069015,-3.757120392958086,-5.080204188168381,-4.834175004700114,-4.279682943636132,-3.3322253857102453,-2.495479124762909,-10.130196657667826,-5.94987817689109,-5.172976391519384,-23.39529398434665,-23.276966777111184,-25.52415715889612,-22.85761962201481,-23.575537,-29.62583246715625,-29.6635414257658,-29.944303542054087,-23.1973506042565,-23.199628335130782,-23.2019697632406,-29.888446678255,-30.03225200371542,-23.79839149401471,-21.8692338749064,-22.23576547134324,-25.46366711314856,-25.43434115421221,-24.78074397448374,-23.513169606914204,-23.768640666562263,-22.908798671939024,-22.41143127179805,-23.504573961679867,-23.50463574761126,-25.44763102327145,-25.24312364701521,-24.99011269059423,-25.102012310256757,-25.37785532306833,-25.459472057008384,-28.86786188339657,-28.44043810288335,-27.173887366451417,-25.432603925814988,-25.53602154104199,-26.51696691793179,-18.879340066968552,-22.81986757827985,-21.10163448256307,-16.184184748937696,-15.880703253214236,-15.801949215599066,-22.116068,-21.120077,-23.573323,-23.563426311792043,-22.88759,-23.332743741350427,-23.17996771654073,-22.788962680620543,-22.530017457216232,-22.63071918951171,-22.629952,-22.97430834824084,-22.99967863988823,-22.99900288137502,-22.999860992491836,-22.914307983189502,-22.9974635,-21.80725859037888,-22.400894,-22.971199425657645,-22.00218704250082,-24.62329299973794,-24.529561099572632,-22.614671702946467,-27.578138960692,-27.534450652309022,-22.97294,-22.97294,-22.97294,-22.97294,-14.235004,-23.000385],\"legendgroup\":\"\",\"lon\":[-47.43960200000038,-43.37656835,-49.15101745747177,-49.13430282079102,-48.88326702551308,-48.88301210780986,-48.71910983516898,-48.695148336621,-48.60538277352714,-48.59523145906519,-48.59637396333983,-48.6138152805612,-48.61474426211044,-48.61754158347912,-48.61824395453118,-48.64707120419928,-35.22523563782511,-51.171420217032846,-45.01179853314477,-45.1669795410875,-47.378672041598406,-49.38370159936655,-46.53915115585931,-46.567517246674285,-50.302425313709705,-49.99427107595773,-49.77552094073914,-53.43503541397256,-49.56994126479711,-50.540948652291945,-49.45696929157225,-44.24715956093576,-38.65704,-38.65704,-38.65704,-38.65704,-38.65704,-38.65704,-38.65704,-38.65704,-38.65704,-38.65704,-38.65704,-38.65704,-38.65704,-38.65704,-38.65704,-38.65686719573591,-38.63184118240713,-40.50878431328684,-44.3445193,-43.792659453825536,-38.51999535223797,-52.41325423277812,-37.04674997050918,-48.96834327166775,-51.11479127145114,-122.076575,-43.79254748466127,-47.43736378664229,-44.48648289838104,-45.05741930017624,-51.97186155024235,-46.63528178514093,-36.655235216970624,-35.20638929038005,-38.48354101,-46.15901203244161,-35.046130364621376,-35.86922984117473,-35.97169493970691,-46.03347107630682,-48.29512625916831,-49.2428458,-38.500324803757934,-38.48811229347598,-38.49929009805325,-48.9249100433409,-35.26156659306923,-35.747156649002704,-51.17175540029962,-49.09210409927914,-48.8827037,-40.957033371919294,-42.81837438326886,-43.343161158143175,-42.44777024354954,-47.1799244525098,-48.44732676791915,-47.548823112579385,-47.49329247576964,-48.88246528053571,-48.50993218119845,-48.2384812323792,-47.44332074914757,-47.46556159555905,-47.472407707787454,-46.43484585092182,-44.299633906808026,-49.13323158894525,-42.79694,-53.30676097421284,-53.314338346915456,-54.96965087435075,-53.92991264154018,-42.64569020132754,-42.6458396,-45.9503100900605,-39.04841594258312,-45.6936231,-35.76541414,-49.86765450478606,-51.4098534992828,-37.054674048171336,-44.4333869644305,-42.7638407836472,-37.086246,-38.48706054750147,-35.88792117918888,-38.56828009,-35.87546424,-35.22604487,-34.87325013,-35.20911729,-35.25315898,-36.07505289,-34.84572952251904,-44.5473375400652,-49.35278832712896,-53.42055319105481,-53.49158696874042,-35.49621937742074,-34.85349432,-35.76098671422119,-34.870808281023415,-49.19422573985224,-46.60213080816925,-40.11869563687998,-38.56099451717162,-47.209358698166966,-36.64884994950992,-35.73960430359767,-38.48499829848785,-38.49691122247924,-41.45984336268339,-42.52107955043312,-40.84441355311594,-40.84433595905773,-40.83130821888099,-45.88487930023274,-45.37060784300013,-35.701381659698654,-40.330427694819946,-43.74390967174179,-45.42678,-43.7490435706905,-44.27669133964659,-38.20589911717258,-37.25745103808788,-46.92776021725456,-44.80760111253176,-49.08648220728946,-48.63909446049047,-49.36339247467453,-47.83237714979066,-47.33745660186133,-44.77630633951867,-49.19990154616335,-48.8599463520286,-48.85937348014434,-48.68520187872031,-48.6841959037032,-46.84239911412988,-42.730227462845846,-42.684585117408176,-51.24530031937479,-49.01801328361768,-35.872126,-35.872126,-35.870800643914095,-39.16313133381436,-41.00606839750526,-40.4996138758527,-40.00752375615835,-40.113712791381005,-46.48994478517949,-39.81887616239192,-53.633326204084426,-51.44153370318844,-51.47397453851838,-53.42589163448565,-38.1703133,-43.3510933222754,-47.31257463581514,-47.312385402296144,-36.462849532602775,-35.87819781257568,-35.21844800655293,-41.71246721045404,-35.19471564890779,-46.52909857095193,-39.31783416839005,-38.48194159772052,-41.94499851054766,-42.18761583558066,-42.76013190763351,-42.79499014283854,-44.58495354251156,-46.1219694,-42.75593340023556,-42.81212165150362,-46.94709433941193,-39.30993640610555,-46.94499625514425,-46.677134,-39.01408475956725,-39.56257368485706,-35.99069484754585,-41.838995187935154,-43.21058419533915,-38.44990593949501,-37.79348663977248,-38.42240088486102,-36.45005361172113,-35.71553018094289,-34.90469086607948,-35.02534947248466,-35.88754225082596,-37.0944156333951,-38.240498493714,-39.13080125627832,-43.26475554571721,-41.78858523953477,-43.00952732860304,-41.45969266916384,-40.66709405297058,-40.1469583980408,-38.94825375792692,-39.3103744589892,-37.81177596922984,-38.10080368938989,-37.37750604272589,-36.25184491056268,-54.24520031724592,-43.14273215191042,-43.17808441658872,-46.84056827900452,-39.26638807967288,-39.23321164556509,-34.949935080520106,-47.952420770737774,-35.20952482188517,-41.00943976903801,-42.61176671169756,-40.29601581295509,-51.70509274127477,-38.8124109314474,-39.57930196455237,-40.33676314087512,-54.84676300867979,-50.02926997837051,-39.159026783413935,-53.19713137432208,-46.929697954779385,-46.67522751942326,-46.680920547220495,-46.71149398946048,-49.78514509646598,-53.80561241954848,-48.91007155237844,-38.49837436289499,-42.80465692471819,-37.35387821049676,-39.23795905040686,-38.49222148431127,-38.45234282459097,-40.34517332978368,-51.15798192153784,-37.34507704948939,-46.900472357411786,-53.716789,-52.33347444058376,-49.63642654677,-53.27766296801503,-39.29015188055803,-50.24702267535784,-53.35456678564367,-52.7039725648672,-52.31105472057487,-52.37965365011061,-52.05368608442373,-51.45319560402791,-51.315206781703296,-44.92007580694127,-46.93976891040268,-47.534395,-44.15657687276848,-43.687328,-43.37569379357285,-48.58816380157271,-38.50301359203621,-50.83043554234348,-43.2716685,-38.5128731127478,-38.89032024360024,-39.13397206212187,-40.48115370472249,-38.79410070460955,-38.794183424262776,-46.89239235894127,-49.41283756306791,-39.856543582119286,-43.417047040319176,-41.68261258186988,-46.19541229043693,-46.19826670671284,-45.62093585343945,-47.75362685637901,-47.69680186386796,-47.757596088071466,-47.78845805509252,-47.86994604066615,-48.07907719849101,-51.19263646050024,-49.820361174024015,-48.19026863838894,-38.87657928173076,-39.58159128413854,-40.82755556347104,-41.38833923378383,-45.01488047358095,-45.78065159075664,-45.78092207409952,-47.41011655170541,-48.05298965472264,-48.22408714864679,-48.865137274772565,-48.45001692776441,-49.23151669392644,-50.950593956354965,-51.21108100919571,-45.09238710200231,-47.28725352868906,-51.21491388591278,-50.28392103687696,-46.7184944540779,-46.687928655473,-43.95701621462638,-43.95384432967768,-44.45513355510775,-59.99857145021485,-56.08272915987027,-56.076786740367766,-48.2659923801109,-47.77077886429345,-47.80081820096064,-47.79358563313548,-47.770730323464704,-47.7042681575291,-47.07063727595198,-49.24840947936934,-48.67029064316404,-48.79826183945869,-49.02997239096226,-48.20401439976098,-47.630335244289085,-38.48845553744172,-52.70424899573396,-52.336626128726095,-52.318595533287294,-52.32764680997684,-51.76987509530568,-51.76987509530568,-51.78651997033205,-51.47470130259183,-38.496443081265824,-38.49794343432495,-39.75144899999776,-38.49237115402275,-38.47111386537847,-38.49390364927911,-38.50797373048607,-39.574885778639896,-39.30421170361603,-39.276573,-51.21402930064727,-49.78808797931194,-48.70741613269445,-49.27577016669113,-49.30098687514538,-46.61824130456199,-46.5676144657279,-46.5820379296955,-46.01607789495341,-43.43211195111903,-42.408682643118965,-41.86470629161883,-41.11212814833232,-41.121292,-40.49935559608696,-40.380491082223216,-40.064110094894886,-40.067004471900674,-40.06484708239873,-39.861009635822455,-39.85846291855441,-39.54264635371919,-37.33084600000018,-37.77048873418119,-40.40933368776655,-41.78023437099657,-47.90151330990472,-48.44685642692292,-48.45557858647146,-35.21108643921451,-50.869380884317366,-51.190906007259855,-49.907901694855525,-43.17785817033453,-40.30053114431507,-40.28803086076789,-38.38708045357967,-38.0177653141717,-37.89994262205079,-37.44327196590689,-37.06423261628109,-35.83982563187578,-35.25872236334192,-34.949388268137625,-34.89814248658547,-38.48994707625189,-42.783784209741015,-43.48054794453458,-44.42240396434357,-44.445553071736526,-44.2618499502216,-36.17627431495732,-35.26421329673491,-37.362740424178384,-46.76765484366189,-45.84507396803304,-48.51183778643099,-47.04463261044555,-46.592306,-51.311042406904754,-51.14242583068132,-50.94738747379928,-46.88930244157916,-46.890283229170905,-46.891877367280586,-50.276230202702266,-51.23193656308061,-46.02322460641881,-47.48863053616054,-47.39050854380298,-50.56869555885402,-49.9921110056751,-48.18600783359733,-46.67205640241309,-45.40472315027989,-45.31647712427434,-42.965655579837176,-46.83373427926768,-46.83423711015973,-54.58478914190316,-53.97937417173915,-53.50810167379223,-53.041478340948174,-52.3965464311197,-51.951417551671625,-49.45010760381592,-48.82368847584343,-48.61113122231919,-49.339198023151965,-49.1939222861522,-48.72066765247871,-48.246967402756894,-47.381476648869125,-47.787021334984615,-48.69013074450595,-48.086535840385125,-47.86581646032528,-45.057035,-44.170421,-46.654959,-46.65262563995975,-43.124492,-46.13698663379819,-45.84279046918016,-45.15691032250237,-44.75135473405874,-43.910158171776175,-43.909382,-43.3653438751428,-43.399359025763886,-43.351272608746,-43.33596997622664,-43.16647015706479,-43.358823,-43.37662692131244,-43.134197,-43.37246720567265,-47.44472068714094,-47.89592575730524,-47.8575494557042,-47.35690858324045,-48.510338084656,-48.509559003948254,-43.20274,-43.20274,-43.20274,-43.20274,-51.92527999999999,-43.35085379999998],\"marker\":{\"color\":\"#0047AB\"},\"mode\":\"markers\",\"name\":\"\",\"showlegend\":false,\"subplot\":\"mapbox\",\"type\":\"scattermapbox\"}],                        {\"template\":{\"data\":{\"histogram2dcontour\":[{\"type\":\"histogram2dcontour\",\"colorbar\":{\"outlinewidth\":0,\"ticks\":\"\"},\"colorscale\":[[0.0,\"#0d0887\"],[0.1111111111111111,\"#46039f\"],[0.2222222222222222,\"#7201a8\"],[0.3333333333333333,\"#9c179e\"],[0.4444444444444444,\"#bd3786\"],[0.5555555555555556,\"#d8576b\"],[0.6666666666666666,\"#ed7953\"],[0.7777777777777778,\"#fb9f3a\"],[0.8888888888888888,\"#fdca26\"],[1.0,\"#f0f921\"]]}],\"choropleth\":[{\"type\":\"choropleth\",\"colorbar\":{\"outlinewidth\":0,\"ticks\":\"\"}}],\"histogram2d\":[{\"type\":\"histogram2d\",\"colorbar\":{\"outlinewidth\":0,\"ticks\":\"\"},\"colorscale\":[[0.0,\"#0d0887\"],[0.1111111111111111,\"#46039f\"],[0.2222222222222222,\"#7201a8\"],[0.3333333333333333,\"#9c179e\"],[0.4444444444444444,\"#bd3786\"],[0.5555555555555556,\"#d8576b\"],[0.6666666666666666,\"#ed7953\"],[0.7777777777777778,\"#fb9f3a\"],[0.8888888888888888,\"#fdca26\"],[1.0,\"#f0f921\"]]}],\"heatmap\":[{\"type\":\"heatmap\",\"colorbar\":{\"outlinewidth\":0,\"ticks\":\"\"},\"colorscale\":[[0.0,\"#0d0887\"],[0.1111111111111111,\"#46039f\"],[0.2222222222222222,\"#7201a8\"],[0.3333333333333333,\"#9c179e\"],[0.4444444444444444,\"#bd3786\"],[0.5555555555555556,\"#d8576b\"],[0.6666666666666666,\"#ed7953\"],[0.7777777777777778,\"#fb9f3a\"],[0.8888888888888888,\"#fdca26\"],[1.0,\"#f0f921\"]]}],\"heatmapgl\":[{\"type\":\"heatmapgl\",\"colorbar\":{\"outlinewidth\":0,\"ticks\":\"\"},\"colorscale\":[[0.0,\"#0d0887\"],[0.1111111111111111,\"#46039f\"],[0.2222222222222222,\"#7201a8\"],[0.3333333333333333,\"#9c179e\"],[0.4444444444444444,\"#bd3786\"],[0.5555555555555556,\"#d8576b\"],[0.6666666666666666,\"#ed7953\"],[0.7777777777777778,\"#fb9f3a\"],[0.8888888888888888,\"#fdca26\"],[1.0,\"#f0f921\"]]}],\"contourcarpet\":[{\"type\":\"contourcarpet\",\"colorbar\":{\"outlinewidth\":0,\"ticks\":\"\"}}],\"contour\":[{\"type\":\"contour\",\"colorbar\":{\"outlinewidth\":0,\"ticks\":\"\"},\"colorscale\":[[0.0,\"#0d0887\"],[0.1111111111111111,\"#46039f\"],[0.2222222222222222,\"#7201a8\"],[0.3333333333333333,\"#9c179e\"],[0.4444444444444444,\"#bd3786\"],[0.5555555555555556,\"#d8576b\"],[0.6666666666666666,\"#ed7953\"],[0.7777777777777778,\"#fb9f3a\"],[0.8888888888888888,\"#fdca26\"],[1.0,\"#f0f921\"]]}],\"surface\":[{\"type\":\"surface\",\"colorbar\":{\"outlinewidth\":0,\"ticks\":\"\"},\"colorscale\":[[0.0,\"#0d0887\"],[0.1111111111111111,\"#46039f\"],[0.2222222222222222,\"#7201a8\"],[0.3333333333333333,\"#9c179e\"],[0.4444444444444444,\"#bd3786\"],[0.5555555555555556,\"#d8576b\"],[0.6666666666666666,\"#ed7953\"],[0.7777777777777778,\"#fb9f3a\"],[0.8888888888888888,\"#fdca26\"],[1.0,\"#f0f921\"]]}],\"mesh3d\":[{\"type\":\"mesh3d\",\"colorbar\":{\"outlinewidth\":0,\"ticks\":\"\"}}],\"scatter\":[{\"fillpattern\":{\"fillmode\":\"overlay\",\"size\":10,\"solidity\":0.2},\"type\":\"scatter\"}],\"parcoords\":[{\"type\":\"parcoords\",\"line\":{\"colorbar\":{\"outlinewidth\":0,\"ticks\":\"\"}}}],\"scatterpolargl\":[{\"type\":\"scatterpolargl\",\"marker\":{\"colorbar\":{\"outlinewidth\":0,\"ticks\":\"\"}}}],\"bar\":[{\"error_x\":{\"color\":\"#2a3f5f\"},\"error_y\":{\"color\":\"#2a3f5f\"},\"marker\":{\"line\":{\"color\":\"#E5ECF6\",\"width\":0.5},\"pattern\":{\"fillmode\":\"overlay\",\"size\":10,\"solidity\":0.2}},\"type\":\"bar\"}],\"scattergeo\":[{\"type\":\"scattergeo\",\"marker\":{\"colorbar\":{\"outlinewidth\":0,\"ticks\":\"\"}}}],\"scatterpolar\":[{\"type\":\"scatterpolar\",\"marker\":{\"colorbar\":{\"outlinewidth\":0,\"ticks\":\"\"}}}],\"histogram\":[{\"marker\":{\"pattern\":{\"fillmode\":\"overlay\",\"size\":10,\"solidity\":0.2}},\"type\":\"histogram\"}],\"scattergl\":[{\"type\":\"scattergl\",\"marker\":{\"colorbar\":{\"outlinewidth\":0,\"ticks\":\"\"}}}],\"scatter3d\":[{\"type\":\"scatter3d\",\"line\":{\"colorbar\":{\"outlinewidth\":0,\"ticks\":\"\"}},\"marker\":{\"colorbar\":{\"outlinewidth\":0,\"ticks\":\"\"}}}],\"scattermapbox\":[{\"type\":\"scattermapbox\",\"marker\":{\"colorbar\":{\"outlinewidth\":0,\"ticks\":\"\"}}}],\"scatterternary\":[{\"type\":\"scatterternary\",\"marker\":{\"colorbar\":{\"outlinewidth\":0,\"ticks\":\"\"}}}],\"scattercarpet\":[{\"type\":\"scattercarpet\",\"marker\":{\"colorbar\":{\"outlinewidth\":0,\"ticks\":\"\"}}}],\"carpet\":[{\"aaxis\":{\"endlinecolor\":\"#2a3f5f\",\"gridcolor\":\"white\",\"linecolor\":\"white\",\"minorgridcolor\":\"white\",\"startlinecolor\":\"#2a3f5f\"},\"baxis\":{\"endlinecolor\":\"#2a3f5f\",\"gridcolor\":\"white\",\"linecolor\":\"white\",\"minorgridcolor\":\"white\",\"startlinecolor\":\"#2a3f5f\"},\"type\":\"carpet\"}],\"table\":[{\"cells\":{\"fill\":{\"color\":\"#EBF0F8\"},\"line\":{\"color\":\"white\"}},\"header\":{\"fill\":{\"color\":\"#C8D4E3\"},\"line\":{\"color\":\"white\"}},\"type\":\"table\"}],\"barpolar\":[{\"marker\":{\"line\":{\"color\":\"#E5ECF6\",\"width\":0.5},\"pattern\":{\"fillmode\":\"overlay\",\"size\":10,\"solidity\":0.2}},\"type\":\"barpolar\"}],\"pie\":[{\"automargin\":true,\"type\":\"pie\"}]},\"layout\":{\"autotypenumbers\":\"strict\",\"colorway\":[\"#636efa\",\"#EF553B\",\"#00cc96\",\"#ab63fa\",\"#FFA15A\",\"#19d3f3\",\"#FF6692\",\"#B6E880\",\"#FF97FF\",\"#FECB52\"],\"font\":{\"color\":\"#2a3f5f\"},\"hovermode\":\"closest\",\"hoverlabel\":{\"align\":\"left\"},\"paper_bgcolor\":\"white\",\"plot_bgcolor\":\"#E5ECF6\",\"polar\":{\"bgcolor\":\"#E5ECF6\",\"angularaxis\":{\"gridcolor\":\"white\",\"linecolor\":\"white\",\"ticks\":\"\"},\"radialaxis\":{\"gridcolor\":\"white\",\"linecolor\":\"white\",\"ticks\":\"\"}},\"ternary\":{\"bgcolor\":\"#E5ECF6\",\"aaxis\":{\"gridcolor\":\"white\",\"linecolor\":\"white\",\"ticks\":\"\"},\"baxis\":{\"gridcolor\":\"white\",\"linecolor\":\"white\",\"ticks\":\"\"},\"caxis\":{\"gridcolor\":\"white\",\"linecolor\":\"white\",\"ticks\":\"\"}},\"coloraxis\":{\"colorbar\":{\"outlinewidth\":0,\"ticks\":\"\"}},\"colorscale\":{\"sequential\":[[0.0,\"#0d0887\"],[0.1111111111111111,\"#46039f\"],[0.2222222222222222,\"#7201a8\"],[0.3333333333333333,\"#9c179e\"],[0.4444444444444444,\"#bd3786\"],[0.5555555555555556,\"#d8576b\"],[0.6666666666666666,\"#ed7953\"],[0.7777777777777778,\"#fb9f3a\"],[0.8888888888888888,\"#fdca26\"],[1.0,\"#f0f921\"]],\"sequentialminus\":[[0.0,\"#0d0887\"],[0.1111111111111111,\"#46039f\"],[0.2222222222222222,\"#7201a8\"],[0.3333333333333333,\"#9c179e\"],[0.4444444444444444,\"#bd3786\"],[0.5555555555555556,\"#d8576b\"],[0.6666666666666666,\"#ed7953\"],[0.7777777777777778,\"#fb9f3a\"],[0.8888888888888888,\"#fdca26\"],[1.0,\"#f0f921\"]],\"diverging\":[[0,\"#8e0152\"],[0.1,\"#c51b7d\"],[0.2,\"#de77ae\"],[0.3,\"#f1b6da\"],[0.4,\"#fde0ef\"],[0.5,\"#f7f7f7\"],[0.6,\"#e6f5d0\"],[0.7,\"#b8e186\"],[0.8,\"#7fbc41\"],[0.9,\"#4d9221\"],[1,\"#276419\"]]},\"xaxis\":{\"gridcolor\":\"white\",\"linecolor\":\"white\",\"ticks\":\"\",\"title\":{\"standoff\":15},\"zerolinecolor\":\"white\",\"automargin\":true,\"zerolinewidth\":2},\"yaxis\":{\"gridcolor\":\"white\",\"linecolor\":\"white\",\"ticks\":\"\",\"title\":{\"standoff\":15},\"zerolinecolor\":\"white\",\"automargin\":true,\"zerolinewidth\":2},\"scene\":{\"xaxis\":{\"backgroundcolor\":\"#E5ECF6\",\"gridcolor\":\"white\",\"linecolor\":\"white\",\"showbackground\":true,\"ticks\":\"\",\"zerolinecolor\":\"white\",\"gridwidth\":2},\"yaxis\":{\"backgroundcolor\":\"#E5ECF6\",\"gridcolor\":\"white\",\"linecolor\":\"white\",\"showbackground\":true,\"ticks\":\"\",\"zerolinecolor\":\"white\",\"gridwidth\":2},\"zaxis\":{\"backgroundcolor\":\"#E5ECF6\",\"gridcolor\":\"white\",\"linecolor\":\"white\",\"showbackground\":true,\"ticks\":\"\",\"zerolinecolor\":\"white\",\"gridwidth\":2}},\"shapedefaults\":{\"line\":{\"color\":\"#2a3f5f\"}},\"annotationdefaults\":{\"arrowcolor\":\"#2a3f5f\",\"arrowhead\":0,\"arrowwidth\":1},\"geo\":{\"bgcolor\":\"white\",\"landcolor\":\"#E5ECF6\",\"subunitcolor\":\"white\",\"showland\":true,\"showlakes\":true,\"lakecolor\":\"white\"},\"title\":{\"x\":0.05},\"mapbox\":{\"style\":\"light\"}}},\"mapbox\":{\"domain\":{\"x\":[0.0,1.0],\"y\":[0.0,1.0]},\"center\":{\"lat\":-16.229695387862304,\"lon\":-44.539243548008024},\"zoom\":3,\"style\":\"open-street-map\"},\"legend\":{\"tracegroupgap\":0},\"title\":{\"text\":\"Distribuição de Carregadores de VE no Brasil\",\"font\":{\"size\":20}},\"height\":500,\"margin\":{\"r\":0,\"t\":50,\"l\":0,\"b\":0}},                        {\"responsive\": true}                    ).then(function(){\n",
              "                            \n",
              "var gd = document.getElementById('d232cada-9bb8-4b87-bfbe-ea45f8e3c027');\n",
              "var x = new MutationObserver(function (mutations, observer) {{\n",
              "        var display = window.getComputedStyle(gd).display;\n",
              "        if (!display || display === 'none') {{\n",
              "            console.log([gd, 'removed!']);\n",
              "            Plotly.purge(gd);\n",
              "            observer.disconnect();\n",
              "        }}\n",
              "}});\n",
              "\n",
              "// Listen for the removal of the full notebook cells\n",
              "var notebookContainer = gd.closest('#notebook-container');\n",
              "if (notebookContainer) {{\n",
              "    x.observe(notebookContainer, {childList: true});\n",
              "}}\n",
              "\n",
              "// Listen for the clearing of the current output cell\n",
              "var outputEl = gd.closest('.output');\n",
              "if (outputEl) {{\n",
              "    x.observe(outputEl, {childList: true});\n",
              "}}\n",
              "\n",
              "                        })                };                            </script>        </div>\n",
              "</body>\n",
              "</html>"
            ]
          },
          "metadata": {}
        }
      ]
    },
    {
      "cell_type": "markdown",
      "source": [
        "### Análise do Mapa de Distribuição\n",
        "\n",
        "* **Confirmação da Hipótese 1:** O mapa confirma de forma contundente a hipótese de que a infraestrutura de recarga é massivamente concentrada nas regiões Sul e Sudeste, com um claro adensamento no eixo litorâneo e nas capitais.\n",
        "* **Identificação de \"Desertos de Recarga\":** É notável a escassez de pontos nas vastas áreas das regiões Norte, Nordeste e Centro-Oeste, o que indica um grande desafio para a viabilidade de viagens elétricas nessas localidades. Esta visualização inicial já direciona o foco da nossa análise para as disparidades regionais."
      ],
      "metadata": {
        "id": "vfK1Qy9DZlYY"
      }
    },
    {
      "cell_type": "markdown",
      "source": [
        "### 3.2. Padronização dos Nomes dos Estados"
      ],
      "metadata": {
        "id": "i2VjvwP0XNvS"
      }
    },
    {
      "cell_type": "code",
      "source": [
        "print(\"Verificando a consistência dos nomes dos estados...\")\n",
        "# Remove espaços em branco extras no início e no fim\n",
        "df['AddressInfo.StateOrProvince'] = df['AddressInfo.StateOrProvince'].str.strip()\n",
        "\n",
        "# Mapa de correção para padronizar os nomes e siglas\n",
        "mapa_de_correcao = {\n",
        "    # São Paulo\n",
        "    'SP': 'São Paulo', 'Sao Paulo': 'São Paulo', 'sao paulo': 'São Paulo', 'Sp': 'São Paulo',\n",
        "    'Região Metropolitana de São Paulo': 'São Paulo', 'Indaiatuba - SP': 'São Paulo', 'São paulo': 'São Paulo',\n",
        "\n",
        "    # Rio de Janeiro\n",
        "    'RJ': 'Rio de Janeiro', 'rio de janeiro': 'Rio de Janeiro', 'Too de Janeiro': 'Rio de Janeiro', # Corrigindo o erro de digitação\n",
        "\n",
        "    # Paraná\n",
        "    'Parana': 'Paraná', 'PR': 'Paraná', 'paraná': 'Paraná',\n",
        "\n",
        "    # Santa Catarina\n",
        "    'SC': 'Santa Catarina',\n",
        "\n",
        "    # Rio Grande do Sul\n",
        "    'rio grande do sul': 'Rio Grande do Sul', 'RS': 'Rio Grande do Sul', 'Río Grande do Sul': 'Rio Grande do Sul',\n",
        "    'Metropolitan Region of Porto Alegre': 'Rio Grande do Sul',\n",
        "\n",
        "    # Minas Gerais\n",
        "    'mg': 'Minas Gerais', 'MG': 'Minas Gerais', 'minas gerais': 'Minas Gerais',\n",
        "\n",
        "    # Bahia\n",
        "    'Barreiras - BA': 'Bahia', 'BA': 'Bahia',\n",
        "\n",
        "    # Piauí\n",
        "    'CORRENTE/PI': 'Piauí', 'Piaui': 'Piauí', 'PI': 'Piauí',\n",
        "\n",
        "    # Maranhão\n",
        "    'MA': 'Maranhão',\n",
        "\n",
        "    # Sergipe\n",
        "    'SE': 'Sergipe',\n",
        "\n",
        "    # Rio Grande do Norte\n",
        "    'RN': 'Rio Grande do Norte',\n",
        "\n",
        "    # Ceará\n",
        "    'Ceara': 'Ceará', 'CE': 'Ceará',\n",
        "\n",
        "    # Alagoas\n",
        "    'AL': 'Alagoas',\n",
        "\n",
        "    # Pernambuco\n",
        "    'PE': 'Pernambuco',\n",
        "\n",
        "    # Paraíba\n",
        "    'PB': 'Paraíba', 'Região Metropolitana de Campina Grande': 'Paraíba',\n",
        "    'Região Metropolitana de Guarabira': 'Paraíba',\n",
        "\n",
        "    # Goiás\n",
        "    'Goias': 'Goiás', 'GO': 'Goiás',\n",
        "\n",
        "    # Distrito Federal\n",
        "    'Federal District': 'Distrito Federal'\n",
        "}\n",
        "\n",
        "# Aplica as correções\n",
        "df['AddressInfo.StateOrProvince'] = df['AddressInfo.StateOrProvince'].replace(mapa_de_correcao)\n",
        "\n",
        "print(\"✅ Limpeza dos nomes dos estados concluída.\")"
      ],
      "metadata": {
        "colab": {
          "base_uri": "https://localhost:8080/"
        },
        "id": "VG2Yp4zxTkXU",
        "outputId": "3f1240da-6f9d-470a-ac47-1051a62cd174"
      },
      "execution_count": 7,
      "outputs": [
        {
          "output_type": "stream",
          "name": "stdout",
          "text": [
            "Verificando a consistência dos nomes dos estados...\n",
            "✅ Limpeza dos nomes dos estados concluída.\n"
          ]
        }
      ]
    },
    {
      "cell_type": "markdown",
      "source": [
        "### 3.3. Gráfico de Estações por Estado"
      ],
      "metadata": {
        "id": "abzqPLMbaPXB"
      }
    },
    {
      "cell_type": "code",
      "source": [
        "print(\"Gerando gráfico com dados padronizados...\")\n",
        "plt.figure(figsize=(18, 8))\n",
        "sns.countplot(y=df['AddressInfo.StateOrProvince'], order=df['AddressInfo.StateOrProvince'].value_counts().index, palette='viridis')\n",
        "plt.title('Número de Estações de Recarga por Estado', fontsize=16)\n",
        "plt.xlabel('Contagem de Estações', fontsize=12)\n",
        "plt.ylabel('Estado', fontsize=12)\n",
        "for index, value in enumerate(df['AddressInfo.StateOrProvince'].value_counts()):\n",
        "    plt.text(value, index, f' {value}', va='center', fontsize=10)\n",
        "plt.tight_layout()\n",
        "plt.show()"
      ],
      "metadata": {
        "colab": {
          "base_uri": "https://localhost:8080/",
          "height": 816
        },
        "id": "ekbs-uDmaQ94",
        "outputId": "62b7b175-04fa-4e1c-ca76-bf0f847d778d"
      },
      "execution_count": 8,
      "outputs": [
        {
          "output_type": "stream",
          "name": "stdout",
          "text": [
            "Gerando gráfico com dados padronizados...\n"
          ]
        },
        {
          "output_type": "stream",
          "name": "stderr",
          "text": [
            "/tmp/ipython-input-8-3792187927.py:3: FutureWarning:\n",
            "\n",
            "\n",
            "\n",
            "Passing `palette` without assigning `hue` is deprecated and will be removed in v0.14.0. Assign the `y` variable to `hue` and set `legend=False` for the same effect.\n",
            "\n",
            "\n"
          ]
        },
        {
          "output_type": "display_data",
          "data": {
            "text/plain": [
              "<Figure size 1800x800 with 1 Axes>"
            ],
            "image/png": "[encoded data removed]"
          },
          "metadata": {}
        }
      ]
    },
    {
      "cell_type": "markdown",
      "source": [
        "## 4. Pré-processamento para Simulação de Viagem\n",
        "Com os dados gerais analisados, agora vamos prepará-los para a nossa simulação, filtrando apenas os carregadores que seriam úteis para um viajante."
      ],
      "metadata": {
        "id": "kBDQNs3YU-b1"
      }
    },
    {
      "cell_type": "code",
      "source": [
        "print(\"Iniciando a filtragem de carregadores para um cenário de viagem...\")\n",
        "print(\"-\" * 50)\n",
        "total_carregadores = len(df)\n",
        "print(f\"Dataset original com {total_carregadores} carregadores.\")\n",
        "\n",
        "# Filtro 1: Manter apenas carregadores operacionais\n",
        "df_operacional = df[df['StatusType.IsOperational'] == True].copy()\n",
        "operacionais_count = len(df_operacional)\n",
        "print(f\"Após filtro de operacionais, restam {operacionais_count} carregadores.\")\n",
        "\n",
        "# Filtro 2: Manter apenas carregadores de acesso público\n",
        "df_publico = df_operacional[df_operacional['UsageType.Title'] == 'Public'].copy()\n",
        "publicos_count = len(df_publico)\n",
        "print(f\"Após filtro de acesso público, restam {publicos_count} carregadores.\")\n",
        "\n",
        "# Análise de Carregadores Rápidos (DC)\n",
        "# O código abaixo analisa a disponibilidade de carregadores DC\n",
        "def parse_connections(connections_str):\n",
        "    try: return ast.literal_eval(str(connections_str))\n",
        "    except: return []\n",
        "\n",
        "df_publico['Connections_list'] = df_publico['Connections'].apply(parse_connections)\n",
        "df_exploded = df_publico.explode('Connections_list').dropna(subset=['Connections_list'])\n",
        "df_normalized_connections = pd.json_normalize(df_exploded['Connections_list']).add_prefix('Conn.')\n",
        "df_full_connections = pd.concat([df_exploded.reset_index(drop=True), df_normalized_connections.reset_index(drop=True)], axis=1)\n",
        "df_dc_chargers = df_full_connections[df_full_connections['Conn.ConnectionType.Title'].str.contains('DC', na=False)]\n",
        "unique_dc_charger_ids = df_dc_chargers['ID'].unique()\n",
        "df_viagem_dc = df_publico[df_publico['ID'].isin(unique_dc_charger_ids)].copy()\n",
        "dc_count = len(df_viagem_dc)\n",
        "\n",
        "print(f\"\\nAnálise de Carregadores Rápidos (DC): Foram encontrados {dc_count} carregadores DC públicos e operacionais.\")\n",
        "print(\"Esta descoberta crítica (SINAL VERMELHO para viagens rápidas) guiará nossa simulação para o cenário de carregadores AC.\")\n",
        "print(\"-\" * 50)\n",
        "\n",
        "# Preparação dos dados para o gráfico de funil\n",
        "etapas = ['Total de Carregadores', 'Operacionais', 'Acesso Público', 'Carga Rápida (DC)']\n",
        "valores = [total_carregadores, operacionais_count, publicos_count, dc_count]\n",
        "\n",
        "# Cria a figura\n",
        "fig = go.Figure(go.Funnel(\n",
        "    y = etapas,\n",
        "    x = valores,\n",
        "    textposition = \"inside\",\n",
        "    textinfo = \"value+percent initial\",\n",
        "    opacity = 0.65,\n",
        "    marker = {\"color\": [\"#4A235A\", \"#6C3483\", \"#8E44AD\", \"#D2B4DE\"],\n",
        "              \"line\": {\"width\": [2, 2, 2, 2], \"color\": [\"#3B0B39\", \"#4A235A\", \"#6C3483\", \"#8E44AD\"]}},\n",
        "    connector = {\"line\": {\"color\": \"royalblue\", \"dash\": \"dot\", \"width\": 3}}\n",
        "))\n",
        "\n",
        "# Personalização do layout\n",
        "fig.update_layout(\n",
        "    title={\n",
        "        'text': \"Gráfico de Filtragem de Carregadores para Viagem\",\n",
        "        'y':0.9,\n",
        "        'x':0.5,\n",
        "        'xanchor': 'center',\n",
        "        'yanchor': 'top'\n",
        "    },\n",
        "    font=dict(\n",
        "        family=\"Arial, sans-serif\",\n",
        "        size=14,\n",
        "        color=\"RebeccaPurple\"\n",
        "    )\n",
        ")\n",
        "fig.show()"
      ],
      "metadata": {
        "colab": {
          "base_uri": "https://localhost:8080/",
          "height": 698
        },
        "id": "Pb4QgrIZU_uG",
        "outputId": "95b90f48-4f9e-4a1a-f457-2f541e962bbe"
      },
      "execution_count": 9,
      "outputs": [
        {
          "output_type": "stream",
          "name": "stdout",
          "text": [
            "Iniciando a filtragem de carregadores para um cenário de viagem...\n",
            "--------------------------------------------------\n",
            "Dataset original com 514 carregadores.\n",
            "Após filtro de operacionais, restam 511 carregadores.\n",
            "Após filtro de acesso público, restam 195 carregadores.\n",
            "\n",
            "Análise de Carregadores Rápidos (DC): Foram encontrados 0 carregadores DC públicos e operacionais.\n",
            "Esta descoberta crítica (SINAL VERMELHO para viagens rápidas) guiará nossa simulação para o cenário de carregadores AC.\n",
            "--------------------------------------------------\n"
          ]
        },
        {
          "output_type": "display_data",
          "data": {
            "text/html": [
              "<html>\n",
              "<head><meta charset=\"utf-8\" /></head>\n",
              "<body>\n",
              "    <div>            <script src=\"https://cdnjs.cloudflare.com/ajax/libs/mathjax/2.7.5/MathJax.js?config=TeX-AMS-MML_SVG\"></script><script type=\"text/javascript\">if (window.MathJax && window.MathJax.Hub && window.MathJax.Hub.Config) {window.MathJax.Hub.Config({SVG: {font: \"STIX-Web\"}});}</script>                <script type=\"text/javascript\">window.PlotlyConfig = {MathJaxConfig: 'local'};</script>\n",
              "        <script charset=\"utf-8\" src=\"https://cdn.plot.ly/plotly-2.35.2.min.js\"></script>                <div id=\"5b9e6320-03c1-453e-aabe-28594d9815d6\" class=\"plotly-graph-div\" style=\"height:525px; width:100%;\"></div>            <script type=\"text/javascript\">                                    window.PLOTLYENV=window.PLOTLYENV || {};                                    if (document.getElementById(\"5b9e6320-03c1-453e-aabe-28594d9815d6\")) {                    Plotly.newPlot(                        \"5b9e6320-03c1-453e-aabe-28594d9815d6\",                        [{\"connector\":{\"line\":{\"color\":\"royalblue\",\"dash\":\"dot\",\"width\":3}},\"marker\":{\"color\":[\"#4A235A\",\"#6C3483\",\"#8E44AD\",\"#D2B4DE\"],\"line\":{\"color\":[\"#3B0B39\",\"#4A235A\",\"#6C3483\",\"#8E44AD\"],\"width\":[2,2,2,2]}},\"opacity\":0.65,\"textinfo\":\"value+percent initial\",\"textposition\":\"inside\",\"x\":[514,511,195,0],\"y\":[\"Total de Carregadores\",\"Operacionais\",\"Acesso Público\",\"Carga Rápida (DC)\"],\"type\":\"funnel\"}],                        {\"template\":{\"data\":{\"histogram2dcontour\":[{\"type\":\"histogram2dcontour\",\"colorbar\":{\"outlinewidth\":0,\"ticks\":\"\"},\"colorscale\":[[0.0,\"#0d0887\"],[0.1111111111111111,\"#46039f\"],[0.2222222222222222,\"#7201a8\"],[0.3333333333333333,\"#9c179e\"],[0.4444444444444444,\"#bd3786\"],[0.5555555555555556,\"#d8576b\"],[0.6666666666666666,\"#ed7953\"],[0.7777777777777778,\"#fb9f3a\"],[0.8888888888888888,\"#fdca26\"],[1.0,\"#f0f921\"]]}],\"choropleth\":[{\"type\":\"choropleth\",\"colorbar\":{\"outlinewidth\":0,\"ticks\":\"\"}}],\"histogram2d\":[{\"type\":\"histogram2d\",\"colorbar\":{\"outlinewidth\":0,\"ticks\":\"\"},\"colorscale\":[[0.0,\"#0d0887\"],[0.1111111111111111,\"#46039f\"],[0.2222222222222222,\"#7201a8\"],[0.3333333333333333,\"#9c179e\"],[0.4444444444444444,\"#bd3786\"],[0.5555555555555556,\"#d8576b\"],[0.6666666666666666,\"#ed7953\"],[0.7777777777777778,\"#fb9f3a\"],[0.8888888888888888,\"#fdca26\"],[1.0,\"#f0f921\"]]}],\"heatmap\":[{\"type\":\"heatmap\",\"colorbar\":{\"outlinewidth\":0,\"ticks\":\"\"},\"colorscale\":[[0.0,\"#0d0887\"],[0.1111111111111111,\"#46039f\"],[0.2222222222222222,\"#7201a8\"],[0.3333333333333333,\"#9c179e\"],[0.4444444444444444,\"#bd3786\"],[0.5555555555555556,\"#d8576b\"],[0.6666666666666666,\"#ed7953\"],[0.7777777777777778,\"#fb9f3a\"],[0.8888888888888888,\"#fdca26\"],[1.0,\"#f0f921\"]]}],\"heatmapgl\":[{\"type\":\"heatmapgl\",\"colorbar\":{\"outlinewidth\":0,\"ticks\":\"\"},\"colorscale\":[[0.0,\"#0d0887\"],[0.1111111111111111,\"#46039f\"],[0.2222222222222222,\"#7201a8\"],[0.3333333333333333,\"#9c179e\"],[0.4444444444444444,\"#bd3786\"],[0.5555555555555556,\"#d8576b\"],[0.6666666666666666,\"#ed7953\"],[0.7777777777777778,\"#fb9f3a\"],[0.8888888888888888,\"#fdca26\"],[1.0,\"#f0f921\"]]}],\"contourcarpet\":[{\"type\":\"contourcarpet\",\"colorbar\":{\"outlinewidth\":0,\"ticks\":\"\"}}],\"contour\":[{\"type\":\"contour\",\"colorbar\":{\"outlinewidth\":0,\"ticks\":\"\"},\"colorscale\":[[0.0,\"#0d0887\"],[0.1111111111111111,\"#46039f\"],[0.2222222222222222,\"#7201a8\"],[0.3333333333333333,\"#9c179e\"],[0.4444444444444444,\"#bd3786\"],[0.5555555555555556,\"#d8576b\"],[0.6666666666666666,\"#ed7953\"],[0.7777777777777778,\"#fb9f3a\"],[0.8888888888888888,\"#fdca26\"],[1.0,\"#f0f921\"]]}],\"surface\":[{\"type\":\"surface\",\"colorbar\":{\"outlinewidth\":0,\"ticks\":\"\"},\"colorscale\":[[0.0,\"#0d0887\"],[0.1111111111111111,\"#46039f\"],[0.2222222222222222,\"#7201a8\"],[0.3333333333333333,\"#9c179e\"],[0.4444444444444444,\"#bd3786\"],[0.5555555555555556,\"#d8576b\"],[0.6666666666666666,\"#ed7953\"],[0.7777777777777778,\"#fb9f3a\"],[0.8888888888888888,\"#fdca26\"],[1.0,\"#f0f921\"]]}],\"mesh3d\":[{\"type\":\"mesh3d\",\"colorbar\":{\"outlinewidth\":0,\"ticks\":\"\"}}],\"scatter\":[{\"fillpattern\":{\"fillmode\":\"overlay\",\"size\":10,\"solidity\":0.2},\"type\":\"scatter\"}],\"parcoords\":[{\"type\":\"parcoords\",\"line\":{\"colorbar\":{\"outlinewidth\":0,\"ticks\":\"\"}}}],\"scatterpolargl\":[{\"type\":\"scatterpolargl\",\"marker\":{\"colorbar\":{\"outlinewidth\":0,\"ticks\":\"\"}}}],\"bar\":[{\"error_x\":{\"color\":\"#2a3f5f\"},\"error_y\":{\"color\":\"#2a3f5f\"},\"marker\":{\"line\":{\"color\":\"#E5ECF6\",\"width\":0.5},\"pattern\":{\"fillmode\":\"overlay\",\"size\":10,\"solidity\":0.2}},\"type\":\"bar\"}],\"scattergeo\":[{\"type\":\"scattergeo\",\"marker\":{\"colorbar\":{\"outlinewidth\":0,\"ticks\":\"\"}}}],\"scatterpolar\":[{\"type\":\"scatterpolar\",\"marker\":{\"colorbar\":{\"outlinewidth\":0,\"ticks\":\"\"}}}],\"histogram\":[{\"marker\":{\"pattern\":{\"fillmode\":\"overlay\",\"size\":10,\"solidity\":0.2}},\"type\":\"histogram\"}],\"scattergl\":[{\"type\":\"scattergl\",\"marker\":{\"colorbar\":{\"outlinewidth\":0,\"ticks\":\"\"}}}],\"scatter3d\":[{\"type\":\"scatter3d\",\"line\":{\"colorbar\":{\"outlinewidth\":0,\"ticks\":\"\"}},\"marker\":{\"colorbar\":{\"outlinewidth\":0,\"ticks\":\"\"}}}],\"scattermapbox\":[{\"type\":\"scattermapbox\",\"marker\":{\"colorbar\":{\"outlinewidth\":0,\"ticks\":\"\"}}}],\"scatterternary\":[{\"type\":\"scatterternary\",\"marker\":{\"colorbar\":{\"outlinewidth\":0,\"ticks\":\"\"}}}],\"scattercarpet\":[{\"type\":\"scattercarpet\",\"marker\":{\"colorbar\":{\"outlinewidth\":0,\"ticks\":\"\"}}}],\"carpet\":[{\"aaxis\":{\"endlinecolor\":\"#2a3f5f\",\"gridcolor\":\"white\",\"linecolor\":\"white\",\"minorgridcolor\":\"white\",\"startlinecolor\":\"#2a3f5f\"},\"baxis\":{\"endlinecolor\":\"#2a3f5f\",\"gridcolor\":\"white\",\"linecolor\":\"white\",\"minorgridcolor\":\"white\",\"startlinecolor\":\"#2a3f5f\"},\"type\":\"carpet\"}],\"table\":[{\"cells\":{\"fill\":{\"color\":\"#EBF0F8\"},\"line\":{\"color\":\"white\"}},\"header\":{\"fill\":{\"color\":\"#C8D4E3\"},\"line\":{\"color\":\"white\"}},\"type\":\"table\"}],\"barpolar\":[{\"marker\":{\"line\":{\"color\":\"#E5ECF6\",\"width\":0.5},\"pattern\":{\"fillmode\":\"overlay\",\"size\":10,\"solidity\":0.2}},\"type\":\"barpolar\"}],\"pie\":[{\"automargin\":true,\"type\":\"pie\"}]},\"layout\":{\"autotypenumbers\":\"strict\",\"colorway\":[\"#636efa\",\"#EF553B\",\"#00cc96\",\"#ab63fa\",\"#FFA15A\",\"#19d3f3\",\"#FF6692\",\"#B6E880\",\"#FF97FF\",\"#FECB52\"],\"font\":{\"color\":\"#2a3f5f\"},\"hovermode\":\"closest\",\"hoverlabel\":{\"align\":\"left\"},\"paper_bgcolor\":\"white\",\"plot_bgcolor\":\"#E5ECF6\",\"polar\":{\"bgcolor\":\"#E5ECF6\",\"angularaxis\":{\"gridcolor\":\"white\",\"linecolor\":\"white\",\"ticks\":\"\"},\"radialaxis\":{\"gridcolor\":\"white\",\"linecolor\":\"white\",\"ticks\":\"\"}},\"ternary\":{\"bgcolor\":\"#E5ECF6\",\"aaxis\":{\"gridcolor\":\"white\",\"linecolor\":\"white\",\"ticks\":\"\"},\"baxis\":{\"gridcolor\":\"white\",\"linecolor\":\"white\",\"ticks\":\"\"},\"caxis\":{\"gridcolor\":\"white\",\"linecolor\":\"white\",\"ticks\":\"\"}},\"coloraxis\":{\"colorbar\":{\"outlinewidth\":0,\"ticks\":\"\"}},\"colorscale\":{\"sequential\":[[0.0,\"#0d0887\"],[0.1111111111111111,\"#46039f\"],[0.2222222222222222,\"#7201a8\"],[0.3333333333333333,\"#9c179e\"],[0.4444444444444444,\"#bd3786\"],[0.5555555555555556,\"#d8576b\"],[0.6666666666666666,\"#ed7953\"],[0.7777777777777778,\"#fb9f3a\"],[0.8888888888888888,\"#fdca26\"],[1.0,\"#f0f921\"]],\"sequentialminus\":[[0.0,\"#0d0887\"],[0.1111111111111111,\"#46039f\"],[0.2222222222222222,\"#7201a8\"],[0.3333333333333333,\"#9c179e\"],[0.4444444444444444,\"#bd3786\"],[0.5555555555555556,\"#d8576b\"],[0.6666666666666666,\"#ed7953\"],[0.7777777777777778,\"#fb9f3a\"],[0.8888888888888888,\"#fdca26\"],[1.0,\"#f0f921\"]],\"diverging\":[[0,\"#8e0152\"],[0.1,\"#c51b7d\"],[0.2,\"#de77ae\"],[0.3,\"#f1b6da\"],[0.4,\"#fde0ef\"],[0.5,\"#f7f7f7\"],[0.6,\"#e6f5d0\"],[0.7,\"#b8e186\"],[0.8,\"#7fbc41\"],[0.9,\"#4d9221\"],[1,\"#276419\"]]},\"xaxis\":{\"gridcolor\":\"white\",\"linecolor\":\"white\",\"ticks\":\"\",\"title\":{\"standoff\":15},\"zerolinecolor\":\"white\",\"automargin\":true,\"zerolinewidth\":2},\"yaxis\":{\"gridcolor\":\"white\",\"linecolor\":\"white\",\"ticks\":\"\",\"title\":{\"standoff\":15},\"zerolinecolor\":\"white\",\"automargin\":true,\"zerolinewidth\":2},\"scene\":{\"xaxis\":{\"backgroundcolor\":\"#E5ECF6\",\"gridcolor\":\"white\",\"linecolor\":\"white\",\"showbackground\":true,\"ticks\":\"\",\"zerolinecolor\":\"white\",\"gridwidth\":2},\"yaxis\":{\"backgroundcolor\":\"#E5ECF6\",\"gridcolor\":\"white\",\"linecolor\":\"white\",\"showbackground\":true,\"ticks\":\"\",\"zerolinecolor\":\"white\",\"gridwidth\":2},\"zaxis\":{\"backgroundcolor\":\"#E5ECF6\",\"gridcolor\":\"white\",\"linecolor\":\"white\",\"showbackground\":true,\"ticks\":\"\",\"zerolinecolor\":\"white\",\"gridwidth\":2}},\"shapedefaults\":{\"line\":{\"color\":\"#2a3f5f\"}},\"annotationdefaults\":{\"arrowcolor\":\"#2a3f5f\",\"arrowhead\":0,\"arrowwidth\":1},\"geo\":{\"bgcolor\":\"white\",\"landcolor\":\"#E5ECF6\",\"subunitcolor\":\"white\",\"showland\":true,\"showlakes\":true,\"lakecolor\":\"white\"},\"title\":{\"x\":0.05},\"mapbox\":{\"style\":\"light\"}}},\"title\":{\"text\":\"Gráfico de Filtragem de Carregadores para Viagem\",\"y\":0.9,\"x\":0.5,\"xanchor\":\"center\",\"yanchor\":\"top\"},\"font\":{\"family\":\"Arial, sans-serif\",\"size\":14,\"color\":\"RebeccaPurple\"}},                        {\"responsive\": true}                    ).then(function(){\n",
              "                            \n",
              "var gd = document.getElementById('5b9e6320-03c1-453e-aabe-28594d9815d6');\n",
              "var x = new MutationObserver(function (mutations, observer) {{\n",
              "        var display = window.getComputedStyle(gd).display;\n",
              "        if (!display || display === 'none') {{\n",
              "            console.log([gd, 'removed!']);\n",
              "            Plotly.purge(gd);\n",
              "            observer.disconnect();\n",
              "        }}\n",
              "}});\n",
              "\n",
              "// Listen for the removal of the full notebook cells\n",
              "var notebookContainer = gd.closest('#notebook-container');\n",
              "if (notebookContainer) {{\n",
              "    x.observe(notebookContainer, {childList: true});\n",
              "}}\n",
              "\n",
              "// Listen for the clearing of the current output cell\n",
              "var outputEl = gd.closest('.output');\n",
              "if (outputEl) {{\n",
              "    x.observe(outputEl, {childList: true});\n",
              "}}\n",
              "\n",
              "                        })                };                            </script>        </div>\n",
              "</body>\n",
              "</html>"
            ]
          },
          "metadata": {}
        }
      ]
    },
    {
      "cell_type": "markdown",
      "source": [
        "## 5. Desenvolvimento do Planejador de Rotas Interativo\n",
        "\n",
        "Com os dados analisados e preparados, o passo final é consolidar nossa lógica em uma ferramenta interativa. Esta seção contém o protótipo funcional do planejador de rotas. A ferramenta permite que o usuário insira uma cidade de origem e destino, defina a autonomia de seu veículo e simule a viabilidade da viagem.\n",
        "\n",
        "O aplicativo utiliza a API do OpenRouteService para:\n",
        "1.  **Geocodificar:** Converter os nomes das cidades em coordenadas geográficas.\n",
        "2.  **Roteirizar:** Traçar a rota real ao longo das estradas existentes.\n",
        "\n",
        "A simulação então analisa a rota, identifica os carregadores disponíveis e fornece um relatório de viabilidade para cada segmento da viagem, culminando em um mapa interativo com o trajeto."
      ],
      "metadata": {
        "id": "azkvwNysgMp9"
      }
    },
    {
      "cell_type": "markdown",
      "source": [
        "### 5.1. Definição de Todas as Funções Auxiliares"
      ],
      "metadata": {
        "id": "89QxhJOsgiQj"
      }
    },
    {
      "cell_type": "code",
      "source": [
        "# Configuração do cliente da API do OpenRouteService\n",
        "ors_api_key = '5b3ce3597851110001cf624873fa4cab1c4946f9b5b642c29b34621c'\n",
        "ors_client = openrouteservice.Client(key=ors_api_key)\n",
        "\n",
        "def obter_coordenadas_por_endereco(client, endereco):\n",
        "    \"\"\"Converte um nome de cidade/endereço em coordenadas (lat, lon).\"\"\"\n",
        "    try:\n",
        "        geocode_result = client.pelias_search(text=endereco, size=1)\n",
        "        if not geocode_result['features']:\n",
        "            print(f\"🔴 Endereço não encontrado: {endereco}\")\n",
        "            return None\n",
        "        lon, lat = geocode_result['features'][0]['geometry']['coordinates']\n",
        "        return (lat, lon)\n",
        "    except Exception as e:\n",
        "        print(f\"Erro na geocodificação: {e}\")\n",
        "        return None\n",
        "\n",
        "def obter_rota_real(client, coord_origem, coord_destino):\n",
        "    \"\"\"Pede a rota real para a API do ORS.\"\"\"\n",
        "    coords = ((coord_origem[1], coord_origem[0]), (coord_destino[1], coord_destino[0]))\n",
        "    try:\n",
        "        route = client.directions(coordinates=coords, profile='driving-car', format='geojson')\n",
        "        route_line = LineString(route['features'][0]['geometry']['coordinates'])\n",
        "        distancia_total_km = route['features'][0]['properties']['summary']['distance'] / 1000\n",
        "        route_coords_latlon = [(p[1], p[0]) for p in route_line.coords]\n",
        "        return {\"line\": LineString(route_coords_latlon), \"distancia_km\": distancia_total_km, \"coords\": route_coords_latlon}\n",
        "    except Exception as e:\n",
        "        print(f\"Erro ao obter rota da API: {e}\")\n",
        "        return None\n",
        "\n",
        "def simular_viagem_na_rota(rota, autonomia_km, df_carregadores):\n",
        "    \"\"\"Simula a viagem e imprime o status de cada segmento.\"\"\"\n",
        "    carregadores_na_rota = []\n",
        "    for _, carregador in df_carregadores.iterrows():\n",
        "        ponto_carregador = Point(carregador['AddressInfo.Latitude'], carregador['AddressInfo.Longitude'])\n",
        "        if rota['line'].distance(ponto_carregador) * 111 <= 10: # Raio de 10km da rota\n",
        "            carregadores_na_rota.append(carregador)\n",
        "\n",
        "    df_carregadores_filtrados = pd.DataFrame(carregadores_na_rota)\n",
        "    if df_carregadores_filtrados.empty:\n",
        "        print(\"🔴 Nenhum carregador encontrado próximo à rota da estrada.\")\n",
        "        return {\"viagem_viavel\": False}\n",
        "\n",
        "    print(f\"Encontrados {len(df_carregadores_filtrados)} carregadores ao longo da estrada.\")\n",
        "    caminho_percorrido_coords = [rota['coords'][0]]\n",
        "    viagem_viavel = True\n",
        "    segmento_num = 1\n",
        "    while True:\n",
        "        localizacao_atual = caminho_percorrido_coords[-1]\n",
        "        distancia_restante_total = geodesic(localizacao_atual, rota['coords'][-1]).kilometers\n",
        "        print(f\"\\n--- Segmento {segmento_num} ---\")\n",
        "        print(f\"Partindo de: {np.round(localizacao_atual, 2)}. Faltam {int(distancia_restante_total)} km.\")\n",
        "        if distancia_restante_total <= autonomia_km:\n",
        "            print(\"Resultado: 🟢 VERDE - Destino final ao alcance da autonomia atual!\")\n",
        "            break\n",
        "        paradas_possiveis = []\n",
        "        for _, carregador in df_carregadores_filtrados.iterrows():\n",
        "            coord_carregador = (carregador['AddressInfo.Latitude'], carregador['AddressInfo.Longitude'])\n",
        "            dist_ate_carregador = geodesic(localizacao_atual, coord_carregador).kilometers\n",
        "            if dist_ate_carregador > 0 and dist_ate_carregador <= autonomia_km and geodesic(coord_carregador, rota['coords'][-1]).kilometers < distancia_restante_total:\n",
        "                paradas_possiveis.append(carregador)\n",
        "        num_paradas = len(paradas_possiveis)\n",
        "        if num_paradas == 0:\n",
        "            print(f\"Resultado: 🔴 VERMELHO - Falha! Não foi possível encontrar uma próxima parada ao alcance.\")\n",
        "            viagem_viavel = False\n",
        "            distancias_proximos_pontos = []\n",
        "            for _, carregador in df_carregadores_filtrados.iterrows():\n",
        "                if geodesic( (carregador['AddressInfo.Latitude'], carregador['AddressInfo.Longitude']), rota['coords'][-1]).kilometers < distancia_restante_total:\n",
        "                    distancias_proximos_pontos.append(geodesic(localizacao_atual, (carregador['AddressInfo.Latitude'], carregador['AddressInfo.Longitude'])).kilometers)\n",
        "            autonomia_minima = min(distancias_proximos_pontos) if distancias_proximos_pontos else distancia_restante_total\n",
        "            return {\"viagem_viavel\": False, \"autonomia_minima\": math.ceil(autonomia_minima)}\n",
        "        elif num_paradas <= 2:\n",
        "            print(f\"Resultado: 🟡 AMARELO - Apenas {num_paradas} opção(ões) de recarga. Planeje com cuidado.\")\n",
        "        else:\n",
        "            print(f\"Resultado: 🟢 VERDE - {num_paradas} opções de recarga. Boa cobertura.\")\n",
        "        paradas_possiveis_df = pd.DataFrame(paradas_possiveis)\n",
        "        paradas_possiveis_df['dist'] = paradas_possiveis_df.apply(lambda row: geodesic(localizacao_atual, (row['AddressInfo.Latitude'], row['AddressInfo.Longitude'])).kilometers, axis=1)\n",
        "        proxima_parada_info = paradas_possiveis_df.sort_values('dist').iloc[0]\n",
        "        caminho_percorrido_coords.append((proxima_parada_info['AddressInfo.Latitude'], proxima_parada_info['AddressInfo.Longitude']))\n",
        "        segmento_num += 1\n",
        "    caminho_percorrido_coords.append(rota['coords'][-1])\n",
        "    print(\"\\n--- Relatório Final da Viagem ---\")\n",
        "    if viagem_viavel: print(\"✅ Simulação concluída com sucesso!\")\n",
        "    return {\"viagem_viavel\": True, \"caminho_coords\": caminho_percorrido_coords, \"carregadores_encontrados_df\": df_carregadores_filtrados, \"rota_completa_coords\": rota['coords']}\n",
        "\n",
        "def desenhar_mapa_folium_real(resultado_simulacao):\n",
        "    \"\"\"Recebe o resultado da simulação e desenha um mapa limpo.\"\"\"\n",
        "    rota_completa = resultado_simulacao[\"rota_completa_coords\"]\n",
        "    df_carregadores_na_rota = resultado_simulacao[\"carregadores_encontrados_df\"]\n",
        "    avg_lat = np.mean([p[0] for p in rota_completa]); avg_lon = np.mean([p[1] for p in rota_completa])\n",
        "    mapa = folium.Map(location=[avg_lat, avg_lon], zoom_start=8, height=600)\n",
        "    folium.PolyLine(rota_completa, color=\"#007BFF\", weight=5, opacity=0.8, popup=\"Rota da Estrada\").add_to(mapa)\n",
        "    folium.Marker(rota_completa[0], popup=\"Origem\", icon=folium.Icon(color='green', icon='play')).add_to(mapa)\n",
        "    folium.Marker(rota_completa[-1], popup=\"Destino\", icon=folium.Icon(color='red', icon='stop')).add_to(mapa)\n",
        "    if not df_carregadores_na_rota.empty:\n",
        "        for _, carregador in df_carregadores_na_rota.iterrows():\n",
        "            folium.CircleMarker(location=[carregador['AddressInfo.Latitude'], carregador['AddressInfo.Longitude']], radius=5, color='#003366', fill=True, fill_color='#003366', popup=carregador['AddressInfo.Title']).add_to(mapa)\n",
        "    return mapa"
      ],
      "metadata": {
        "id": "OojSbevggWsW"
      },
      "execution_count": 10,
      "outputs": []
    },
    {
      "cell_type": "markdown",
      "source": [
        "### 5.2. Interface Interativa do Planejador"
      ],
      "metadata": {
        "id": "z-tdZ_5mhy7p"
      }
    },
    {
      "cell_type": "code",
      "source": [
        "df_para_simulacao = df_publico.copy()\n",
        "\n",
        "# Sua chave da API do OpenRouteService.\n",
        "ors_api_key = '5b3ce3597851110001cf624873fa4cab1c4946f9b5b642c29b34621c'\n",
        "\n",
        "# Cria o cliente da API\n",
        "ors_client = openrouteservice.Client(key=ors_api_key)\n",
        "\n",
        "\n",
        "# FUNÇÕES DE API (Geocodificação e Rota)\n",
        "def obter_coordenadas_por_endereco(client, endereco):\n",
        "    \"\"\"Converte um nome de cidade/endereço em coordenadas (lat, lon).\"\"\"\n",
        "    try:\n",
        "        geocode_result = client.pelias_search(text=endereco, size=1)\n",
        "        if not geocode_result['features']:\n",
        "            print(f\"🔴 Endereço não encontrado: {endereco}\")\n",
        "            return None\n",
        "        lon, lat = geocode_result['features'][0]['geometry']['coordinates']\n",
        "        return (lat, lon)\n",
        "    except Exception as e:\n",
        "        print(f\"Erro na geocodificação: {e}\")\n",
        "        return None\n",
        "\n",
        "def obter_nome_local_por_coord(client, coord):\n",
        "    \"\"\"Converte coordenadas (lat, lon) em um nome de local.\"\"\"\n",
        "    try:\n",
        "        # Formato para a API é (longitude, latitude)\n",
        "        reverse_result = client.pelias_reverse(point=(coord[1], coord[0]), size=1)\n",
        "        if not reverse_result['features']:\n",
        "            return f\"Coordenadas {np.round(coord, 2)}\" # Fallback\n",
        "        return reverse_result['features'][0]['properties'].get('label', f\"Coordenadas {np.round(coord, 2)}\")\n",
        "    except Exception:\n",
        "        return f\"Coordenadas {np.round(coord, 2)}\"\n",
        "\n",
        "def obter_rota_real(client, coord_origem, coord_destino):\n",
        "    \"\"\"Pede a rota real para a API do ORS.\"\"\"\n",
        "    coords = ((coord_origem[1], coord_origem[0]), (coord_destino[1], coord_destino[0]))\n",
        "    try:\n",
        "        route = client.directions(coordinates=coords, profile='driving-car', format='geojson')\n",
        "        route_line = LineString(route['features'][0]['geometry']['coordinates'])\n",
        "        distancia_total_km = route['features'][0]['properties']['summary']['distance'] / 1000\n",
        "        route_coords_latlon = [(p[1], p[0]) for p in route_line.coords]\n",
        "        return {\"line\": LineString(route_coords_latlon), \"distancia_km\": distancia_total_km, \"coords\": route_coords_latlon}\n",
        "    except Exception as e:\n",
        "        print(f\"Erro ao obter rota da API: {e}\")\n",
        "        return None\n",
        "\n",
        "def simular_viagem_na_rota(rota, autonomia_km, df_carregadores):\n",
        "    carregadores_na_rota = []\n",
        "    for _, carregador in df_carregadores.iterrows():\n",
        "        ponto_carregador = Point(carregador['AddressInfo.Latitude'], carregador['AddressInfo.Longitude'])\n",
        "        if rota['line'].distance(ponto_carregador) * 111 <= 10:\n",
        "            carregadores_na_rota.append(carregador)\n",
        "\n",
        "    df_carregadores_filtrados = pd.DataFrame(carregadores_na_rota)\n",
        "    if df_carregadores_filtrados.empty:\n",
        "        print(\"🔴 Nenhum carregador encontrado próximo à rota da estrada.\")\n",
        "        return {\"viagem_viavel\": False}\n",
        "\n",
        "    print(f\"Encontrados {len(df_carregadores_filtrados)} carregadores ao longo da estrada.\")\n",
        "    caminho_percorrido_coords = [rota['coords'][0]]\n",
        "    viagem_viavel = True\n",
        "    segmento_num = 1\n",
        "\n",
        "    while True:\n",
        "        localizacao_atual = caminho_percorrido_coords[-1]\n",
        "        distancia_restante_total = geodesic(localizacao_atual, rota['coords'][-1]).kilometers\n",
        "\n",
        "        # OBTÉM O NOME DO LOCAL ATUAL ANTES DE IMPRIMIR\n",
        "        nome_local_atual = obter_nome_local_por_coord(ors_client, localizacao_atual)\n",
        "\n",
        "        print(f\"\\n--- Segmento {segmento_num} ---\")\n",
        "        # USA O NOME DO LOCAL NA MENSAGEM\n",
        "        print(f\"Partindo de: {nome_local_atual}. Faltam {int(distancia_restante_total)} km.\")\n",
        "\n",
        "        if distancia_restante_total <= autonomia_km:\n",
        "            print(\"Resultado: 🟢 VERDE - Destino final ao alcance da autonomia atual!\")\n",
        "            break\n",
        "\n",
        "        paradas_possiveis = []\n",
        "        for _, carregador in df_carregadores_filtrados.iterrows():\n",
        "            coord_carregador = (carregador['AddressInfo.Latitude'], carregador['AddressInfo.Longitude'])\n",
        "            dist_ate_carregador = geodesic(localizacao_atual, coord_carregador).kilometers\n",
        "            if dist_ate_carregador > 0 and dist_ate_carregador <= autonomia_km and geodesic(coord_carregador, rota['coords'][-1]).kilometers < distancia_restante_total:\n",
        "                paradas_possiveis.append(carregador)\n",
        "\n",
        "        num_paradas = len(paradas_possiveis)\n",
        "        if num_paradas == 0:\n",
        "            print(f\"Resultado: 🔴 VERMELHO - Falha! Não foi possível encontrar uma próxima parada ao alcance.\")\n",
        "            viagem_viavel = False\n",
        "            distancias_proximos_pontos = []\n",
        "            for _, carregador in df_carregadores_filtrados.iterrows():\n",
        "                if geodesic((carregador['AddressInfo.Latitude'], carregador['AddressInfo.Longitude']), rota['coords'][-1]).kilometers < distancia_restante_total:\n",
        "                    distancias_proximos_pontos.append(geodesic(localizacao_atual, (carregador['AddressInfo.Latitude'], carregador['AddressInfo.Longitude'])).kilometers)\n",
        "            autonomia_minima = min(distancias_proximos_pontos) if distancias_proximos_pontos else distancia_restante_total\n",
        "            return {\"viagem_viavel\": False, \"autonomia_minima\": math.ceil(autonomia_minima)}\n",
        "        elif num_paradas <= 2:\n",
        "            print(f\"Resultado: 🟡 AMARELO - Apenas {num_paradas} opção(ões) de recarga.\")\n",
        "        else:\n",
        "            print(f\"Resultado: 🟢 VERDE - {num_paradas} opções de recarga.\")\n",
        "\n",
        "        paradas_possiveis_df = pd.DataFrame(paradas_possiveis)\n",
        "        paradas_possiveis_df['dist'] = paradas_possiveis_df.apply(lambda row: geodesic(localizacao_atual, (row['AddressInfo.Latitude'], row['AddressInfo.Longitude'])).kilometers, axis=1)\n",
        "        proxima_parada_info = paradas_possiveis_df.sort_values('dist').iloc[0]\n",
        "        caminho_percorrido_coords.append((proxima_parada_info['AddressInfo.Latitude'], proxima_parada_info['AddressInfo.Longitude']))\n",
        "        segmento_num += 1\n",
        "\n",
        "    caminho_percorrido_coords.append(rota['coords'][-1])\n",
        "    print(\"\\n--- Relatório Final da Viagem ---\")\n",
        "    if viagem_viavel: print(\"✅ Simulação concluída com sucesso!\")\n",
        "\n",
        "    return {\"viagem_viavel\": True, \"caminho_coords\": caminho_percorrido_coords, \"carregadores_encontrados_df\": df_carregadores_filtrados, \"rota_completa_coords\": rota['coords']}\n",
        "\n",
        "def desenhar_mapa_folium_real(resultado_simulacao):\n",
        "    caminho_paradas = resultado_simulacao[\"caminho_coords\"]\n",
        "    rota_completa = resultado_simulacao[\"rota_completa_coords\"]\n",
        "    df_carregadores_na_rota = resultado_simulacao[\"carregadores_encontrados_df\"]\n",
        "    avg_lat = np.mean([p[0] for p in rota_completa])\n",
        "    avg_lon = np.mean([p[1] for p in rota_completa])\n",
        "    mapa = folium.Map(location=[avg_lat, avg_lon], zoom_start=8, height=600)\n",
        "    folium.PolyLine(rota_completa, color=\"#007BFF\", weight=5, opacity=0.8, popup=\"Rota da Estrada\").add_to(mapa)\n",
        "    folium.Marker(rota_completa[0], popup=\"Origem\", icon=folium.Icon(color='green', icon='play')).add_to(mapa)\n",
        "    folium.Marker(rota_completa[-1], popup=\"Destino\", icon=folium.Icon(color='red', icon='stop')).add_to(mapa)\n",
        "    if not df_carregadores_na_rota.empty:\n",
        "        for _, carregador in df_carregadores_na_rota.iterrows():\n",
        "            folium.CircleMarker(location=[carregador['AddressInfo.Latitude'], carregador['AddressInfo.Longitude']], radius=5, color='#003366', fill=True, fill_color='#003366', popup=carregador['AddressInfo.Title']).add_to(mapa)\n",
        "    return mapa\n",
        "\n",
        "style = {'description_width': 'initial'}\n",
        "origem_cidade = widgets.Text(value='São Paulo, SP', description='Cidade de Origem:', style=style)\n",
        "destino_cidade = widgets.Text(value='Rio de Janeiro, RJ', description='Cidade de Destino:', style=style)\n",
        "autonomia_slider = widgets.IntSlider(value=300, min=50, max=600, step=10, description='Autonomia (km):', style=style, continuous_update=False)\n",
        "botao_simular = widgets.Button(description=\"Simular Rota e Gerar Mapa\", button_style='success')\n",
        "out_texto = widgets.Output()\n",
        "out_mapa = widgets.Output()\n",
        "\n",
        "def on_button_clicked_final(b):\n",
        "    out_texto.clear_output()\n",
        "    out_mapa.clear_output(wait=True)\n",
        "    with out_texto:\n",
        "\n",
        "        orig_coord = obter_coordenadas_por_endereco(ors_client, origem_cidade.value)\n",
        "        dest_coord = obter_coordenadas_por_endereco(ors_client, destino_cidade.value)\n",
        "        if not orig_coord or not dest_coord: return\n",
        "        autonomia = autonomia_slider.value\n",
        "        rota = obter_rota_real(ors_client, orig_coord, dest_coord)\n",
        "\n",
        "        if rota:\n",
        "            print(\"Rota obtida com sucesso! \\nSimulando viagem...\")\n",
        "            resultado = simular_viagem_na_rota(rota, autonomia, df_publico)\n",
        "\n",
        "            if resultado[\"viagem_viavel\"]:\n",
        "                print(\"\\n Gerando mapa da rota...\")\n",
        "                with out_mapa:\n",
        "                    mapa_resultado = desenhar_mapa_folium_real(resultado)\n",
        "                    display(mapa_resultado)\n",
        "            else:\n",
        "                print(\"\\n❌ Simulação falhou.\")\n",
        "                if \"autonomia_minima\" in resultado:\n",
        "                    print(f\"Para completar o próximo trecho, seu veículo precisaria de uma autonomia de pelo menos {resultado['autonomia_minima']} km.\")\n",
        "                print(\"Não foi possível gerar um mapa para uma rota inviável.\")\n",
        "\n",
        "botao_simular.on_click(on_button_clicked_final)\n",
        "\n",
        "app_layout = widgets.VBox([\n",
        "    widgets.Label('Insira a origem, destino e autonomia do veículo:'),\n",
        "    origem_cidade,\n",
        "    destino_cidade,\n",
        "    autonomia_slider,\n",
        "    botao_simular,\n",
        "    out_texto, # Área para o texto\n",
        "    out_mapa   # Área para o mapa\n",
        "])\n",
        "\n",
        "display(app_layout)"
      ],
      "metadata": {
        "colab": {
          "base_uri": "https://localhost:8080/",
          "height": 177,
          "referenced_widgets": [
            "0f7e5f0b037a406dae4d41c624f6d7ad",
            "9647fa88b4be4203b226c9c238868ee4",
            "31957e3fa9fb43fb910a0e67060b8e52",
            "6a7cd304c6694d33b56bf6f48714c2f3",
            "c77bb7f248124e779424ba27b313e6da",
            "1746ee3f9b134f9f9f1d0964b29466b6",
            "3e382d2090004979b97ce024c6c9b412",
            "8ba1e99ad5d148f0a1816fc996297b21",
            "4038b417b3974cc19dd74a9d55a8a805",
            "124faf68cbb34f69a957387ed9041880",
            "dd11a1c6601f487187f9e6ba3d1b2016",
            "6963c11997634e61bbb6e476120f46a8",
            "d3983d83692b4e05863803fdfeaf1381",
            "cd9518126f1f406dafcc7c067de4572d",
            "76cbcf4a4f184a1ab2a7aed5008f9486",
            "4e795448c9bf4941903cbf7a3e369a8b",
            "a03a3b181baf49159af0df44d95910fb",
            "3368e6b2641e4f3ebfe00c032a84ecc4",
            "48f944ba7b424ccfb018cff9397eb437",
            "fe7f646356d541b5bb3209cbaf5e0321",
            "37a143054a6b448caf3d4e58f52eff70"
          ]
        },
        "id": "jAaeDdsZhAPl",
        "outputId": "2beb5007-d881-4802-e20b-75c85785ff32"
      },
      "execution_count": 11,
      "outputs": [
        {
          "output_type": "display_data",
          "data": {
            "text/plain": [
              "VBox(children=(Label(value='Insira a origem, destino e autonomia do veículo:'), Text(value='São Paulo, SP', de…"
            ],
            "application/vnd.jupyter.widget-view+json": {
              "version_major": 2,
              "version_minor": 0,
              "model_id": "0f7e5f0b037a406dae4d41c624f6d7ad"
            }
          },
          "metadata": {
            "application/vnd.jupyter.widget-view+json": {
              "colab": {
                "custom_widget_manager": {
                  "url": "https://ssl.gstatic.com/colaboratory-static/widgets/colab-cdn-widget-manager/2b70e893a8ba7c0f/manager.min.js"
                }
              }
            }
          }
        }
      ]
    },
    {
      "cell_type": "markdown",
      "source": [
        "## 6. Conclusão\n",
        "\n",
        "Este projeto demonstrou um fluxo completo de análise de dados, desde a coleta e limpeza até o desenvolvimento de um protótipo interativo. As principais conclusões validaram nossas hipóteses iniciais:\n",
        "\n",
        "1.  **Concentração Geográfica (Hipótese 1 Validada):** A análise confirmou uma forte concentração de postos de recarga nas regiões Sul e Sudeste do Brasil, com São Paulo liderando de forma proeminente. Regiões como Norte e Centro-Oeste apresentam \"desertos de recarga\", tornando viagens elétricas um grande desafio.\n",
        "\n",
        "2.  **Escassez de Carregadores Rápidos (Hipótese 2 Validada):** A descoberta mais crítica foi a ausência de uma rede confiável de carregadores rápidos (DC) de acesso público nos dados. Isso representa o maior obstáculo para a adoção em massa de VEs para viagens de longa distância e foi classificado como um \"Sinal Vermelho\" para o viajante com pressa.\n",
        "\n",
        "3.  **Viabilidade de Rotas Principais (Hipótese 3 Validada):** Utilizando a rede de carregadores mais lenta (AC), a simulação interativa provou que rotas principais, como São Paulo-Rio de Janeiro, são viáveis para veículos com autonomia de 300km. A ferramenta demonstrou, segmento a segmento, que existem opções de recarga, embora exijam planejamento e paradas mais longas.\n",
        "\n",
        "A ferramenta desenvolvida serve como um protótipo robusto que, com a integração de mais dados (como tempo de recarga e status em tempo real), poderia se tornar um produto de grande valor para motoristas de veículos elétricos no Brasil."
      ],
      "metadata": {
        "id": "pjtca40gmS-f"
      }
    }
  ]
}